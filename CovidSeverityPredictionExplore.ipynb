{
  "nbformat": 4,
  "nbformat_minor": 0,
  "metadata": {
    "colab": {
      "name": "CovidSeverityPredictionExplore.ipynb",
      "provenance": [],
      "machine_shape": "hm",
      "authorship_tag": "ABX9TyNchcksc/n3tlFPeDqs4egS",
      "include_colab_link": true
    },
    "kernelspec": {
      "name": "python3",
      "display_name": "Python 3"
    },
    "language_info": {
      "name": "python"
    }
  },
  "cells": [
    {
      "cell_type": "markdown",
      "metadata": {
        "id": "view-in-github",
        "colab_type": "text"
      },
      "source": [
        "<a href=\"https://colab.research.google.com/github/WilliamAshbee/DataminingAssignments/blob/main/CovidSeverityPredictionExplore.ipynb\" target=\"_parent\"><img src=\"https://colab.research.google.com/assets/colab-badge.svg\" alt=\"Open In Colab\"/></a>"
      ]
    },
    {
      "cell_type": "code",
      "metadata": {
        "colab": {
          "base_uri": "https://localhost:8080/"
        },
        "id": "UtGl0hMsYSX7",
        "outputId": "9d05999f-b7bd-4253-be2f-7c14503bfd89"
      },
      "source": [
        "print('hello')"
      ],
      "execution_count": 1,
      "outputs": [
        {
          "output_type": "stream",
          "text": [
            "hello\n"
          ],
          "name": "stdout"
        }
      ]
    },
    {
      "cell_type": "code",
      "metadata": {
        "id": "a2eji6-ZYZnb"
      },
      "source": [
        "#https://www.kaggle.com/iamhungundji/covid19-symptoms-checker\n",
        "#bonus work dataset: predict severity\n",
        "# https://github.com/WilliamAshbee/DataminingAssignments/blob/main/covid-cleaned-data.csv\n",
        "#!wget https://raw.githubusercontent.com/WilliamAshbee/DataminingAssignments/main/covid-cleaned-data.csv"
      ],
      "execution_count": 2,
      "outputs": []
    },
    {
      "cell_type": "code",
      "metadata": {
        "id": "daJ0zGfQb3Iw"
      },
      "source": [
        "import pandas as pd\n",
        "url = 'https://raw.githubusercontent.com/WilliamAshbee/DataminingAssignments/main/covid-cleaned-data.csv'\n",
        "df_cov = pd.read_csv(url,error_bad_lines=False)"
      ],
      "execution_count": 3,
      "outputs": []
    },
    {
      "cell_type": "code",
      "metadata": {
        "id": "6Fjh6jMscLHT",
        "outputId": "b8006d59-e30e-4e96-c016-919971a44421",
        "colab": {
          "base_uri": "https://localhost:8080/"
        }
      },
      "source": [
        "df_cov.shape"
      ],
      "execution_count": 4,
      "outputs": [
        {
          "output_type": "execute_result",
          "data": {
            "text/plain": [
              "(316800, 27)"
            ]
          },
          "metadata": {
            "tags": []
          },
          "execution_count": 4
        }
      ]
    },
    {
      "cell_type": "code",
      "metadata": {
        "id": "flFIHYI_eBHl",
        "outputId": "114039e2-5ab0-4276-e285-12af687026d1",
        "colab": {
          "base_uri": "https://localhost:8080/"
        }
      },
      "source": [
        "df_cov.columns"
      ],
      "execution_count": 5,
      "outputs": [
        {
          "output_type": "execute_result",
          "data": {
            "text/plain": [
              "Index(['Fever', 'Tiredness', 'Dry-Cough', 'Difficulty-in-Breathing',\n",
              "       'Sore-Throat', 'None_Sympton', 'Pains', 'Nasal-Congestion',\n",
              "       'Runny-Nose', 'Diarrhea', 'None_Experiencing', 'Age_0-9', 'Age_10-19',\n",
              "       'Age_20-24', 'Age_25-59', 'Age_60+', 'Gender_Female', 'Gender_Male',\n",
              "       'Gender_Transgender', 'Severity_Mild', 'Severity_Moderate',\n",
              "       'Severity_None', 'Severity_Severe', 'Contact_Dont-Know', 'Contact_No',\n",
              "       'Contact_Yes', 'Country'],\n",
              "      dtype='object')"
            ]
          },
          "metadata": {
            "tags": []
          },
          "execution_count": 5
        }
      ]
    },
    {
      "cell_type": "code",
      "metadata": {
        "id": "UajtItXwAhZ2",
        "outputId": "fa888b96-5792-4b3b-c5b0-2919b7d4796b",
        "colab": {
          "base_uri": "https://localhost:8080/"
        }
      },
      "source": [
        "columns = ['Fever', 'Tiredness', 'Dry-Cough', 'Difficulty-in-Breathing',\n",
        "       'Sore-Throat', 'None_Sympton', 'Pains', 'Nasal-Congestion',\n",
        "       'Runny-Nose', 'Diarrhea', 'None_Experiencing', 'Age_0-9', 'Age_10-19',\n",
        "       'Age_20-24', 'Age_25-59', 'Age_60+', 'Gender_Female', 'Gender_Male',\n",
        "       'Gender_Transgender', 'Severity_Mild', 'Severity_Moderate',\n",
        "       'Severity_None', 'Severity_Severe', 'Contact_Dont-Know', 'Contact_No',\n",
        "       'Contact_Yes', 'Country']\n",
        "cmap = dict()\n",
        "for i in range(len(columns)):\n",
        "  cmap[columns[i]] = i \n",
        "\n",
        "yfcols = [ 'Severity_Severe']\n",
        "\n",
        "yfinds = [cmap[col] for col in yfcols]\n",
        "\n",
        "ycols = [  'Severity_Mild', 'Severity_Moderate',\n",
        "       'Severity_None', 'Severity_Severe']\n",
        "\n",
        "yinds = [cmap[col] for col in ycols]\n",
        "\n",
        "\n",
        "print(yinds,yfinds)"
      ],
      "execution_count": 6,
      "outputs": [
        {
          "output_type": "stream",
          "text": [
            "[19, 20, 21, 22] [22]\n"
          ],
          "name": "stdout"
        }
      ]
    },
    {
      "cell_type": "code",
      "metadata": {
        "id": "-IbD51wkeVcN"
      },
      "source": [
        "df_nump = df_cov.to_numpy()"
      ],
      "execution_count": 7,
      "outputs": []
    },
    {
      "cell_type": "code",
      "metadata": {
        "id": "cA47UYN2CqCb",
        "outputId": "75accf6d-8100-4ff7-cdfa-73177cc4613e",
        "colab": {
          "base_uri": "https://localhost:8080/"
        }
      },
      "source": [
        "import numpy as np\n",
        "y = df_nump[:,yfinds]\n",
        "print(y)\n",
        "for i in range(2):\n",
        "  print('class',i,'total',np.sum(y==i))"
      ],
      "execution_count": 8,
      "outputs": [
        {
          "output_type": "stream",
          "text": [
            "[[0]\n",
            " [0]\n",
            " [0]\n",
            " ...\n",
            " [0]\n",
            " [0]\n",
            " [0]]\n",
            "class 0 total 237600\n",
            "class 1 total 79200\n"
          ],
          "name": "stdout"
        }
      ]
    },
    {
      "cell_type": "code",
      "metadata": {
        "id": "w2cLTqQxEW5v",
        "outputId": "262164f0-62ba-4636-a95b-cfbe6223f11f",
        "colab": {
          "base_uri": "https://localhost:8080/"
        }
      },
      "source": [
        "xind = []\n",
        "for i in range(len(columns)-1):\n",
        "  if i not in yinds:\n",
        "    xind.append(i)\n",
        "print(xind)"
      ],
      "execution_count": 9,
      "outputs": [
        {
          "output_type": "stream",
          "text": [
            "[0, 1, 2, 3, 4, 5, 6, 7, 8, 9, 10, 11, 12, 13, 14, 15, 16, 17, 18, 23, 24, 25]\n"
          ],
          "name": "stdout"
        }
      ]
    },
    {
      "cell_type": "code",
      "metadata": {
        "id": "Da1e8t6TEyIq",
        "outputId": "8ebba867-8794-48a4-f20d-3fd1efb573c7",
        "colab": {
          "base_uri": "https://localhost:8080/"
        }
      },
      "source": [
        "X = df_nump[:,xind].astype(float)\n",
        "print(X)\n",
        "np.random.seed(seed=0)\n",
        "args = np.random.choice(X.shape[0], (int)(X.shape[0]/10.0))\n",
        "X = X[args]"
      ],
      "execution_count": 10,
      "outputs": [
        {
          "output_type": "stream",
          "text": [
            "[[1. 1. 1. ... 0. 0. 1.]\n",
            " [1. 1. 1. ... 0. 1. 0.]\n",
            " [1. 1. 1. ... 1. 0. 0.]\n",
            " ...\n",
            " [0. 0. 0. ... 0. 0. 1.]\n",
            " [0. 0. 0. ... 0. 1. 0.]\n",
            " [0. 0. 0. ... 1. 0. 0.]]\n"
          ],
          "name": "stdout"
        }
      ]
    },
    {
      "cell_type": "code",
      "metadata": {
        "id": "FfAgwnofcbZ7",
        "outputId": "31ed3910-5ea6-4e87-8bd0-624aa3d36ec7",
        "colab": {
          "base_uri": "https://localhost:8080/",
          "height": 69
        }
      },
      "source": [
        "\"\"\"import csv\n",
        "\n",
        "lines =0 \n",
        "with open(\"covid-cleaned-data.csv\") as f:\n",
        "    reader = csv.reader(f)\n",
        "    for row in reader:\n",
        "      lines+=1\n",
        "      if lines > 10:\n",
        "        break\n",
        "      print(\" \".join(row))\n",
        "\"\"\""
      ],
      "execution_count": 11,
      "outputs": [
        {
          "output_type": "execute_result",
          "data": {
            "application/vnd.google.colaboratory.intrinsic+json": {
              "type": "string"
            },
            "text/plain": [
              "'import csv\\n\\nlines =0 \\nwith open(\"covid-cleaned-data.csv\") as f:\\n    reader = csv.reader(f)\\n    for row in reader:\\n      lines+=1\\n      if lines > 10:\\n        break\\n      print(\" \".join(row))\\n'"
            ]
          },
          "metadata": {
            "tags": []
          },
          "execution_count": 11
        }
      ]
    },
    {
      "cell_type": "code",
      "metadata": {
        "id": "LcDIvyXccsnx"
      },
      "source": [
        "\n"
      ],
      "execution_count": 11,
      "outputs": []
    },
    {
      "cell_type": "markdown",
      "metadata": {
        "id": "4iKPi2BjOqfm"
      },
      "source": [
        "https://medium.com/analytics-vidhya/how-to-determine-the-optimal-k-for-k-means-708505d204eb"
      ]
    },
    {
      "cell_type": "code",
      "metadata": {
        "id": "VE6IezrEAao3"
      },
      "source": [
        ""
      ],
      "execution_count": 11,
      "outputs": []
    },
    {
      "cell_type": "code",
      "metadata": {
        "id": "BavpJodMOEx_"
      },
      "source": [
        ""
      ],
      "execution_count": 11,
      "outputs": []
    },
    {
      "cell_type": "code",
      "metadata": {
        "id": "bifLkh4oONb6"
      },
      "source": [
        "\n",
        "from sklearn.cluster import KMeans\n",
        "\n",
        "# function returns WSS score for k values from 1 to kmax\n",
        "def calculate_WSS(points, kmax):\n",
        "  sse = []\n",
        "  for k in range(1, kmax+1):\n",
        "    kmeans = KMeans(n_clusters = k).fit(points)\n",
        "    centroids = kmeans.cluster_centers_\n",
        "    pred_clusters = kmeans.predict(points)\n",
        "    curr_sse = 0\n",
        "    \n",
        "    # calculate square of Euclidean distance of each point from its cluster center and add to current WSS\n",
        "    for i in range(len(points)):\n",
        "      curr_center = centroids[pred_clusters[i]]\n",
        "      for j in range(points.shape[1]):\n",
        "        curr_sse += (points[i, j] - curr_center[j]) ** 2 \n",
        "      \n",
        "    sse.append(curr_sse)\n",
        "  return sse\n"
      ],
      "execution_count": 12,
      "outputs": []
    },
    {
      "cell_type": "code",
      "metadata": {
        "id": "6tvfWfScPUps"
      },
      "source": [
        "wss_list = calculate_WSS(X,4)\n",
        "\n"
      ],
      "execution_count": 13,
      "outputs": []
    },
    {
      "cell_type": "code",
      "metadata": {
        "id": "ieTjfM3eQ04q",
        "outputId": "fd61537d-4a1d-4818-f207-b532b4fa2865",
        "colab": {
          "base_uri": "https://localhost:8080/",
          "height": 312
        }
      },
      "source": [
        "import matplotlib.pyplot as plt\n",
        "xs = [i for i in range(1,5)]\n",
        "\n",
        "fig = plt.figure()\n",
        "ax1 = fig.add_subplot()\n",
        "ax1.set_ylabel('wss')\n",
        "ax1.set_xlabel('k')\n",
        "ax1.set_title('Within-Cluster-Sum of Squared Errors ')\n",
        "\n",
        "plt.plot(xs,wss_list,',-')\n"
      ],
      "execution_count": 14,
      "outputs": [
        {
          "output_type": "execute_result",
          "data": {
            "text/plain": [
              "[<matplotlib.lines.Line2D at 0x7f18fa9416d0>]"
            ]
          },
          "metadata": {
            "tags": []
          },
          "execution_count": 14
        },
        {
          "output_type": "display_data",
          "data": {
            "image/png": "[encoded data removed]",
            "text/plain": [
              "<Figure size 432x288 with 1 Axes>"
            ]
          },
          "metadata": {
            "tags": [],
            "needs_background": "light"
          }
        }
      ]
    },
    {
      "cell_type": "markdown",
      "metadata": {
        "id": "lRRT6f_3Uulh"
      },
      "source": [
        "Within this dataset, it is likely that there are 3 clusters of patients. If this dataset is clean relating to patients, then I would guess the clusters relate to either severity or disease type. "
      ]
    },
    {
      "cell_type": "code",
      "metadata": {
        "id": "wzAikzd-VzXY"
      },
      "source": [
        "from sklearn.cluster import AgglomerativeClustering\n",
        "clustering = AgglomerativeClustering().fit(X)\n"
      ],
      "execution_count": 15,
      "outputs": []
    },
    {
      "cell_type": "code",
      "metadata": {
        "id": "n_32FOnIZeaM",
        "outputId": "56bc864b-79ac-441c-cc8f-b9cd75379d75",
        "colab": {
          "base_uri": "https://localhost:8080/",
          "height": 182
        }
      },
      "source": [
        ""
      ],
      "execution_count": 16,
      "outputs": [
        {
          "output_type": "error",
          "ename": "AttributeError",
          "evalue": "ignored",
          "traceback": [
            "\u001b[0;31m---------------------------------------------------------------------------\u001b[0m",
            "\u001b[0;31mAttributeError\u001b[0m                            Traceback (most recent call last)",
            "\u001b[0;32m<ipython-input-16-d4bf933311aa>\u001b[0m in \u001b[0;36m<module>\u001b[0;34m()\u001b[0m\n\u001b[0;32m----> 1\u001b[0;31m \u001b[0mclustering\u001b[0m\u001b[0;34m.\u001b[0m\u001b[0mcluster_centers_\u001b[0m\u001b[0;34m\u001b[0m\u001b[0;34m\u001b[0m\u001b[0m\n\u001b[0m",
            "\u001b[0;31mAttributeError\u001b[0m: 'AgglomerativeClustering' object has no attribute 'cluster_centers_'"
          ]
        }
      ]
    },
    {
      "cell_type": "code",
      "metadata": {
        "id": "0F3c06xbaVoY"
      },
      "source": [
        ""
      ],
      "execution_count": null,
      "outputs": []
    }
  ]
}