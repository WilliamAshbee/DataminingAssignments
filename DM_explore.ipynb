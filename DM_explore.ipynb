{
  "nbformat": 4,
  "nbformat_minor": 0,
  "metadata": {
    "colab": {
      "name": "DM_explore.ipynb",
      "provenance": [],
      "authorship_tag": "ABX9TyNJ2xvVvUL8jd4fWPKqgJTt",
      "include_colab_link": true
    },
    "kernelspec": {
      "name": "python3",
      "display_name": "Python 3"
    },
    "language_info": {
      "name": "python"
    }
  },
  "cells": [
    {
      "cell_type": "markdown",
      "metadata": {
        "id": "view-in-github",
        "colab_type": "text"
      },
      "source": [
        "<a href=\"https://colab.research.google.com/github/WilliamAshbee/DataminingAssignments/blob/main/DM_explore.ipynb\" target=\"_parent\"><img src=\"https://colab.research.google.com/assets/colab-badge.svg\" alt=\"Open In Colab\"/></a>"
      ]
    },
    {
      "cell_type": "code",
      "metadata": {
        "id": "WidTxXynAuKz"
      },
      "source": [
        "import sklearn as sk\n",
        "import pandas as pd\n",
        "import numpy as np\n"
      ],
      "execution_count": 1,
      "outputs": []
    },
    {
      "cell_type": "code",
      "metadata": {
        "id": "M6-36kRz9YpX"
      },
      "source": [
        "#!wget http://archive.ics.uci.edu/ml/machine-learning-databases/heart-disease/cleve.mod"
      ],
      "execution_count": 2,
      "outputs": []
    },
    {
      "cell_type": "code",
      "metadata": {
        "id": "hdzETJc49fpg"
      },
      "source": [
        "#url = 'http://archive.ics.uci.edu/ml/machine-learning-databases/heart-disease/cleve.mod'\n",
        "#df1 = pd.read_csv(url,header=None,skiprows=(i for i in range(20)),delim_whitespace=True,error_bad_lines=False)\n",
        "\n"
      ],
      "execution_count": 3,
      "outputs": []
    },
    {
      "cell_type": "code",
      "metadata": {
        "id": "BEuvXn3z2bvA"
      },
      "source": [
        "pain = {'angina': 1, 'asympt': 4,'notang':2,'abnang':3}\n",
        "gender = {'male':1,'fem':0}\n",
        "bsl20 = {'true':1,'fal':0}\n",
        "restingecg = {'norm':0,'abn':1, 'hyp':2}\n",
        "exindang = {'true':1,'fal':0}\n",
        "slope = {'up':1, 'flat':2, 'down':3}\n",
        "thal = {'norm':1, 'fix':2, 'rev':3}\n",
        "state= {'buff':1,'sick':-1}\n",
        "code = {'H':0,'S1':1,'S2':2,'S3':3,'S4':4}\n",
        "eleventh = {'?':-10000}\n",
        "twelth = {'?':-10000}\n",
        "#df2 = df1.replace({1: gender,2:pain,5:bsl20,6:restingecg,8:exindang,10:slope,11:eleventh,12:{**thal, **twelth},13:state,14:code})\n"
      ],
      "execution_count": 4,
      "outputs": []
    },
    {
      "cell_type": "code",
      "metadata": {
        "id": "rICJs8D8KCPN"
      },
      "source": [
        "#https://stackoverflow.com/questions/17114904/python-pandas-replacing-strings-in-dataframe-with-numbers\n",
        "#https://pandas.pydata.org/docs/reference/api/pandas.DataFrame.replace.html"
      ],
      "execution_count": 5,
      "outputs": []
    },
    {
      "cell_type": "code",
      "metadata": {
        "id": "k2qXSdYNEeUh"
      },
      "source": [
        "#df2.tail()"
      ],
      "execution_count": 6,
      "outputs": []
    },
    {
      "cell_type": "code",
      "metadata": {
        "id": "VFG5H9_w-SFP"
      },
      "source": [
        "\n",
        "#df2n = df2.to_numpy().astype(float)\n",
        "\n",
        "#df2n.shape\n"
      ],
      "execution_count": 7,
      "outputs": []
    },
    {
      "cell_type": "code",
      "metadata": {
        "id": "1VZ42Oo91ODK"
      },
      "source": [
        "url2 = 'http://archive.ics.uci.edu/ml/machine-learning-databases/heart-disease/processed.cleveland.data'\n",
        "df_clev = pd.read_csv(url2,header=None,error_bad_lines=False)"
      ],
      "execution_count": 8,
      "outputs": []
    },
    {
      "cell_type": "code",
      "metadata": {
        "colab": {
          "base_uri": "https://localhost:8080/"
        },
        "id": "E00P5u6be3U5",
        "outputId": "e70b7f2e-ed07-4369-a455-ce08b7b9f4d0"
      },
      "source": [
        "questionmark = {'?':'-10000'}\n",
        "\n",
        "dfcn = df_clev\n",
        "dfcn = dfcn.replace({11:questionmark,12:questionmark})\n",
        "dfcn = dfcn.to_numpy().astype(float)\n",
        "\n",
        "print(np.sum(dfcn=='?'))#,np.sum(df2n=='?'))"
      ],
      "execution_count": 9,
      "outputs": [
        {
          "output_type": "stream",
          "text": [
            "0\n"
          ],
          "name": "stdout"
        },
        {
          "output_type": "stream",
          "text": [
            "/usr/local/lib/python3.7/dist-packages/ipykernel_launcher.py:7: FutureWarning: elementwise comparison failed; returning scalar instead, but in the future will perform elementwise comparison\n",
            "  import sys\n"
          ],
          "name": "stderr"
        }
      ]
    },
    {
      "cell_type": "code",
      "metadata": {
        "colab": {
          "base_uri": "https://localhost:8080/"
        },
        "id": "r0gWLPhNB_Mc",
        "outputId": "92e8eed0-4953-4a3b-b063-d9f12176aee0"
      },
      "source": [
        "import sklearn as sk\n",
        "from sklearn.linear_model import LogisticRegression\n",
        "import os\n",
        "#change here\n",
        "y = dfcn[:,13]\n",
        "\n",
        "X = dfcn[:,:13]\n",
        "\n",
        "LR = LogisticRegression(max_iter = 100000,random_state=0, solver='lbfgs', multi_class='auto').fit(X, y)\n",
        "round(LR.score(X,y), 5)\n"
      ],
      "execution_count": 10,
      "outputs": [
        {
          "output_type": "execute_result",
          "data": {
            "text/plain": [
              "0.62046"
            ]
          },
          "metadata": {
            "tags": []
          },
          "execution_count": 10
        }
      ]
    },
    {
      "cell_type": "code",
      "metadata": {
        "id": "b6hekr3Q5Cb9"
      },
      "source": [
        "out = LR.predict(X)"
      ],
      "execution_count": 11,
      "outputs": []
    },
    {
      "cell_type": "code",
      "metadata": {
        "colab": {
          "base_uri": "https://localhost:8080/"
        },
        "id": "5iq0bkTC0A4e",
        "outputId": "f8c96cbb-a50f-4a07-dfd9-57fdeb7204c2"
      },
      "source": [
        "from sklearn import svm\n",
        "clf = svm.SVC(decision_function_shape='ovo')\n",
        "print(clf.kernel)\n",
        "clf = clf.fit(X, y)\n",
        "out = clf.predict(X)\n",
        "print(np.mean(out==y))"
      ],
      "execution_count": 12,
      "outputs": [
        {
          "output_type": "stream",
          "text": [
            "rbf\n",
            "0.5412541254125413\n"
          ],
          "name": "stdout"
        }
      ]
    },
    {
      "cell_type": "code",
      "metadata": {
        "colab": {
          "base_uri": "https://localhost:8080/"
        },
        "id": "yLjGvKKN1i_e",
        "outputId": "88803514-3b08-4369-a979-8bb08a06517a"
      },
      "source": [
        "C_2d_range = [1e-2, 1, 1e2]\n",
        "gamma_2d_range = [1e-1, 1, 1e1]\n",
        "classifiers = []\n",
        "for C in C_2d_range:\n",
        "    for gamma in gamma_2d_range:\n",
        "        clf = svm.SVC(C=C, gamma=gamma,decision_function_shape='ovo')\n",
        "        clf.fit(X, y)\n",
        "        out = clf.predict(X)\n",
        "        if np.mean(y==out) > .6:\n",
        "          print(np.mean(y==out),C,gamma)\n",
        "        classifiers.append((C, gamma, clf,np.mean(y==out)))\n",
        "\n",
        "clf = svm.SVC(C=1, gamma=.1,decision_function_shape='ovo')\n",
        "clf.fit(X, y)\n",
        "clf.predict(X)"
      ],
      "execution_count": 13,
      "outputs": [
        {
          "output_type": "stream",
          "text": [
            "1.0 1 0.1\n",
            "1.0 1 1\n",
            "1.0 1 10.0\n",
            "1.0 100.0 0.1\n",
            "1.0 100.0 1\n",
            "1.0 100.0 10.0\n"
          ],
          "name": "stdout"
        },
        {
          "output_type": "execute_result",
          "data": {
            "text/plain": [
              "array([0., 2., 1., 0., 0., 0., 3., 0., 2., 1., 0., 0., 2., 0., 0., 0., 1.,\n",
              "       0., 0., 0., 0., 0., 1., 3., 4., 0., 0., 0., 0., 3., 0., 2., 1., 0.,\n",
              "       0., 0., 3., 1., 3., 0., 4., 0., 0., 0., 1., 4., 0., 4., 0., 0., 0.,\n",
              "       0., 2., 0., 1., 1., 1., 1., 0., 0., 2., 0., 1., 0., 2., 2., 1., 0.,\n",
              "       2., 1., 0., 3., 1., 1., 1., 0., 1., 0., 0., 3., 0., 0., 0., 3., 0.,\n",
              "       0., 0., 0., 0., 0., 0., 3., 0., 0., 0., 1., 2., 3., 0., 0., 0., 0.,\n",
              "       0., 0., 3., 0., 2., 1., 2., 3., 1., 1., 0., 2., 2., 0., 0., 0., 3.,\n",
              "       2., 3., 4., 0., 3., 1., 0., 3., 3., 0., 0., 0., 0., 0., 0., 0., 0.,\n",
              "       4., 3., 1., 0., 0., 1., 0., 1., 0., 1., 4., 0., 0., 0., 0., 0., 0.,\n",
              "       4., 3., 1., 1., 1., 2., 0., 0., 4., 0., 0., 0., 0., 0., 0., 1., 0.,\n",
              "       3., 0., 1., 0., 4., 1., 0., 1., 0., 0., 3., 2., 0., 0., 1., 0., 0.,\n",
              "       2., 1., 2., 0., 3., 1., 2., 0., 3., 0., 0., 0., 1., 0., 0., 0., 0.,\n",
              "       0., 3., 3., 3., 0., 1., 0., 4., 0., 3., 1., 0., 0., 0., 0., 0., 0.,\n",
              "       0., 0., 3., 1., 0., 0., 0., 3., 2., 0., 2., 1., 0., 0., 3., 2., 1.,\n",
              "       0., 0., 0., 0., 0., 2., 0., 2., 2., 1., 3., 0., 0., 1., 0., 0., 0.,\n",
              "       0., 0., 0., 0., 1., 0., 3., 0., 0., 4., 2., 2., 2., 1., 0., 1., 0.,\n",
              "       2., 0., 1., 0., 0., 0., 1., 0., 2., 0., 3., 0., 2., 4., 2., 0., 0.,\n",
              "       0., 1., 0., 2., 2., 1., 0., 3., 1., 1., 2., 3., 1., 0.])"
            ]
          },
          "metadata": {
            "tags": []
          },
          "execution_count": 13
        }
      ]
    },
    {
      "cell_type": "code",
      "metadata": {
        "colab": {
          "base_uri": "https://localhost:8080/"
        },
        "id": "rrHT60jJ2Yjp",
        "outputId": "beac3a79-6278-4d50-d010-0ebf7662d587"
      },
      "source": [
        "from sklearn.neural_network import MLPClassifier\n",
        "clf = MLPClassifier(random_state=1, max_iter=30000,learning_rate_init = .00001).fit(X, y)\n",
        "clf.predict(X)\n",
        "clf.score(X, y)\n"
      ],
      "execution_count": 14,
      "outputs": [
        {
          "output_type": "execute_result",
          "data": {
            "text/plain": [
              "0.594059405940594"
            ]
          },
          "metadata": {
            "tags": []
          },
          "execution_count": 14
        }
      ]
    },
    {
      "cell_type": "code",
      "metadata": {
        "colab": {
          "base_uri": "https://localhost:8080/"
        },
        "id": "wOzU_HZY4Lfj",
        "outputId": "2107dda6-371f-4fdd-c796-8c30ff482034"
      },
      "source": [
        "from sklearn.ensemble import RandomForestClassifier\n",
        "from sklearn.datasets import make_classification\n",
        "#X, y = make_classification(n_samples=1000, n_features=4,\n",
        "#...                            n_informative=2, n_redundant=0,\n",
        "#...                            random_state=0, shuffle=False)\n",
        "clf = RandomForestClassifier(max_depth=7, random_state=0)\n",
        "clf.fit(X, y)\n",
        "print(clf.score(X,y))\n"
      ],
      "execution_count": 15,
      "outputs": [
        {
          "output_type": "stream",
          "text": [
            "0.9702970297029703\n"
          ],
          "name": "stdout"
        }
      ]
    },
    {
      "cell_type": "code",
      "metadata": {
        "colab": {
          "base_uri": "https://localhost:8080/"
        },
        "id": "z1VXy_wS-N-t",
        "outputId": "1e73c1bb-f43d-4dcd-e22e-511b5dcccece"
      },
      "source": [
        "from sklearn.naive_bayes import GaussianNB\n",
        "gnb = GaussianNB().fit(X, y)\n",
        "gnb_score = gnb.score(X,y)\n",
        "print(gnb_score)"
      ],
      "execution_count": 16,
      "outputs": [
        {
          "output_type": "stream",
          "text": [
            "0.18151815181518152\n"
          ],
          "name": "stdout"
        }
      ]
    },
    {
      "cell_type": "code",
      "metadata": {
        "colab": {
          "base_uri": "https://localhost:8080/"
        },
        "id": "IWAnVyuI_LBq",
        "outputId": "27d8a945-9a76-4b06-bd83-33b848e6fcd4"
      },
      "source": [
        "from sklearn.neighbors import KNeighborsClassifier\n",
        "neigh = KNeighborsClassifier(n_neighbors=4)\n",
        "neigh.fit(X, y)\n",
        "print(neigh.score(X,y))"
      ],
      "execution_count": 17,
      "outputs": [
        {
          "output_type": "stream",
          "text": [
            "0.6567656765676567\n"
          ],
          "name": "stdout"
        }
      ]
    },
    {
      "cell_type": "code",
      "metadata": {
        "id": "X1Ni2-5h_0mS"
      },
      "source": [
        "#https://medium.com/@rrfd/boosting-bagging-and-stacking-ensemble-methods-with-sklearn-and-mlens-a455c0c982de"
      ],
      "execution_count": 18,
      "outputs": []
    },
    {
      "cell_type": "code",
      "metadata": {
        "colab": {
          "base_uri": "https://localhost:8080/"
        },
        "id": "yTeqtMpzHEBo",
        "outputId": "cc95d8df-8289-4a0a-fe31-1d529a74e8ef"
      },
      "source": [
        "from sklearn.ensemble import BaggingClassifier\n",
        "from sklearn.model_selection import cross_val_score\n",
        "\n",
        "clf = KNeighborsClassifier()\n",
        "clf.fit(X,y)\n",
        "bagging_clf = BaggingClassifier(clf, max_samples=0.4, max_features=4, random_state=0)\n",
        "bagging_scores = cross_val_score(bagging_clf, X, y, cv=10, n_jobs=-1)\n",
        "print(bagging_scores)\n",
        "knnscores = cross_val_score(clf, X, y, cv=10, n_jobs=-1)\n",
        "print(knnscores)"
      ],
      "execution_count": 19,
      "outputs": [
        {
          "output_type": "stream",
          "text": [
            "[0.5483871  0.5483871  0.58064516 0.6        0.56666667 0.66666667\n",
            " 0.56666667 0.53333333 0.53333333 0.53333333]\n",
            "[0.5483871  0.48387097 0.51612903 0.56666667 0.53333333 0.4\n",
            " 0.53333333 0.53333333 0.33333333 0.53333333]\n"
          ],
          "name": "stdout"
        }
      ]
    },
    {
      "cell_type": "code",
      "metadata": {
        "colab": {
          "base_uri": "https://localhost:8080/"
        },
        "id": "80ANxcHeQOzM",
        "outputId": "963fdc1b-468e-4453-9246-cba91b9bb285"
      },
      "source": [
        "from sklearn.ensemble import AdaBoostClassifier\n",
        "\n",
        "clf = AdaBoostClassifier(base_estimator=None)\n",
        "clf.fit(X,y)\n",
        "clf.score(X,y)\n",
        "cross_val_score(clf, X, y, cv=10, n_jobs=-1)"
      ],
      "execution_count": 20,
      "outputs": [
        {
          "output_type": "execute_result",
          "data": {
            "text/plain": [
              "array([0.67741935, 0.58064516, 0.5483871 , 0.66666667, 0.53333333,\n",
              "       0.46666667, 0.5       , 0.43333333, 0.46666667, 0.46666667])"
            ]
          },
          "metadata": {
            "tags": []
          },
          "execution_count": 20
        }
      ]
    },
    {
      "cell_type": "code",
      "metadata": {
        "id": "YQNynTgkY0Kh",
        "colab": {
          "base_uri": "https://localhost:8080/"
        },
        "outputId": "ebe3ec6d-4f06-4256-e2ea-a58fdfcbccec"
      },
      "source": [
        "from sklearn.ensemble import AdaBoostClassifier, GradientBoostingClassifier\n",
        "grad_boost = GradientBoostingClassifier()\n",
        "cross_val_score(grad_boost, X, y, cv=10, n_jobs=-1)"
      ],
      "execution_count": 21,
      "outputs": [
        {
          "output_type": "execute_result",
          "data": {
            "text/plain": [
              "array([0.64516129, 0.51612903, 0.61290323, 0.56666667, 0.63333333,\n",
              "       0.46666667, 0.46666667, 0.66666667, 0.53333333, 0.56666667])"
            ]
          },
          "metadata": {
            "tags": []
          },
          "execution_count": 21
        }
      ]
    },
    {
      "cell_type": "code",
      "metadata": {
        "id": "m3CS2goSZsCj",
        "colab": {
          "base_uri": "https://localhost:8080/"
        },
        "outputId": "719bde8a-0e35-438f-8dfc-d566b0daeb8a"
      },
      "source": [
        "#\n",
        "from sklearn.ensemble import ExtraTreesClassifier, VotingClassifier\n",
        "from sklearn.linear_model import RidgeClassifier\n",
        "rf = RandomForestClassifier()\n",
        "et = ExtraTreesClassifier()\n",
        "knn = KNeighborsClassifier()\n",
        "svc = svm.SVC()\n",
        "rg = RidgeClassifier()\n",
        "\n",
        "clf = [rf, et, knn, svc, rg]\n",
        "eclf = VotingClassifier(estimators=[('Random Forests', rf), ('Extra Trees', et), ('KNeighbors', knn), ('SVC', svc), ('Ridge Classifier', rg)], voting='hard')\n",
        "for clf, label in zip([rf, et, knn, svc, rg, eclf], ['Random Forest', 'Extra Trees', 'KNeighbors', 'SVC', 'Ridge Classifier', 'Ensemble']):\n",
        "    scores = cross_val_score(clf, X, y, cv=10, scoring='accuracy')\n",
        "    print(\"Accuracy: %0.2f (+/- %0.2f) [%s]\" % (scores.mean(), scores.std(), label))\n"
      ],
      "execution_count": 22,
      "outputs": [
        {
          "output_type": "stream",
          "text": [
            "Accuracy: 0.58 (+/- 0.06) [Random Forest]\n",
            "Accuracy: 0.58 (+/- 0.07) [Extra Trees]\n",
            "Accuracy: 0.50 (+/- 0.07) [KNeighbors]\n",
            "Accuracy: 0.54 (+/- 0.01) [SVC]\n",
            "Accuracy: 0.56 (+/- 0.03) [Ridge Classifier]\n",
            "Accuracy: 0.56 (+/- 0.04) [Ensemble]\n"
          ],
          "name": "stdout"
        }
      ]
    },
    {
      "cell_type": "code",
      "metadata": {
        "id": "_dWg9jjGcU9O",
        "colab": {
          "base_uri": "https://localhost:8080/"
        },
        "outputId": "b0f0bd1a-70cc-4b48-fdb1-d731aceb68d3"
      },
      "source": [
        "from sklearn.metrics import f1_score\n",
        "y_true = [0, 1, 2, 0, 1, 2]\n",
        "y_pred = [0, 2, 1, 0, 0, 1]\n",
        "f1_score(y_true, y_pred, average=None)\n",
        "\n"
      ],
      "execution_count": 23,
      "outputs": [
        {
          "output_type": "execute_result",
          "data": {
            "text/plain": [
              "array([0.8, 0. , 0. ])"
            ]
          },
          "metadata": {
            "tags": []
          },
          "execution_count": 23
        }
      ]
    },
    {
      "cell_type": "code",
      "metadata": {
        "id": "2f_t5pezu9ih"
      },
      "source": [
        "from sklearn import metrics\n",
        "scores = cross_val_score(\n",
        "clf, X, y, cv=5, scoring='f1_macro')\n"
      ],
      "execution_count": 24,
      "outputs": []
    },
    {
      "cell_type": "code",
      "metadata": {
        "id": "C5wnyditwt-v",
        "colab": {
          "base_uri": "https://localhost:8080/"
        },
        "outputId": "ea73ce02-6d3b-46c7-f584-a7866059ab45"
      },
      "source": [
        "scores"
      ],
      "execution_count": 25,
      "outputs": [
        {
          "output_type": "execute_result",
          "data": {
            "text/plain": [
              "array([0.20348837, 0.25273002, 0.19058824, 0.22196078, 0.2549779 ])"
            ]
          },
          "metadata": {
            "tags": []
          },
          "execution_count": 25
        }
      ]
    },
    {
      "cell_type": "code",
      "metadata": {
        "id": "Hu0wsnF3wvmv"
      },
      "source": [
        "#https://scikit-learn.org/stable/auto_examples/model_selection/plot_roc_crossval.html"
      ],
      "execution_count": 26,
      "outputs": []
    },
    {
      "cell_type": "code",
      "metadata": {
        "id": "Virt0YvbxGM0",
        "colab": {
          "base_uri": "https://localhost:8080/"
        },
        "outputId": "445499af-c717-4b18-9fd6-3adb8854475f"
      },
      "source": [
        "#note multiclass roc curve is a little poorly defined, so i went with\n",
        "#solution from: https://medium.com/@plog397/auc-roc-curve-scoring-function-for-multi-class-classification-9822871a6659\n",
        "\n",
        "from sklearn.model_selection import StratifiedKFold\n",
        "from sklearn.metrics import plot_roc_curve\n",
        "import matplotlib.pyplot as plt\n",
        "from sklearn import preprocessing\n",
        "from sklearn.metrics import roc_auc_score\n",
        "\n",
        "\n",
        "cv = StratifiedKFold(n_splits=10)\n",
        "#y = np.expand_dims(y.squeeze(), axis=1)\n",
        "y = y.squeeze()\n",
        "#classifier = svm.SVC(kernel='linear',decision_function_shape='ovo', probability=True,\n",
        "#                     random_state=0)\n",
        "#classifier = KNeighborsClassifier(n_neighbors=k)\n",
        "\n",
        "#classifier = RandomForestClassifier(max_depth=d,n_estimators = n_est random_state=0)\n",
        "\n",
        "#classifier = LogisticRegression(max_iter = 10**(ite),random_state=0, solver='lbfgs', multi_class='auto')\n",
        "\n",
        "# classifier = MLPClassifier(random_state=1, max_iter=10**(ite),learning_rate_init = 10**(lr)) \n",
        "#code from link above in note (medium)\n",
        "def multiclass_roc_auc_score(y_test, y_pred, average=\"macro\"):\n",
        "  lb = preprocessing.LabelBinarizer()\n",
        "  lb.fit(y_test)\n",
        "  y_test = lb.transform(y_test)\n",
        "  y_pred = lb.transform(y_pred)\n",
        "  return roc_auc_score(y_test, y_pred, average=average)\n",
        "for epoch in range(1):\n",
        "  for smooth in range(-6,-12,-1):\n",
        "    classifier = GaussianNB(var_smoothing = 10**(smooth))\n",
        "\n",
        "    for i, (train, test) in enumerate(cv.split(X, y)):\n",
        "      print('\\n',i,smooth)\n",
        "      classifier.fit(X[train], y[train])\n",
        "      y_pred = classifier.predict(X[test])\n",
        "      print(\"score\",classifier.score(X[test],y[test]))\n",
        "      print('auc score',multiclass_roc_auc_score(y[test],y_pred))\n",
        "      print('f1 score', f1_score(y[test], y_pred, average='macro'))\n",
        "    "
      ],
      "execution_count": 30,
      "outputs": [
        {
          "output_type": "stream",
          "text": [
            "\n",
            " 0 -6\n",
            "score 0.06451612903225806\n",
            "auc score 0.4638341543513958\n",
            "f1 score 0.02857142857142857\n",
            "\n",
            " 1 -6\n",
            "score 0.0967741935483871\n",
            "auc score 0.5003694581280789\n",
            "f1 score 0.038709677419354833\n",
            "\n",
            " 2 -6\n",
            "score 0.0967741935483871\n",
            "auc score 0.5\n",
            "f1 score 0.03636363636363636\n",
            "\n",
            " 3 -6\n",
            "score 0.1\n",
            "auc score 0.5007662835249042\n",
            "f1 score 0.039999999999999994\n",
            "\n",
            " 4 -6\n",
            "score 0.1\n",
            "auc score 0.5002554278416348\n",
            "f1 score 0.0375\n",
            "\n",
            " 5 -6\n",
            "score 0.13333333333333333\n",
            "auc score 0.5014376657824934\n",
            "f1 score 0.05517241379310346\n",
            "\n",
            " 6 -6\n",
            "score 0.16666666666666666\n",
            "auc score 0.5077802197802198\n",
            "f1 score 0.11282051282051282\n",
            "\n",
            " 7 -6\n",
            "score 0.06666666666666667\n",
            "auc score 0.43901098901098895\n",
            "f1 score 0.034782608695652174\n",
            "\n",
            " 8 -6\n",
            "score 0.13333333333333333\n",
            "auc score 0.5\n",
            "f1 score 0.047058823529411764\n",
            "\n",
            " 9 -6\n",
            "score 0.1\n",
            "auc score 0.4728355437665782\n",
            "f1 score 0.04444444444444444\n",
            "\n",
            " 0 -7\n",
            "score 0.03225806451612903\n",
            "auc score 0.4269343185550082\n",
            "f1 score 0.021052631578947368\n",
            "\n",
            " 1 -7\n",
            "score 0.0967741935483871\n",
            "auc score 0.49963546798029557\n",
            "f1 score 0.04285714285714285\n",
            "\n",
            " 2 -7\n",
            "score 0.3225806451612903\n",
            "auc score 0.5392181010335169\n",
            "f1 score 0.16609523809523807\n",
            "\n",
            " 3 -7\n",
            "score 0.06666666666666667\n",
            "auc score 0.4645434227330779\n",
            "f1 score 0.03333333333333333\n",
            "\n",
            " 4 -7\n",
            "score 0.1\n",
            "auc score 0.49988825031928474\n",
            "f1 score 0.048\n",
            "\n",
            " 5 -7\n",
            "score 0.1\n",
            "auc score 0.4729893899204244\n",
            "f1 score 0.04285714285714286\n",
            "\n",
            " 6 -7\n",
            "score 0.2\n",
            "auc score 0.5320242516104585\n",
            "f1 score 0.13925925925925925\n",
            "\n",
            " 7 -7\n",
            "score 0.13333333333333333\n",
            "auc score 0.4783511746873816\n",
            "f1 score 0.08935508935508933\n",
            "\n",
            " 8 -7\n",
            "score 0.16666666666666666\n",
            "auc score 0.5232307692307693\n",
            "f1 score 0.09517241379310346\n",
            "\n",
            " 9 -7\n",
            "score 0.16666666666666666\n",
            "auc score 0.4939137931034483\n",
            "f1 score 0.10444444444444442\n",
            "\n",
            " 0 -8\n",
            "score 0.0967741935483871\n",
            "auc score 0.47206626098715343\n",
            "f1 score 0.06432748538011696\n",
            "\n",
            " 1 -8\n",
            "score 0.12903225806451613\n",
            "auc score 0.5090892494929006\n",
            "f1 score 0.06666666666666667\n",
            "\n",
            " 2 -8\n",
            "score 0.41935483870967744\n",
            "auc score 0.5914589973920602\n",
            "f1 score 0.20952380952380953\n",
            "\n",
            " 3 -8\n",
            "score 0.0\n",
            "auc score 0.3908205619412516\n",
            "f1 score 0.0\n",
            "\n",
            " 4 -8\n",
            "score 0.1\n",
            "auc score 0.49875478927203065\n",
            "f1 score 0.05714285714285714\n",
            "\n",
            " 5 -8\n",
            "score 0.13333333333333333\n",
            "auc score 0.48308554376657825\n",
            "f1 score 0.06797385620915032\n",
            "\n",
            " 6 -8\n",
            "score 0.23333333333333334\n",
            "auc score 0.6360242516104585\n",
            "f1 score 0.27487179487179486\n",
            "\n",
            " 7 -8\n",
            "score 0.13333333333333333\n",
            "auc score 0.4598452065176204\n",
            "f1 score 0.09392712550607288\n",
            "\n",
            " 8 -8\n",
            "score 0.23333333333333334\n",
            "auc score 0.5575709549071618\n",
            "f1 score 0.15779514603044015\n",
            "\n",
            " 9 -8\n",
            "score 0.2\n",
            "auc score 0.49976364153088293\n",
            "f1 score 0.1231578947368421\n",
            "\n",
            " 0 -9\n",
            "score 0.0967741935483871\n",
            "auc score 0.47206626098715343\n",
            "f1 score 0.06432748538011696\n",
            "\n",
            " 1 -9\n",
            "score 0.12903225806451613\n",
            "auc score 0.508966096783541\n",
            "f1 score 0.06507936507936507\n",
            "\n",
            " 2 -9\n",
            "score 0.41935483870967744\n",
            "auc score 0.5914589973920602\n",
            "f1 score 0.20952380952380953\n",
            "\n",
            " 3 -9\n",
            "score 0.0\n",
            "auc score 0.3937899106002555\n",
            "f1 score 0.0\n",
            "\n",
            " 4 -9\n",
            "score 0.13333333333333333\n",
            "auc score 0.5091714559386973\n",
            "f1 score 0.08067226890756303\n",
            "\n",
            " 5 -9\n",
            "score 0.13333333333333333\n",
            "auc score 0.48308554376657825\n",
            "f1 score 0.06797385620915032\n",
            "\n",
            " 6 -9\n",
            "score 0.23333333333333334\n",
            "auc score 0.6360242516104585\n",
            "f1 score 0.27487179487179486\n",
            "\n",
            " 7 -9\n",
            "score 0.13333333333333333\n",
            "auc score 0.4596913603637742\n",
            "f1 score 0.09649122807017543\n",
            "\n",
            " 8 -9\n",
            "score 0.23333333333333334\n",
            "auc score 0.5575709549071618\n",
            "f1 score 0.15779514603044015\n",
            "\n",
            " 9 -9\n",
            "score 0.2\n",
            "auc score 0.49976364153088293\n",
            "f1 score 0.1231578947368421\n",
            "\n",
            " 0 -10\n",
            "score 0.0967741935483871\n",
            "auc score 0.47206626098715343\n",
            "f1 score 0.06432748538011696\n",
            "\n",
            " 1 -10\n",
            "score 0.12903225806451613\n",
            "auc score 0.50841437264561\n",
            "f1 score 0.06507936507936507\n",
            "\n",
            " 2 -10\n",
            "score 0.41935483870967744\n",
            "auc score 0.5914589973920602\n",
            "f1 score 0.20952380952380953\n",
            "\n",
            " 3 -10\n",
            "score 0.0\n",
            "auc score 0.39476372924648784\n",
            "f1 score 0.0\n",
            "\n",
            " 4 -10\n",
            "score 0.13333333333333333\n",
            "auc score 0.5091714559386973\n",
            "f1 score 0.08067226890756303\n",
            "\n",
            " 5 -10\n",
            "score 0.13333333333333333\n",
            "auc score 0.48308554376657825\n",
            "f1 score 0.06797385620915032\n",
            "\n",
            " 6 -10\n",
            "score 0.23333333333333334\n",
            "auc score 0.6360242516104585\n",
            "f1 score 0.27487179487179486\n",
            "\n",
            " 7 -10\n",
            "score 0.13333333333333333\n",
            "auc score 0.4596913603637742\n",
            "f1 score 0.09649122807017543\n",
            "\n",
            " 8 -10\n",
            "score 0.23333333333333334\n",
            "auc score 0.5575709549071618\n",
            "f1 score 0.15779514603044015\n",
            "\n",
            " 9 -10\n",
            "score 0.2\n",
            "auc score 0.49976364153088293\n",
            "f1 score 0.1231578947368421\n",
            "\n",
            " 0 -11\n",
            "score 0.0967741935483871\n",
            "auc score 0.47206626098715343\n",
            "f1 score 0.06432748538011696\n",
            "\n",
            " 1 -11\n",
            "score 0.12903225806451613\n",
            "auc score 0.50841437264561\n",
            "f1 score 0.06507936507936507\n",
            "\n",
            " 2 -11\n",
            "score 0.41935483870967744\n",
            "auc score 0.5914589973920602\n",
            "f1 score 0.20952380952380953\n",
            "\n",
            " 3 -11\n",
            "score 0.0\n",
            "auc score 0.39527458492975737\n",
            "f1 score 0.0\n",
            "\n",
            " 4 -11\n",
            "score 0.13333333333333333\n",
            "auc score 0.5091714559386973\n",
            "f1 score 0.08067226890756303\n",
            "\n",
            " 5 -11\n",
            "score 0.13333333333333333\n",
            "auc score 0.48308554376657825\n",
            "f1 score 0.06797385620915032\n",
            "\n",
            " 6 -11\n",
            "score 0.23333333333333334\n",
            "auc score 0.6360242516104585\n",
            "f1 score 0.27487179487179486\n",
            "\n",
            " 7 -11\n",
            "score 0.13333333333333333\n",
            "auc score 0.4596913603637742\n",
            "f1 score 0.09649122807017543\n",
            "\n",
            " 8 -11\n",
            "score 0.23333333333333334\n",
            "auc score 0.5575709549071618\n",
            "f1 score 0.15779514603044015\n",
            "\n",
            " 9 -11\n",
            "score 0.2\n",
            "auc score 0.49976364153088293\n",
            "f1 score 0.1231578947368421\n"
          ],
          "name": "stdout"
        }
      ]
    },
    {
      "cell_type": "code",
      "metadata": {
        "id": "yCjkE3_h7k4P",
        "colab": {
          "base_uri": "https://localhost:8080/"
        },
        "outputId": "76b57895-a3d4-4fd0-fcf0-8f730cbabacd"
      },
      "source": [
        "print(X.shape)"
      ],
      "execution_count": 28,
      "outputs": [
        {
          "output_type": "stream",
          "text": [
            "(303, 13)\n"
          ],
          "name": "stdout"
        }
      ]
    },
    {
      "cell_type": "code",
      "metadata": {
        "id": "Po_LPTnvXTV5"
      },
      "source": [
        ""
      ],
      "execution_count": 28,
      "outputs": []
    }
  ]
}