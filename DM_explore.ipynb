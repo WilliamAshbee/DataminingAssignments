{
  "nbformat": 4,
  "nbformat_minor": 0,
  "metadata": {
    "colab": {
      "name": "DM_explore.ipynb",
      "provenance": [],
      "authorship_tag": "ABX9TyOYQH7hSIaVSyiPEF37/LeZ",
      "include_colab_link": true
    },
    "kernelspec": {
      "name": "python3",
      "display_name": "Python 3"
    },
    "language_info": {
      "name": "python"
    }
  },
  "cells": [
    {
      "cell_type": "markdown",
      "metadata": {
        "id": "view-in-github",
        "colab_type": "text"
      },
      "source": [
        "<a href=\"https://colab.research.google.com/github/WilliamAshbee/DataminingAssignments/blob/main/DM_explore.ipynb\" target=\"_parent\"><img src=\"https://colab.research.google.com/assets/colab-badge.svg\" alt=\"Open In Colab\"/></a>"
      ]
    },
    {
      "cell_type": "code",
      "metadata": {
        "id": "WidTxXynAuKz"
      },
      "source": [
        "import sklearn as sk\n",
        "import pandas as pd\n"
      ],
      "execution_count": 1,
      "outputs": []
    },
    {
      "cell_type": "code",
      "metadata": {
        "id": "M6-36kRz9YpX"
      },
      "source": [
        "#!wget http://archive.ics.uci.edu/ml/machine-learning-databases/heart-disease/cleve.mod"
      ],
      "execution_count": 2,
      "outputs": []
    },
    {
      "cell_type": "code",
      "metadata": {
        "id": "hdzETJc49fpg"
      },
      "source": [
        "url = 'http://archive.ics.uci.edu/ml/machine-learning-databases/heart-disease/cleve.mod'\n",
        "df1 = pd.read_csv(url,header=None,skiprows=(i for i in range(20)),delim_whitespace=True,error_bad_lines=False)\n",
        "\n",
        "url2 = 'http://archive.ics.uci.edu/ml/machine-learning-databases/heart-disease/processed.cleveland.data'\n",
        "df_clev = pd.read_csv(url2,header=None,error_bad_lines=False)"
      ],
      "execution_count": 3,
      "outputs": []
    },
    {
      "cell_type": "code",
      "metadata": {
        "colab": {
          "base_uri": "https://localhost:8080/"
        },
        "id": "nx82_yEW98QR",
        "outputId": "fecd9e69-a0b7-48ad-be58-c7dd404ba8ad"
      },
      "source": [
        "print(df1.shape,df_clev.shape)"
      ],
      "execution_count": 4,
      "outputs": [
        {
          "output_type": "stream",
          "text": [
            "(303, 15) (303, 14)\n"
          ],
          "name": "stdout"
        }
      ]
    },
    {
      "cell_type": "code",
      "metadata": {
        "id": "BEuvXn3z2bvA"
      },
      "source": [
        "pain = {'angina': 1, 'asympt': 4,'notang':2,'abnang':3}\n",
        "gender = {'male':1,'fem':0}\n",
        "bsl20 = {'true':1,'fal':0}\n",
        "restingecg = {'norm':0,'abn':1, 'hyp':2}\n",
        "exindang = {'true':1,'fal':0}\n",
        "slope = {'up':1, 'flat':2, 'down':3}\n",
        "thal = {'norm':1, 'fix':2, 'rev':3}\n",
        "state= {'buff':1,'sick':-1}\n",
        "code = {'H':0,'S1':1,'S2':2,'S3':3,'S4':4}\n",
        "eleventh = {'?':-10000}\n",
        "twelth = {'?':-10000}\n",
        "df2 = df1.replace({1: gender,2:pain,5:bsl20,6:restingecg,8:exindang,10:slope,11:eleventh,12:{**thal, **twelth},13:state,14:code})\n"
      ],
      "execution_count": 5,
      "outputs": []
    },
    {
      "cell_type": "code",
      "metadata": {
        "colab": {
          "base_uri": "https://localhost:8080/"
        },
        "id": "3-kGaXsRBLoG",
        "outputId": "8869bbb2-77f4-4ffb-ec5b-1d745a1f54ab"
      },
      "source": [
        "for col in df2.columns:\n",
        "    print(type(col),col)#column names i assume"
      ],
      "execution_count": 6,
      "outputs": [
        {
          "output_type": "stream",
          "text": [
            "<class 'int'> 0\n",
            "<class 'int'> 1\n",
            "<class 'int'> 2\n",
            "<class 'int'> 3\n",
            "<class 'int'> 4\n",
            "<class 'int'> 5\n",
            "<class 'int'> 6\n",
            "<class 'int'> 7\n",
            "<class 'int'> 8\n",
            "<class 'int'> 9\n",
            "<class 'int'> 10\n",
            "<class 'int'> 11\n",
            "<class 'int'> 12\n",
            "<class 'int'> 13\n",
            "<class 'int'> 14\n"
          ],
          "name": "stdout"
        }
      ]
    },
    {
      "cell_type": "code",
      "metadata": {
        "colab": {
          "base_uri": "https://localhost:8080/",
          "height": 205
        },
        "id": "k2qXSdYNEeUh",
        "outputId": "8acc56e2-669e-4d6e-e9fa-9c8eff3a6d1f"
      },
      "source": [
        "df2.tail()"
      ],
      "execution_count": 7,
      "outputs": [
        {
          "output_type": "execute_result",
          "data": {
            "text/html": [
              "<div>\n",
              "<style scoped>\n",
              "    .dataframe tbody tr th:only-of-type {\n",
              "        vertical-align: middle;\n",
              "    }\n",
              "\n",
              "    .dataframe tbody tr th {\n",
              "        vertical-align: top;\n",
              "    }\n",
              "\n",
              "    .dataframe thead th {\n",
              "        text-align: right;\n",
              "    }\n",
              "</style>\n",
              "<table border=\"1\" class=\"dataframe\">\n",
              "  <thead>\n",
              "    <tr style=\"text-align: right;\">\n",
              "      <th></th>\n",
              "      <th>0</th>\n",
              "      <th>1</th>\n",
              "      <th>2</th>\n",
              "      <th>3</th>\n",
              "      <th>4</th>\n",
              "      <th>5</th>\n",
              "      <th>6</th>\n",
              "      <th>7</th>\n",
              "      <th>8</th>\n",
              "      <th>9</th>\n",
              "      <th>10</th>\n",
              "      <th>11</th>\n",
              "      <th>12</th>\n",
              "      <th>13</th>\n",
              "      <th>14</th>\n",
              "    </tr>\n",
              "  </thead>\n",
              "  <tbody>\n",
              "    <tr>\n",
              "      <th>298</th>\n",
              "      <td>48.0</td>\n",
              "      <td>1</td>\n",
              "      <td>2</td>\n",
              "      <td>124.0</td>\n",
              "      <td>255.0</td>\n",
              "      <td>1</td>\n",
              "      <td>0</td>\n",
              "      <td>175.0</td>\n",
              "      <td>0</td>\n",
              "      <td>0.0</td>\n",
              "      <td>1</td>\n",
              "      <td>2.0</td>\n",
              "      <td>1</td>\n",
              "      <td>1</td>\n",
              "      <td>0</td>\n",
              "    </tr>\n",
              "    <tr>\n",
              "      <th>299</th>\n",
              "      <td>57.0</td>\n",
              "      <td>1</td>\n",
              "      <td>4</td>\n",
              "      <td>132.0</td>\n",
              "      <td>207.0</td>\n",
              "      <td>0</td>\n",
              "      <td>0</td>\n",
              "      <td>168.0</td>\n",
              "      <td>1</td>\n",
              "      <td>0.0</td>\n",
              "      <td>1</td>\n",
              "      <td>0.0</td>\n",
              "      <td>3</td>\n",
              "      <td>1</td>\n",
              "      <td>0</td>\n",
              "    </tr>\n",
              "    <tr>\n",
              "      <th>300</th>\n",
              "      <td>49.0</td>\n",
              "      <td>1</td>\n",
              "      <td>2</td>\n",
              "      <td>118.0</td>\n",
              "      <td>149.0</td>\n",
              "      <td>0</td>\n",
              "      <td>2</td>\n",
              "      <td>126.0</td>\n",
              "      <td>0</td>\n",
              "      <td>0.8</td>\n",
              "      <td>1</td>\n",
              "      <td>3.0</td>\n",
              "      <td>1</td>\n",
              "      <td>-1</td>\n",
              "      <td>1</td>\n",
              "    </tr>\n",
              "    <tr>\n",
              "      <th>301</th>\n",
              "      <td>74.0</td>\n",
              "      <td>0</td>\n",
              "      <td>3</td>\n",
              "      <td>120.0</td>\n",
              "      <td>269.0</td>\n",
              "      <td>0</td>\n",
              "      <td>2</td>\n",
              "      <td>121.0</td>\n",
              "      <td>1</td>\n",
              "      <td>0.2</td>\n",
              "      <td>1</td>\n",
              "      <td>1.0</td>\n",
              "      <td>1</td>\n",
              "      <td>1</td>\n",
              "      <td>0</td>\n",
              "    </tr>\n",
              "    <tr>\n",
              "      <th>302</th>\n",
              "      <td>54.0</td>\n",
              "      <td>0</td>\n",
              "      <td>2</td>\n",
              "      <td>160.0</td>\n",
              "      <td>201.0</td>\n",
              "      <td>0</td>\n",
              "      <td>0</td>\n",
              "      <td>163.0</td>\n",
              "      <td>0</td>\n",
              "      <td>0.0</td>\n",
              "      <td>1</td>\n",
              "      <td>1.0</td>\n",
              "      <td>1</td>\n",
              "      <td>1</td>\n",
              "      <td>0</td>\n",
              "    </tr>\n",
              "  </tbody>\n",
              "</table>\n",
              "</div>"
            ],
            "text/plain": [
              "       0   1   2      3      4   5   6      7   8    9   10   11  12  13  14\n",
              "298  48.0   1   2  124.0  255.0   1   0  175.0   0  0.0   1  2.0   1   1   0\n",
              "299  57.0   1   4  132.0  207.0   0   0  168.0   1  0.0   1  0.0   3   1   0\n",
              "300  49.0   1   2  118.0  149.0   0   2  126.0   0  0.8   1  3.0   1  -1   1\n",
              "301  74.0   0   3  120.0  269.0   0   2  121.0   1  0.2   1  1.0   1   1   0\n",
              "302  54.0   0   2  160.0  201.0   0   0  163.0   0  0.0   1  1.0   1   1   0"
            ]
          },
          "metadata": {
            "tags": []
          },
          "execution_count": 7
        }
      ]
    },
    {
      "cell_type": "code",
      "metadata": {
        "id": "sXKtQoTpuzLc"
      },
      "source": [
        "\n"
      ],
      "execution_count": 7,
      "outputs": []
    },
    {
      "cell_type": "code",
      "metadata": {
        "id": "VFG5H9_w-SFP",
        "colab": {
          "base_uri": "https://localhost:8080/"
        },
        "outputId": "1e456dcb-f45f-4f8f-b4f0-0ee44c346e5a"
      },
      "source": [
        "import numpy as np\n",
        "\n",
        "df2n = df2.to_numpy().astype(float)\n",
        "\n",
        "df2n.shape\n"
      ],
      "execution_count": 8,
      "outputs": [
        {
          "output_type": "execute_result",
          "data": {
            "text/plain": [
              "(303, 15)"
            ]
          },
          "metadata": {
            "tags": []
          },
          "execution_count": 8
        }
      ]
    },
    {
      "cell_type": "code",
      "metadata": {
        "id": "E00P5u6be3U5",
        "outputId": "b615b5b1-8ddc-4a2c-f0b0-7bbed6104d00",
        "colab": {
          "base_uri": "https://localhost:8080/"
        }
      },
      "source": [
        "questionmark = {'?':'-10000'}\n",
        "\n",
        "dfcn = df_clev\n",
        "dfcn = dfcn.replace({11:questionmark,12:questionmark})\n",
        "dfcn = dfcn.to_numpy().astype(float)\n",
        "\n",
        "print(np.sum(dfcn=='?'),np.sum(df2n=='?'))"
      ],
      "execution_count": 9,
      "outputs": [
        {
          "output_type": "stream",
          "text": [
            "0 0\n"
          ],
          "name": "stdout"
        },
        {
          "output_type": "stream",
          "text": [
            "/usr/local/lib/python3.7/dist-packages/ipykernel_launcher.py:7: FutureWarning: elementwise comparison failed; returning scalar instead, but in the future will perform elementwise comparison\n",
            "  import sys\n"
          ],
          "name": "stderr"
        }
      ]
    },
    {
      "cell_type": "code",
      "metadata": {
        "id": "lOYYz1Zdm1wT",
        "outputId": "c31f1846-3c49-48b9-f2d8-b88a28e060a0",
        "colab": {
          "base_uri": "https://localhost:8080/"
        }
      },
      "source": [
        "print(dfcn[0,:].astype(float))\n",
        "print(df2n[0,:])\n",
        "print(np.sum(dfcn[:,:13].astype(float)-df2n[:,:13].astype(float)))"
      ],
      "execution_count": 10,
      "outputs": [
        {
          "output_type": "stream",
          "text": [
            "[ 63.    1.    1.  145.  233.    1.    2.  150.    0.    2.3   3.    0.\n",
            "   6.    0. ]\n",
            "[ 63.    1.    1.  145.  233.    1.    2.  150.    0.    2.3   3.    0.\n",
            "   2.    1.    0. ]\n",
            "11071.0\n"
          ],
          "name": "stdout"
        }
      ]
    },
    {
      "cell_type": "code",
      "metadata": {
        "id": "lXVJoAxJs-Sh",
        "outputId": "32e41093-9d0e-44bb-ffcf-bf49a3418ce2",
        "colab": {
          "base_uri": "https://localhost:8080/"
        }
      },
      "source": [
        "print(np.min(dfcn[:,13]),np.max(dfcn[:,13]))"
      ],
      "execution_count": 11,
      "outputs": [
        {
          "output_type": "stream",
          "text": [
            "0.0 4.0\n"
          ],
          "name": "stdout"
        }
      ]
    },
    {
      "cell_type": "code",
      "metadata": {
        "colab": {
          "base_uri": "https://localhost:8080/"
        },
        "id": "r0gWLPhNB_Mc",
        "outputId": "7f6ae42d-a589-4a19-d0f8-cb02ebb38c7e"
      },
      "source": [
        "import sklearn as sk\n",
        "from sklearn.linear_model import LogisticRegression\n",
        "import os\n",
        "#change here\n",
        "y = dfcn[:,13]\n",
        "\n",
        "X = dfcn[:,:13]\n",
        "\n",
        "LR = LogisticRegression(max_iter = 100000,random_state=0, solver='lbfgs', multi_class='auto').fit(X, y)\n",
        "round(LR.score(X,y), 5)\n"
      ],
      "execution_count": 12,
      "outputs": [
        {
          "output_type": "execute_result",
          "data": {
            "text/plain": [
              "0.62046"
            ]
          },
          "metadata": {
            "tags": []
          },
          "execution_count": 12
        }
      ]
    },
    {
      "cell_type": "code",
      "metadata": {
        "id": "rICJs8D8KCPN"
      },
      "source": [
        "#https://stackoverflow.com/questions/17114904/python-pandas-replacing-strings-in-dataframe-with-numbers\n",
        "#https://pandas.pydata.org/docs/reference/api/pandas.DataFrame.replace.html"
      ],
      "execution_count": 13,
      "outputs": []
    },
    {
      "cell_type": "code",
      "metadata": {
        "id": "b6hekr3Q5Cb9"
      },
      "source": [
        "out = LR.predict(X)"
      ],
      "execution_count": 14,
      "outputs": []
    },
    {
      "cell_type": "code",
      "metadata": {
        "colab": {
          "base_uri": "https://localhost:8080/"
        },
        "id": "cv7nD0I60AQg",
        "outputId": "73d7103a-e989-460a-cf40-180690303b9c"
      },
      "source": [
        "np.mean(out == y)"
      ],
      "execution_count": 15,
      "outputs": [
        {
          "output_type": "execute_result",
          "data": {
            "text/plain": [
              "0.6204620462046204"
            ]
          },
          "metadata": {
            "tags": []
          },
          "execution_count": 15
        }
      ]
    },
    {
      "cell_type": "code",
      "metadata": {
        "colab": {
          "base_uri": "https://localhost:8080/"
        },
        "id": "5iq0bkTC0A4e",
        "outputId": "9e13621b-beac-4df8-d3d3-847638f2f63d"
      },
      "source": [
        "from sklearn import svm\n",
        "clf = svm.SVC(decision_function_shape='ovo')\n",
        "print(clf.kernel)\n",
        "clf = clf.fit(X, y)\n",
        "out = clf.predict(X)\n",
        "print(np.mean(out==y))"
      ],
      "execution_count": 16,
      "outputs": [
        {
          "output_type": "stream",
          "text": [
            "rbf\n",
            "0.5412541254125413\n"
          ],
          "name": "stdout"
        }
      ]
    },
    {
      "cell_type": "code",
      "metadata": {
        "colab": {
          "base_uri": "https://localhost:8080/"
        },
        "id": "yLjGvKKN1i_e",
        "outputId": "5e1b5c97-3c72-4a2a-8cd2-d3adeb8fb97f"
      },
      "source": [
        "C_2d_range = [1e-2, 1, 1e2]\n",
        "gamma_2d_range = [1e-1, 1, 1e1]\n",
        "classifiers = []\n",
        "for C in C_2d_range:\n",
        "    for gamma in gamma_2d_range:\n",
        "        clf = svm.SVC(C=C, gamma=gamma,decision_function_shape='ovo')\n",
        "        clf.fit(X, y)\n",
        "        out = clf.predict(X)\n",
        "        if np.mean(y==out) > .6:\n",
        "          print(np.mean(y==out),C,gamma)\n",
        "        classifiers.append((C, gamma, clf,np.mean(y==out)))\n",
        "\n",
        "clf = svm.SVC(C=1, gamma=.1,decision_function_shape='ovo')\n",
        "clf.fit(X, y)\n",
        "clf.predict(X)"
      ],
      "execution_count": 17,
      "outputs": [
        {
          "output_type": "stream",
          "text": [
            "1.0 1 0.1\n",
            "1.0 1 1\n",
            "1.0 1 10.0\n",
            "1.0 100.0 0.1\n",
            "1.0 100.0 1\n",
            "1.0 100.0 10.0\n"
          ],
          "name": "stdout"
        },
        {
          "output_type": "execute_result",
          "data": {
            "text/plain": [
              "array([0., 2., 1., 0., 0., 0., 3., 0., 2., 1., 0., 0., 2., 0., 0., 0., 1.,\n",
              "       0., 0., 0., 0., 0., 1., 3., 4., 0., 0., 0., 0., 3., 0., 2., 1., 0.,\n",
              "       0., 0., 3., 1., 3., 0., 4., 0., 0., 0., 1., 4., 0., 4., 0., 0., 0.,\n",
              "       0., 2., 0., 1., 1., 1., 1., 0., 0., 2., 0., 1., 0., 2., 2., 1., 0.,\n",
              "       2., 1., 0., 3., 1., 1., 1., 0., 1., 0., 0., 3., 0., 0., 0., 3., 0.,\n",
              "       0., 0., 0., 0., 0., 0., 3., 0., 0., 0., 1., 2., 3., 0., 0., 0., 0.,\n",
              "       0., 0., 3., 0., 2., 1., 2., 3., 1., 1., 0., 2., 2., 0., 0., 0., 3.,\n",
              "       2., 3., 4., 0., 3., 1., 0., 3., 3., 0., 0., 0., 0., 0., 0., 0., 0.,\n",
              "       4., 3., 1., 0., 0., 1., 0., 1., 0., 1., 4., 0., 0., 0., 0., 0., 0.,\n",
              "       4., 3., 1., 1., 1., 2., 0., 0., 4., 0., 0., 0., 0., 0., 0., 1., 0.,\n",
              "       3., 0., 1., 0., 4., 1., 0., 1., 0., 0., 3., 2., 0., 0., 1., 0., 0.,\n",
              "       2., 1., 2., 0., 3., 1., 2., 0., 3., 0., 0., 0., 1., 0., 0., 0., 0.,\n",
              "       0., 3., 3., 3., 0., 1., 0., 4., 0., 3., 1., 0., 0., 0., 0., 0., 0.,\n",
              "       0., 0., 3., 1., 0., 0., 0., 3., 2., 0., 2., 1., 0., 0., 3., 2., 1.,\n",
              "       0., 0., 0., 0., 0., 2., 0., 2., 2., 1., 3., 0., 0., 1., 0., 0., 0.,\n",
              "       0., 0., 0., 0., 1., 0., 3., 0., 0., 4., 2., 2., 2., 1., 0., 1., 0.,\n",
              "       2., 0., 1., 0., 0., 0., 1., 0., 2., 0., 3., 0., 2., 4., 2., 0., 0.,\n",
              "       0., 1., 0., 2., 2., 1., 0., 3., 1., 1., 2., 3., 1., 0.])"
            ]
          },
          "metadata": {
            "tags": []
          },
          "execution_count": 17
        }
      ]
    },
    {
      "cell_type": "code",
      "metadata": {
        "colab": {
          "base_uri": "https://localhost:8080/"
        },
        "id": "rrHT60jJ2Yjp",
        "outputId": "7bfa0b3e-166d-4122-df36-a517374e5674"
      },
      "source": [
        "from sklearn.neural_network import MLPClassifier\n",
        "clf = MLPClassifier(random_state=1, max_iter=30000,learning_rate_init = .00001).fit(X, y)\n",
        "clf.predict(X)\n",
        "clf.score(X, y)\n"
      ],
      "execution_count": 18,
      "outputs": [
        {
          "output_type": "execute_result",
          "data": {
            "text/plain": [
              "0.594059405940594"
            ]
          },
          "metadata": {
            "tags": []
          },
          "execution_count": 18
        }
      ]
    },
    {
      "cell_type": "code",
      "metadata": {
        "colab": {
          "base_uri": "https://localhost:8080/"
        },
        "id": "wOzU_HZY4Lfj",
        "outputId": "97b804b2-a680-4e35-c137-14165290af7d"
      },
      "source": [
        "from sklearn.ensemble import RandomForestClassifier\n",
        "from sklearn.datasets import make_classification\n",
        "#X, y = make_classification(n_samples=1000, n_features=4,\n",
        "#...                            n_informative=2, n_redundant=0,\n",
        "#...                            random_state=0, shuffle=False)\n",
        "clf = RandomForestClassifier(max_depth=7, random_state=0)\n",
        "clf.fit(X, y)\n",
        "print(clf.score(X,y))\n"
      ],
      "execution_count": 19,
      "outputs": [
        {
          "output_type": "stream",
          "text": [
            "0.9702970297029703\n"
          ],
          "name": "stdout"
        }
      ]
    },
    {
      "cell_type": "code",
      "metadata": {
        "colab": {
          "base_uri": "https://localhost:8080/"
        },
        "id": "z1VXy_wS-N-t",
        "outputId": "16ab5325-27d1-4f80-8d81-ef2658a4519d"
      },
      "source": [
        "from sklearn.naive_bayes import GaussianNB\n",
        "gnb = GaussianNB().fit(X, y)\n",
        "gnb_score = gnb.score(X,y)\n",
        "print(gnb_score)"
      ],
      "execution_count": 20,
      "outputs": [
        {
          "output_type": "stream",
          "text": [
            "0.18151815181518152\n"
          ],
          "name": "stdout"
        }
      ]
    },
    {
      "cell_type": "code",
      "metadata": {
        "colab": {
          "base_uri": "https://localhost:8080/"
        },
        "id": "IWAnVyuI_LBq",
        "outputId": "e5cef41c-f07f-4097-c045-6bb32702081b"
      },
      "source": [
        "from sklearn.neighbors import KNeighborsClassifier\n",
        "neigh = KNeighborsClassifier(n_neighbors=4)\n",
        "neigh.fit(X, y)\n",
        "print(neigh.score(X,y))"
      ],
      "execution_count": 21,
      "outputs": [
        {
          "output_type": "stream",
          "text": [
            "0.6567656765676567\n"
          ],
          "name": "stdout"
        }
      ]
    },
    {
      "cell_type": "code",
      "metadata": {
        "id": "X1Ni2-5h_0mS"
      },
      "source": [
        "#https://medium.com/@rrfd/boosting-bagging-and-stacking-ensemble-methods-with-sklearn-and-mlens-a455c0c982de"
      ],
      "execution_count": 22,
      "outputs": []
    },
    {
      "cell_type": "code",
      "metadata": {
        "colab": {
          "base_uri": "https://localhost:8080/"
        },
        "id": "yTeqtMpzHEBo",
        "outputId": "ebfcd732-d20b-490f-8707-1b1864d51235"
      },
      "source": [
        "from sklearn.ensemble import BaggingClassifier\n",
        "from sklearn.model_selection import cross_val_score\n",
        "\n",
        "clf = KNeighborsClassifier()\n",
        "clf.fit(X,y)\n",
        "bagging_clf = BaggingClassifier(clf, max_samples=0.4, max_features=4, random_state=0)\n",
        "bagging_scores = cross_val_score(bagging_clf, X, y, cv=10, n_jobs=-1)\n",
        "print(bagging_scores)\n",
        "knnscores = cross_val_score(clf, X, y, cv=10, n_jobs=-1)\n",
        "print(knnscores)"
      ],
      "execution_count": 23,
      "outputs": [
        {
          "output_type": "stream",
          "text": [
            "[0.5483871  0.5483871  0.58064516 0.6        0.56666667 0.66666667\n",
            " 0.56666667 0.53333333 0.53333333 0.53333333]\n",
            "[0.5483871  0.48387097 0.51612903 0.56666667 0.53333333 0.4\n",
            " 0.53333333 0.53333333 0.33333333 0.53333333]\n"
          ],
          "name": "stdout"
        }
      ]
    },
    {
      "cell_type": "code",
      "metadata": {
        "colab": {
          "base_uri": "https://localhost:8080/"
        },
        "id": "80ANxcHeQOzM",
        "outputId": "cd2cfb2c-5a37-4dcd-821d-6f405966b162"
      },
      "source": [
        "from sklearn.ensemble import AdaBoostClassifier\n",
        "\n",
        "clf = AdaBoostClassifier(base_estimator=None)\n",
        "clf.fit(X,y)\n",
        "clf.score(X,y)\n",
        "cross_val_score(clf, X, y, cv=10, n_jobs=-1)"
      ],
      "execution_count": 24,
      "outputs": [
        {
          "output_type": "execute_result",
          "data": {
            "text/plain": [
              "array([0.67741935, 0.58064516, 0.5483871 , 0.66666667, 0.53333333,\n",
              "       0.46666667, 0.5       , 0.43333333, 0.46666667, 0.46666667])"
            ]
          },
          "metadata": {
            "tags": []
          },
          "execution_count": 24
        }
      ]
    },
    {
      "cell_type": "code",
      "metadata": {
        "id": "YQNynTgkY0Kh",
        "colab": {
          "base_uri": "https://localhost:8080/"
        },
        "outputId": "a968dfd7-47ba-4382-e4ce-972fcc6158b8"
      },
      "source": [
        "from sklearn.ensemble import AdaBoostClassifier, GradientBoostingClassifier\n",
        "grad_boost = GradientBoostingClassifier()\n",
        "cross_val_score(grad_boost, X, y, cv=10, n_jobs=-1)"
      ],
      "execution_count": 25,
      "outputs": [
        {
          "output_type": "execute_result",
          "data": {
            "text/plain": [
              "array([0.61290323, 0.51612903, 0.61290323, 0.56666667, 0.63333333,\n",
              "       0.46666667, 0.46666667, 0.63333333, 0.53333333, 0.53333333])"
            ]
          },
          "metadata": {
            "tags": []
          },
          "execution_count": 25
        }
      ]
    },
    {
      "cell_type": "code",
      "metadata": {
        "id": "m3CS2goSZsCj",
        "colab": {
          "base_uri": "https://localhost:8080/"
        },
        "outputId": "4b10a44d-c9ef-41cf-ceb4-eea078a78069"
      },
      "source": [
        "#\n",
        "from sklearn.ensemble import ExtraTreesClassifier, VotingClassifier\n",
        "from sklearn.linear_model import RidgeClassifier\n",
        "rf = RandomForestClassifier()\n",
        "et = ExtraTreesClassifier()\n",
        "knn = KNeighborsClassifier()\n",
        "svc = svm.SVC()\n",
        "rg = RidgeClassifier()\n",
        "\n",
        "clf = [rf, et, knn, svc, rg]\n",
        "eclf = VotingClassifier(estimators=[('Random Forests', rf), ('Extra Trees', et), ('KNeighbors', knn), ('SVC', svc), ('Ridge Classifier', rg)], voting='hard')\n",
        "for clf, label in zip([rf, et, knn, svc, rg, eclf], ['Random Forest', 'Extra Trees', 'KNeighbors', 'SVC', 'Ridge Classifier', 'Ensemble']):\n",
        "    scores = cross_val_score(clf, X, y, cv=10, scoring='accuracy')\n",
        "    print(\"Accuracy: %0.2f (+/- %0.2f) [%s]\" % (scores.mean(), scores.std(), label))\n"
      ],
      "execution_count": 26,
      "outputs": [
        {
          "output_type": "stream",
          "text": [
            "Accuracy: 0.58 (+/- 0.07) [Random Forest]\n",
            "Accuracy: 0.58 (+/- 0.05) [Extra Trees]\n",
            "Accuracy: 0.50 (+/- 0.07) [KNeighbors]\n",
            "Accuracy: 0.54 (+/- 0.01) [SVC]\n",
            "Accuracy: 0.56 (+/- 0.03) [Ridge Classifier]\n",
            "Accuracy: 0.57 (+/- 0.05) [Ensemble]\n"
          ],
          "name": "stdout"
        }
      ]
    },
    {
      "cell_type": "code",
      "metadata": {
        "id": "_dWg9jjGcU9O"
      },
      "source": [
        ""
      ],
      "execution_count": 26,
      "outputs": []
    }
  ]
}