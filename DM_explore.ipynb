{
  "nbformat": 4,
  "nbformat_minor": 0,
  "metadata": {
    "colab": {
      "name": "DM_explore.ipynb",
      "provenance": [],
      "authorship_tag": "ABX9TyN4P+TwOvyoiCB/M8/spR1A",
      "include_colab_link": true
    },
    "kernelspec": {
      "name": "python3",
      "display_name": "Python 3"
    },
    "language_info": {
      "name": "python"
    }
  },
  "cells": [
    {
      "cell_type": "markdown",
      "metadata": {
        "id": "view-in-github",
        "colab_type": "text"
      },
      "source": [
        "<a href=\"https://colab.research.google.com/github/WilliamAshbee/DataminingAssignments/blob/main/DM_explore.ipynb\" target=\"_parent\"><img src=\"https://colab.research.google.com/assets/colab-badge.svg\" alt=\"Open In Colab\"/></a>"
      ]
    },
    {
      "cell_type": "code",
      "metadata": {
        "id": "WidTxXynAuKz"
      },
      "source": [
        "import sklearn as sk\n",
        "import pandas as pd\n",
        "import numpy as np\n"
      ],
      "execution_count": null,
      "outputs": []
    },
    {
      "cell_type": "code",
      "metadata": {
        "id": "M6-36kRz9YpX"
      },
      "source": [
        "#!wget http://archive.ics.uci.edu/ml/machine-learning-databases/heart-disease/cleve.mod"
      ],
      "execution_count": null,
      "outputs": []
    },
    {
      "cell_type": "code",
      "metadata": {
        "id": "hdzETJc49fpg"
      },
      "source": [
        "#url = 'http://archive.ics.uci.edu/ml/machine-learning-databases/heart-disease/cleve.mod'\n",
        "#df1 = pd.read_csv(url,header=None,skiprows=(i for i in range(20)),delim_whitespace=True,error_bad_lines=False)\n",
        "\n"
      ],
      "execution_count": null,
      "outputs": []
    },
    {
      "cell_type": "code",
      "metadata": {
        "id": "BEuvXn3z2bvA"
      },
      "source": [
        "pain = {'angina': 1, 'asympt': 4,'notang':2,'abnang':3}\n",
        "gender = {'male':1,'fem':0}\n",
        "bsl20 = {'true':1,'fal':0}\n",
        "restingecg = {'norm':0,'abn':1, 'hyp':2}\n",
        "exindang = {'true':1,'fal':0}\n",
        "slope = {'up':1, 'flat':2, 'down':3}\n",
        "thal = {'norm':1, 'fix':2, 'rev':3}\n",
        "state= {'buff':1,'sick':-1}\n",
        "code = {'H':0,'S1':1,'S2':2,'S3':3,'S4':4}\n",
        "eleventh = {'?':-10000}\n",
        "twelth = {'?':-10000}\n",
        "#df2 = df1.replace({1: gender,2:pain,5:bsl20,6:restingecg,8:exindang,10:slope,11:eleventh,12:{**thal, **twelth},13:state,14:code})\n"
      ],
      "execution_count": null,
      "outputs": []
    },
    {
      "cell_type": "code",
      "metadata": {
        "id": "rICJs8D8KCPN"
      },
      "source": [
        "#https://stackoverflow.com/questions/17114904/python-pandas-replacing-strings-in-dataframe-with-numbers\n",
        "#https://pandas.pydata.org/docs/reference/api/pandas.DataFrame.replace.html"
      ],
      "execution_count": null,
      "outputs": []
    },
    {
      "cell_type": "code",
      "metadata": {
        "id": "k2qXSdYNEeUh"
      },
      "source": [
        "#df2.tail()"
      ],
      "execution_count": null,
      "outputs": []
    },
    {
      "cell_type": "code",
      "metadata": {
        "id": "VFG5H9_w-SFP"
      },
      "source": [
        "\n",
        "#df2n = df2.to_numpy().astype(float)\n",
        "\n",
        "#df2n.shape\n"
      ],
      "execution_count": null,
      "outputs": []
    },
    {
      "cell_type": "code",
      "metadata": {
        "id": "1VZ42Oo91ODK"
      },
      "source": [
        "url2 = 'http://archive.ics.uci.edu/ml/machine-learning-databases/heart-disease/processed.cleveland.data'\n",
        "df_clev = pd.read_csv(url2,header=None,error_bad_lines=False)"
      ],
      "execution_count": null,
      "outputs": []
    },
    {
      "cell_type": "code",
      "metadata": {
        "colab": {
          "base_uri": "https://localhost:8080/"
        },
        "id": "E00P5u6be3U5",
        "outputId": "e70b7f2e-ed07-4369-a455-ce08b7b9f4d0"
      },
      "source": [
        "questionmark = {'?':'-10000'}\n",
        "\n",
        "dfcn = df_clev\n",
        "dfcn = dfcn.replace({11:questionmark,12:questionmark})\n",
        "dfcn = dfcn.to_numpy().astype(float)\n",
        "\n",
        "print(np.sum(dfcn=='?'))#,np.sum(df2n=='?'))"
      ],
      "execution_count": null,
      "outputs": [
        {
          "output_type": "stream",
          "text": [
            "0\n"
          ],
          "name": "stdout"
        },
        {
          "output_type": "stream",
          "text": [
            "/usr/local/lib/python3.7/dist-packages/ipykernel_launcher.py:7: FutureWarning: elementwise comparison failed; returning scalar instead, but in the future will perform elementwise comparison\n",
            "  import sys\n"
          ],
          "name": "stderr"
        }
      ]
    },
    {
      "cell_type": "code",
      "metadata": {
        "colab": {
          "base_uri": "https://localhost:8080/"
        },
        "id": "r0gWLPhNB_Mc",
        "outputId": "92e8eed0-4953-4a3b-b063-d9f12176aee0"
      },
      "source": [
        "import sklearn as sk\n",
        "from sklearn.linear_model import LogisticRegression\n",
        "import os\n",
        "#change here\n",
        "y = dfcn[:,13]\n",
        "\n",
        "X = dfcn[:,:13]\n",
        "\n",
        "LR = LogisticRegression(max_iter = 100000,random_state=0, solver='lbfgs', multi_class='auto').fit(X, y)\n",
        "round(LR.score(X,y), 5)\n"
      ],
      "execution_count": null,
      "outputs": [
        {
          "output_type": "execute_result",
          "data": {
            "text/plain": [
              "0.62046"
            ]
          },
          "metadata": {
            "tags": []
          },
          "execution_count": 10
        }
      ]
    },
    {
      "cell_type": "code",
      "metadata": {
        "id": "b6hekr3Q5Cb9"
      },
      "source": [
        "out = LR.predict(X)"
      ],
      "execution_count": null,
      "outputs": []
    },
    {
      "cell_type": "code",
      "metadata": {
        "colab": {
          "base_uri": "https://localhost:8080/"
        },
        "id": "5iq0bkTC0A4e",
        "outputId": "f8c96cbb-a50f-4a07-dfd9-57fdeb7204c2"
      },
      "source": [
        "from sklearn import svm\n",
        "clf = svm.SVC(decision_function_shape='ovo')\n",
        "print(clf.kernel)\n",
        "clf = clf.fit(X, y)\n",
        "out = clf.predict(X)\n",
        "print(np.mean(out==y))"
      ],
      "execution_count": null,
      "outputs": [
        {
          "output_type": "stream",
          "text": [
            "rbf\n",
            "0.5412541254125413\n"
          ],
          "name": "stdout"
        }
      ]
    },
    {
      "cell_type": "code",
      "metadata": {
        "colab": {
          "base_uri": "https://localhost:8080/"
        },
        "id": "yLjGvKKN1i_e",
        "outputId": "88803514-3b08-4369-a979-8bb08a06517a"
      },
      "source": [
        "C_2d_range = [1e-2, 1, 1e2]\n",
        "gamma_2d_range = [1e-1, 1, 1e1]\n",
        "classifiers = []\n",
        "for C in C_2d_range:\n",
        "    for gamma in gamma_2d_range:\n",
        "        clf = svm.SVC(C=C, gamma=gamma,decision_function_shape='ovo')\n",
        "        clf.fit(X, y)\n",
        "        out = clf.predict(X)\n",
        "        if np.mean(y==out) > .6:\n",
        "          print(np.mean(y==out),C,gamma)\n",
        "        classifiers.append((C, gamma, clf,np.mean(y==out)))\n",
        "\n",
        "clf = svm.SVC(C=1, gamma=.1,decision_function_shape='ovo')\n",
        "clf.fit(X, y)\n",
        "clf.predict(X)"
      ],
      "execution_count": null,
      "outputs": [
        {
          "output_type": "stream",
          "text": [
            "1.0 1 0.1\n",
            "1.0 1 1\n",
            "1.0 1 10.0\n",
            "1.0 100.0 0.1\n",
            "1.0 100.0 1\n",
            "1.0 100.0 10.0\n"
          ],
          "name": "stdout"
        },
        {
          "output_type": "execute_result",
          "data": {
            "text/plain": [
              "array([0., 2., 1., 0., 0., 0., 3., 0., 2., 1., 0., 0., 2., 0., 0., 0., 1.,\n",
              "       0., 0., 0., 0., 0., 1., 3., 4., 0., 0., 0., 0., 3., 0., 2., 1., 0.,\n",
              "       0., 0., 3., 1., 3., 0., 4., 0., 0., 0., 1., 4., 0., 4., 0., 0., 0.,\n",
              "       0., 2., 0., 1., 1., 1., 1., 0., 0., 2., 0., 1., 0., 2., 2., 1., 0.,\n",
              "       2., 1., 0., 3., 1., 1., 1., 0., 1., 0., 0., 3., 0., 0., 0., 3., 0.,\n",
              "       0., 0., 0., 0., 0., 0., 3., 0., 0., 0., 1., 2., 3., 0., 0., 0., 0.,\n",
              "       0., 0., 3., 0., 2., 1., 2., 3., 1., 1., 0., 2., 2., 0., 0., 0., 3.,\n",
              "       2., 3., 4., 0., 3., 1., 0., 3., 3., 0., 0., 0., 0., 0., 0., 0., 0.,\n",
              "       4., 3., 1., 0., 0., 1., 0., 1., 0., 1., 4., 0., 0., 0., 0., 0., 0.,\n",
              "       4., 3., 1., 1., 1., 2., 0., 0., 4., 0., 0., 0., 0., 0., 0., 1., 0.,\n",
              "       3., 0., 1., 0., 4., 1., 0., 1., 0., 0., 3., 2., 0., 0., 1., 0., 0.,\n",
              "       2., 1., 2., 0., 3., 1., 2., 0., 3., 0., 0., 0., 1., 0., 0., 0., 0.,\n",
              "       0., 3., 3., 3., 0., 1., 0., 4., 0., 3., 1., 0., 0., 0., 0., 0., 0.,\n",
              "       0., 0., 3., 1., 0., 0., 0., 3., 2., 0., 2., 1., 0., 0., 3., 2., 1.,\n",
              "       0., 0., 0., 0., 0., 2., 0., 2., 2., 1., 3., 0., 0., 1., 0., 0., 0.,\n",
              "       0., 0., 0., 0., 1., 0., 3., 0., 0., 4., 2., 2., 2., 1., 0., 1., 0.,\n",
              "       2., 0., 1., 0., 0., 0., 1., 0., 2., 0., 3., 0., 2., 4., 2., 0., 0.,\n",
              "       0., 1., 0., 2., 2., 1., 0., 3., 1., 1., 2., 3., 1., 0.])"
            ]
          },
          "metadata": {
            "tags": []
          },
          "execution_count": 13
        }
      ]
    },
    {
      "cell_type": "code",
      "metadata": {
        "colab": {
          "base_uri": "https://localhost:8080/"
        },
        "id": "rrHT60jJ2Yjp",
        "outputId": "beac3a79-6278-4d50-d010-0ebf7662d587"
      },
      "source": [
        "from sklearn.neural_network import MLPClassifier\n",
        "clf = MLPClassifier(random_state=1, max_iter=30000,learning_rate_init = .00001).fit(X, y)\n",
        "clf.predict(X)\n",
        "clf.score(X, y)\n"
      ],
      "execution_count": null,
      "outputs": [
        {
          "output_type": "execute_result",
          "data": {
            "text/plain": [
              "0.594059405940594"
            ]
          },
          "metadata": {
            "tags": []
          },
          "execution_count": 14
        }
      ]
    },
    {
      "cell_type": "code",
      "metadata": {
        "colab": {
          "base_uri": "https://localhost:8080/"
        },
        "id": "wOzU_HZY4Lfj",
        "outputId": "2107dda6-371f-4fdd-c796-8c30ff482034"
      },
      "source": [
        "from sklearn.ensemble import RandomForestClassifier\n",
        "from sklearn.datasets import make_classification\n",
        "#X, y = make_classification(n_samples=1000, n_features=4,\n",
        "#...                            n_informative=2, n_redundant=0,\n",
        "#...                            random_state=0, shuffle=False)\n",
        "clf = RandomForestClassifier(max_depth=7, random_state=0)\n",
        "clf.fit(X, y)\n",
        "print(clf.score(X,y))\n"
      ],
      "execution_count": null,
      "outputs": [
        {
          "output_type": "stream",
          "text": [
            "0.9702970297029703\n"
          ],
          "name": "stdout"
        }
      ]
    },
    {
      "cell_type": "code",
      "metadata": {
        "colab": {
          "base_uri": "https://localhost:8080/"
        },
        "id": "z1VXy_wS-N-t",
        "outputId": "1e73c1bb-f43d-4dcd-e22e-511b5dcccece"
      },
      "source": [
        "from sklearn.naive_bayes import GaussianNB\n",
        "gnb = GaussianNB().fit(X, y)\n",
        "gnb_score = gnb.score(X,y)\n",
        "print(gnb_score)"
      ],
      "execution_count": null,
      "outputs": [
        {
          "output_type": "stream",
          "text": [
            "0.18151815181518152\n"
          ],
          "name": "stdout"
        }
      ]
    },
    {
      "cell_type": "code",
      "metadata": {
        "colab": {
          "base_uri": "https://localhost:8080/"
        },
        "id": "IWAnVyuI_LBq",
        "outputId": "27d8a945-9a76-4b06-bd83-33b848e6fcd4"
      },
      "source": [
        "from sklearn.neighbors import KNeighborsClassifier\n",
        "neigh = KNeighborsClassifier(n_neighbors=4)\n",
        "neigh.fit(X, y)\n",
        "print(neigh.score(X,y))"
      ],
      "execution_count": null,
      "outputs": [
        {
          "output_type": "stream",
          "text": [
            "0.6567656765676567\n"
          ],
          "name": "stdout"
        }
      ]
    },
    {
      "cell_type": "code",
      "metadata": {
        "id": "X1Ni2-5h_0mS"
      },
      "source": [
        "#https://medium.com/@rrfd/boosting-bagging-and-stacking-ensemble-methods-with-sklearn-and-mlens-a455c0c982de"
      ],
      "execution_count": null,
      "outputs": []
    },
    {
      "cell_type": "code",
      "metadata": {
        "colab": {
          "base_uri": "https://localhost:8080/"
        },
        "id": "yTeqtMpzHEBo",
        "outputId": "cc95d8df-8289-4a0a-fe31-1d529a74e8ef"
      },
      "source": [
        "from sklearn.ensemble import BaggingClassifier\n",
        "from sklearn.model_selection import cross_val_score\n",
        "\n",
        "clf = KNeighborsClassifier()\n",
        "clf.fit(X,y)\n",
        "bagging_clf = BaggingClassifier(clf, max_samples=0.4, max_features=4, random_state=0)\n",
        "bagging_scores = cross_val_score(bagging_clf, X, y, cv=10, n_jobs=-1)\n",
        "print(bagging_scores)\n",
        "knnscores = cross_val_score(clf, X, y, cv=10, n_jobs=-1)\n",
        "print(knnscores)"
      ],
      "execution_count": null,
      "outputs": [
        {
          "output_type": "stream",
          "text": [
            "[0.5483871  0.5483871  0.58064516 0.6        0.56666667 0.66666667\n",
            " 0.56666667 0.53333333 0.53333333 0.53333333]\n",
            "[0.5483871  0.48387097 0.51612903 0.56666667 0.53333333 0.4\n",
            " 0.53333333 0.53333333 0.33333333 0.53333333]\n"
          ],
          "name": "stdout"
        }
      ]
    },
    {
      "cell_type": "code",
      "metadata": {
        "colab": {
          "base_uri": "https://localhost:8080/"
        },
        "id": "80ANxcHeQOzM",
        "outputId": "963fdc1b-468e-4453-9246-cba91b9bb285"
      },
      "source": [
        "from sklearn.ensemble import AdaBoostClassifier\n",
        "\n",
        "clf = AdaBoostClassifier(base_estimator=None)\n",
        "clf.fit(X,y)\n",
        "clf.score(X,y)\n",
        "cross_val_score(clf, X, y, cv=10, n_jobs=-1)"
      ],
      "execution_count": null,
      "outputs": [
        {
          "output_type": "execute_result",
          "data": {
            "text/plain": [
              "array([0.67741935, 0.58064516, 0.5483871 , 0.66666667, 0.53333333,\n",
              "       0.46666667, 0.5       , 0.43333333, 0.46666667, 0.46666667])"
            ]
          },
          "metadata": {
            "tags": []
          },
          "execution_count": 20
        }
      ]
    },
    {
      "cell_type": "code",
      "metadata": {
        "id": "YQNynTgkY0Kh",
        "colab": {
          "base_uri": "https://localhost:8080/"
        },
        "outputId": "ebe3ec6d-4f06-4256-e2ea-a58fdfcbccec"
      },
      "source": [
        "from sklearn.ensemble import AdaBoostClassifier, GradientBoostingClassifier\n",
        "grad_boost = GradientBoostingClassifier()\n",
        "cross_val_score(grad_boost, X, y, cv=10, n_jobs=-1)"
      ],
      "execution_count": null,
      "outputs": [
        {
          "output_type": "execute_result",
          "data": {
            "text/plain": [
              "array([0.64516129, 0.51612903, 0.61290323, 0.56666667, 0.63333333,\n",
              "       0.46666667, 0.46666667, 0.66666667, 0.53333333, 0.56666667])"
            ]
          },
          "metadata": {
            "tags": []
          },
          "execution_count": 21
        }
      ]
    },
    {
      "cell_type": "code",
      "metadata": {
        "id": "m3CS2goSZsCj",
        "colab": {
          "base_uri": "https://localhost:8080/"
        },
        "outputId": "719bde8a-0e35-438f-8dfc-d566b0daeb8a"
      },
      "source": [
        "#\n",
        "from sklearn.ensemble import ExtraTreesClassifier, VotingClassifier\n",
        "from sklearn.linear_model import RidgeClassifier\n",
        "rf = RandomForestClassifier()\n",
        "et = ExtraTreesClassifier()\n",
        "knn = KNeighborsClassifier()\n",
        "svc = svm.SVC()\n",
        "rg = RidgeClassifier()\n",
        "\n",
        "clf = [rf, et, knn, svc, rg]\n",
        "eclf = VotingClassifier(estimators=[('Random Forests', rf), ('Extra Trees', et), ('KNeighbors', knn), ('SVC', svc), ('Ridge Classifier', rg)], voting='hard')\n",
        "for clf, label in zip([rf, et, knn, svc, rg, eclf], ['Random Forest', 'Extra Trees', 'KNeighbors', 'SVC', 'Ridge Classifier', 'Ensemble']):\n",
        "    scores = cross_val_score(clf, X, y, cv=10, scoring='accuracy')\n",
        "    print(\"Accuracy: %0.2f (+/- %0.2f) [%s]\" % (scores.mean(), scores.std(), label))\n"
      ],
      "execution_count": null,
      "outputs": [
        {
          "output_type": "stream",
          "text": [
            "Accuracy: 0.58 (+/- 0.06) [Random Forest]\n",
            "Accuracy: 0.58 (+/- 0.07) [Extra Trees]\n",
            "Accuracy: 0.50 (+/- 0.07) [KNeighbors]\n",
            "Accuracy: 0.54 (+/- 0.01) [SVC]\n",
            "Accuracy: 0.56 (+/- 0.03) [Ridge Classifier]\n",
            "Accuracy: 0.56 (+/- 0.04) [Ensemble]\n"
          ],
          "name": "stdout"
        }
      ]
    },
    {
      "cell_type": "code",
      "metadata": {
        "id": "_dWg9jjGcU9O",
        "colab": {
          "base_uri": "https://localhost:8080/"
        },
        "outputId": "b0f0bd1a-70cc-4b48-fdb1-d731aceb68d3"
      },
      "source": [
        "from sklearn.metrics import f1_score\n",
        "y_true = [0, 1, 2, 0, 1, 2]\n",
        "y_pred = [0, 2, 1, 0, 0, 1]\n",
        "f1_score(y_true, y_pred, average=None)\n",
        "\n"
      ],
      "execution_count": null,
      "outputs": [
        {
          "output_type": "execute_result",
          "data": {
            "text/plain": [
              "array([0.8, 0. , 0. ])"
            ]
          },
          "metadata": {
            "tags": []
          },
          "execution_count": 23
        }
      ]
    },
    {
      "cell_type": "code",
      "metadata": {
        "id": "2f_t5pezu9ih"
      },
      "source": [
        "from sklearn import metrics\n",
        "scores = cross_val_score(\n",
        "clf, X, y, cv=5, scoring='f1_macro')\n"
      ],
      "execution_count": null,
      "outputs": []
    },
    {
      "cell_type": "code",
      "metadata": {
        "id": "C5wnyditwt-v",
        "colab": {
          "base_uri": "https://localhost:8080/"
        },
        "outputId": "ea73ce02-6d3b-46c7-f584-a7866059ab45"
      },
      "source": [
        "scores"
      ],
      "execution_count": null,
      "outputs": [
        {
          "output_type": "execute_result",
          "data": {
            "text/plain": [
              "array([0.20348837, 0.25273002, 0.19058824, 0.22196078, 0.2549779 ])"
            ]
          },
          "metadata": {
            "tags": []
          },
          "execution_count": 25
        }
      ]
    },
    {
      "cell_type": "code",
      "metadata": {
        "id": "Hu0wsnF3wvmv"
      },
      "source": [
        "#https://scikit-learn.org/stable/auto_examples/model_selection/plot_roc_crossval.html"
      ],
      "execution_count": null,
      "outputs": []
    },
    {
      "cell_type": "code",
      "metadata": {
        "id": "Virt0YvbxGM0",
        "colab": {
          "base_uri": "https://localhost:8080/",
          "height": 1000
        },
        "outputId": "d79e66bd-62a2-40ad-8376-f71b5c16b495"
      },
      "source": [
        "#note multiclass roc curve is a little poorly defined, so i went with\n",
        "#solution from: https://medium.com/@plog397/auc-roc-curve-scoring-function-for-multi-class-classification-9822871a6659\n",
        "\n",
        "from sklearn.model_selection import StratifiedKFold\n",
        "from sklearn.metrics import plot_roc_curve\n",
        "import matplotlib.pyplot as plt\n",
        "from sklearn import preprocessing\n",
        "from sklearn.metrics import roc_auc_score\n",
        "\n",
        "\n",
        "cv = StratifiedKFold(n_splits=10)\n",
        "#y = np.expand_dims(y.squeeze(), axis=1)\n",
        "y = y.squeeze()\n",
        "\n",
        "ite = 5\n",
        "n_est = 100\n",
        "d = 6\n",
        "k = 5\n",
        "\n",
        "svcLin = svm.SVC(kernel='linear',decision_function_shape='ovo', probability=True)\n",
        "\n",
        "knnc = KNeighborsClassifier(n_neighbors=k)\n",
        "bagging_knnc = BaggingClassifier(knnc, max_samples=0.4, max_features=4)\n",
        "\n",
        "rfc = RandomForestClassifier(max_depth=d,n_estimators = n_est)\n",
        "\n",
        "lrc = LogisticRegression(max_iter = 10**(ite), solver='lbfgs', multi_class='auto')\n",
        "adac = AdaBoostClassifier(base_estimator=lrc)\n",
        "\n",
        "vc = VotingClassifier(estimators=[('Random Forests', rfc), ('KNeighbors', bagging_knnc), ('SVC', svcLin), ('Adaboosted logistic reg', adac)], voting='hard')\n",
        "\n",
        "\n",
        "#mlpc = MLPClassifier(random_state=1, max_iter=10**(ite),learning_rate_init = 10**(lr)) \n",
        "#code from link above in note (medium)\n",
        "\n",
        "##VotingClassifier(estimators=[('Random Forests', rf), ('Extra Trees', et), ('KNeighbors', knn), ('SVC', svc), ('Ridge Classifier', rg)], voting='hard')\n",
        "def multiclass_roc_auc_score(y_test, y_pred, average=\"macro\"):\n",
        "  lb = preprocessing.LabelBinarizer()\n",
        "  lb.fit(y_test)\n",
        "  y_test = lb.transform(y_test)\n",
        "  y_pred = lb.transform(y_pred)\n",
        "  return roc_auc_score(y_test, y_pred, average=average)\n",
        "for epoch in range(1):\n",
        "  for smooth in range(-6,-12,-1):\n",
        "    classifier = vc\n",
        "\n",
        "    for i, (train, test) in enumerate(cv.split(X, y)):\n",
        "      print('\\n',i,smooth)\n",
        "      classifier.fit(X[train], y[train])\n",
        "      y_pred = classifier.predict(X[test])\n",
        "      print(\"score\",classifier.score(X[test],y[test]))\n",
        "      print('auc score',multiclass_roc_auc_score(y[test],y_pred))\n",
        "      print('f1 score', f1_score(y[test], y_pred, average='macro'))\n",
        "    "
      ],
      "execution_count": null,
      "outputs": [
        {
          "output_type": "stream",
          "text": [
            "\n",
            " 0 -6\n",
            "score 0.6129032258064516\n",
            "auc score 0.5817142857142857\n",
            "f1 score 0.2729965156794425\n",
            "\n",
            " 1 -6\n",
            "score 0.6451612903225806\n",
            "auc score 0.6221904761904762\n",
            "f1 score 0.35714285714285715\n",
            "\n",
            " 2 -6\n",
            "score 0.5806451612903226\n",
            "auc score 0.5617224958949097\n",
            "f1 score 0.23252032520325203\n",
            "\n",
            " 3 -6\n",
            "score 0.6666666666666666\n",
            "auc score 0.6202633882907717\n",
            "f1 score 0.3550877192982456\n",
            "\n",
            " 4 -6\n",
            "score 0.6333333333333333\n",
            "auc score 0.6214652365514435\n",
            "f1 score 0.35175438596491226\n",
            "\n",
            " 5 -6\n",
            "score 0.5\n",
            "auc score 0.5229725274725275\n",
            "f1 score 0.19181286549707602\n",
            "\n",
            " 6 -6\n",
            "score 0.5333333333333333\n",
            "auc score 0.5163296703296704\n",
            "f1 score 0.15609756097560973\n",
            "\n",
            " 7 -6\n",
            "score 0.5\n",
            "auc score 0.5093763736263737\n",
            "f1 score 0.15384615384615385\n",
            "\n",
            " 8 -6\n",
            "score 0.5333333333333333\n",
            "auc score 0.5548076923076923\n",
            "f1 score 0.25438165438165433\n",
            "\n",
            " 9 -6\n",
            "score 0.6\n",
            "auc score 0.5810132625994695\n",
            "f1 score 0.252991452991453\n",
            "\n",
            " 0 -7\n",
            "score 0.6451612903225806\n",
            "auc score 0.6257619047619047\n",
            "f1 score 0.34816849816849815\n",
            "\n",
            " 1 -7\n",
            "score 0.6129032258064516\n",
            "auc score 0.6055238095238096\n",
            "f1 score 0.2886446886446887\n",
            "\n",
            " 2 -7\n",
            "score 0.5806451612903226\n",
            "auc score 0.5617224958949097\n",
            "f1 score 0.23252032520325203\n",
            "\n",
            " 3 -7\n",
            "score 0.6333333333333333\n",
            "auc score 0.5959044139317973\n",
            "f1 score 0.31965811965811963\n",
            "\n",
            " 4 -7\n",
            "score 0.5666666666666667\n",
            "auc score 0.5564611314611314\n",
            "f1 score 0.24000000000000005\n",
            "\n",
            " 5 -7\n",
            "score 0.6333333333333333\n",
            "auc score 0.6281918340280409\n",
            "f1 score 0.37523809523809526\n",
            "\n",
            " 6 -7\n",
            "score 0.5333333333333333\n",
            "auc score 0.5386204054566124\n",
            "f1 score 0.22051282051282053\n",
            "\n",
            " 7 -7\n",
            "score 0.5\n",
            "auc score 0.5060796703296704\n",
            "f1 score 0.15\n",
            "\n",
            " 8 -7\n",
            "score 0.5666666666666667\n",
            "auc score 0.5838076923076924\n",
            "f1 score 0.32468468468468464\n",
            "\n",
            " 9 -7\n",
            "score 0.6333333333333333\n",
            "auc score 0.6098594164456234\n",
            "f1 score 0.3441025641025641\n",
            "\n",
            " 0 -8\n",
            "score 0.6129032258064516\n",
            "auc score 0.5817142857142857\n",
            "f1 score 0.2729965156794425\n",
            "\n",
            " 1 -8\n",
            "score 0.6129032258064516\n",
            "auc score 0.6055238095238096\n",
            "f1 score 0.2886446886446887\n",
            "\n",
            " 2 -8\n",
            "score 0.6129032258064516\n",
            "auc score 0.5985041050903119\n",
            "f1 score 0.28013937282229967\n",
            "\n",
            " 3 -8\n"
          ],
          "name": "stdout"
        },
        {
          "output_type": "error",
          "ename": "KeyboardInterrupt",
          "evalue": "ignored",
          "traceback": [
            "\u001b[0;31m---------------------------------------------------------------------------\u001b[0m",
            "\u001b[0;31mKeyboardInterrupt\u001b[0m                         Traceback (most recent call last)",
            "\u001b[0;32m<ipython-input-41-dce59eee286f>\u001b[0m in \u001b[0;36m<module>\u001b[0;34m()\u001b[0m\n\u001b[1;32m     47\u001b[0m     \u001b[0;32mfor\u001b[0m \u001b[0mi\u001b[0m\u001b[0;34m,\u001b[0m \u001b[0;34m(\u001b[0m\u001b[0mtrain\u001b[0m\u001b[0;34m,\u001b[0m \u001b[0mtest\u001b[0m\u001b[0;34m)\u001b[0m \u001b[0;32min\u001b[0m \u001b[0menumerate\u001b[0m\u001b[0;34m(\u001b[0m\u001b[0mcv\u001b[0m\u001b[0;34m.\u001b[0m\u001b[0msplit\u001b[0m\u001b[0;34m(\u001b[0m\u001b[0mX\u001b[0m\u001b[0;34m,\u001b[0m \u001b[0my\u001b[0m\u001b[0;34m)\u001b[0m\u001b[0;34m)\u001b[0m\u001b[0;34m:\u001b[0m\u001b[0;34m\u001b[0m\u001b[0;34m\u001b[0m\u001b[0m\n\u001b[1;32m     48\u001b[0m       \u001b[0mprint\u001b[0m\u001b[0;34m(\u001b[0m\u001b[0;34m'\\n'\u001b[0m\u001b[0;34m,\u001b[0m\u001b[0mi\u001b[0m\u001b[0;34m,\u001b[0m\u001b[0msmooth\u001b[0m\u001b[0;34m)\u001b[0m\u001b[0;34m\u001b[0m\u001b[0;34m\u001b[0m\u001b[0m\n\u001b[0;32m---> 49\u001b[0;31m       \u001b[0mclassifier\u001b[0m\u001b[0;34m.\u001b[0m\u001b[0mfit\u001b[0m\u001b[0;34m(\u001b[0m\u001b[0mX\u001b[0m\u001b[0;34m[\u001b[0m\u001b[0mtrain\u001b[0m\u001b[0;34m]\u001b[0m\u001b[0;34m,\u001b[0m \u001b[0my\u001b[0m\u001b[0;34m[\u001b[0m\u001b[0mtrain\u001b[0m\u001b[0;34m]\u001b[0m\u001b[0;34m)\u001b[0m\u001b[0;34m\u001b[0m\u001b[0;34m\u001b[0m\u001b[0m\n\u001b[0m\u001b[1;32m     50\u001b[0m       \u001b[0my_pred\u001b[0m \u001b[0;34m=\u001b[0m \u001b[0mclassifier\u001b[0m\u001b[0;34m.\u001b[0m\u001b[0mpredict\u001b[0m\u001b[0;34m(\u001b[0m\u001b[0mX\u001b[0m\u001b[0;34m[\u001b[0m\u001b[0mtest\u001b[0m\u001b[0;34m]\u001b[0m\u001b[0;34m)\u001b[0m\u001b[0;34m\u001b[0m\u001b[0;34m\u001b[0m\u001b[0m\n\u001b[1;32m     51\u001b[0m       \u001b[0mprint\u001b[0m\u001b[0;34m(\u001b[0m\u001b[0;34m\"score\"\u001b[0m\u001b[0;34m,\u001b[0m\u001b[0mclassifier\u001b[0m\u001b[0;34m.\u001b[0m\u001b[0mscore\u001b[0m\u001b[0;34m(\u001b[0m\u001b[0mX\u001b[0m\u001b[0;34m[\u001b[0m\u001b[0mtest\u001b[0m\u001b[0;34m]\u001b[0m\u001b[0;34m,\u001b[0m\u001b[0my\u001b[0m\u001b[0;34m[\u001b[0m\u001b[0mtest\u001b[0m\u001b[0;34m]\u001b[0m\u001b[0;34m)\u001b[0m\u001b[0;34m)\u001b[0m\u001b[0;34m\u001b[0m\u001b[0;34m\u001b[0m\u001b[0m\n",
            "\u001b[0;32m/usr/local/lib/python3.7/dist-packages/sklearn/ensemble/_voting.py\u001b[0m in \u001b[0;36mfit\u001b[0;34m(self, X, y, sample_weight)\u001b[0m\n\u001b[1;32m    220\u001b[0m         \u001b[0mtransformed_y\u001b[0m \u001b[0;34m=\u001b[0m \u001b[0mself\u001b[0m\u001b[0;34m.\u001b[0m\u001b[0mle_\u001b[0m\u001b[0;34m.\u001b[0m\u001b[0mtransform\u001b[0m\u001b[0;34m(\u001b[0m\u001b[0my\u001b[0m\u001b[0;34m)\u001b[0m\u001b[0;34m\u001b[0m\u001b[0;34m\u001b[0m\u001b[0m\n\u001b[1;32m    221\u001b[0m \u001b[0;34m\u001b[0m\u001b[0m\n\u001b[0;32m--> 222\u001b[0;31m         \u001b[0;32mreturn\u001b[0m \u001b[0msuper\u001b[0m\u001b[0;34m(\u001b[0m\u001b[0;34m)\u001b[0m\u001b[0;34m.\u001b[0m\u001b[0mfit\u001b[0m\u001b[0;34m(\u001b[0m\u001b[0mX\u001b[0m\u001b[0;34m,\u001b[0m \u001b[0mtransformed_y\u001b[0m\u001b[0;34m,\u001b[0m \u001b[0msample_weight\u001b[0m\u001b[0;34m)\u001b[0m\u001b[0;34m\u001b[0m\u001b[0;34m\u001b[0m\u001b[0m\n\u001b[0m\u001b[1;32m    223\u001b[0m \u001b[0;34m\u001b[0m\u001b[0m\n\u001b[1;32m    224\u001b[0m     \u001b[0;32mdef\u001b[0m \u001b[0mpredict\u001b[0m\u001b[0;34m(\u001b[0m\u001b[0mself\u001b[0m\u001b[0;34m,\u001b[0m \u001b[0mX\u001b[0m\u001b[0;34m)\u001b[0m\u001b[0;34m:\u001b[0m\u001b[0;34m\u001b[0m\u001b[0;34m\u001b[0m\u001b[0m\n",
            "\u001b[0;32m/usr/local/lib/python3.7/dist-packages/sklearn/ensemble/_voting.py\u001b[0m in \u001b[0;36mfit\u001b[0;34m(self, X, y, sample_weight)\u001b[0m\n\u001b[1;32m     66\u001b[0m                 delayed(_parallel_fit_estimator)(clone(clf), X, y,\n\u001b[1;32m     67\u001b[0m                                                  sample_weight=sample_weight)\n\u001b[0;32m---> 68\u001b[0;31m                 \u001b[0;32mfor\u001b[0m \u001b[0mclf\u001b[0m \u001b[0;32min\u001b[0m \u001b[0mclfs\u001b[0m \u001b[0;32mif\u001b[0m \u001b[0mclf\u001b[0m \u001b[0;32mnot\u001b[0m \u001b[0;32min\u001b[0m \u001b[0;34m(\u001b[0m\u001b[0;32mNone\u001b[0m\u001b[0;34m,\u001b[0m \u001b[0;34m'drop'\u001b[0m\u001b[0;34m)\u001b[0m\u001b[0;34m\u001b[0m\u001b[0;34m\u001b[0m\u001b[0m\n\u001b[0m\u001b[1;32m     69\u001b[0m             )\n\u001b[1;32m     70\u001b[0m \u001b[0;34m\u001b[0m\u001b[0m\n",
            "\u001b[0;32m/usr/local/lib/python3.7/dist-packages/joblib/parallel.py\u001b[0m in \u001b[0;36m__call__\u001b[0;34m(self, iterable)\u001b[0m\n\u001b[1;32m   1042\u001b[0m                 \u001b[0mself\u001b[0m\u001b[0;34m.\u001b[0m\u001b[0m_iterating\u001b[0m \u001b[0;34m=\u001b[0m \u001b[0mself\u001b[0m\u001b[0;34m.\u001b[0m\u001b[0m_original_iterator\u001b[0m \u001b[0;32mis\u001b[0m \u001b[0;32mnot\u001b[0m \u001b[0;32mNone\u001b[0m\u001b[0;34m\u001b[0m\u001b[0;34m\u001b[0m\u001b[0m\n\u001b[1;32m   1043\u001b[0m \u001b[0;34m\u001b[0m\u001b[0m\n\u001b[0;32m-> 1044\u001b[0;31m             \u001b[0;32mwhile\u001b[0m \u001b[0mself\u001b[0m\u001b[0;34m.\u001b[0m\u001b[0mdispatch_one_batch\u001b[0m\u001b[0;34m(\u001b[0m\u001b[0miterator\u001b[0m\u001b[0;34m)\u001b[0m\u001b[0;34m:\u001b[0m\u001b[0;34m\u001b[0m\u001b[0;34m\u001b[0m\u001b[0m\n\u001b[0m\u001b[1;32m   1045\u001b[0m                 \u001b[0;32mpass\u001b[0m\u001b[0;34m\u001b[0m\u001b[0;34m\u001b[0m\u001b[0m\n\u001b[1;32m   1046\u001b[0m \u001b[0;34m\u001b[0m\u001b[0m\n",
            "\u001b[0;32m/usr/local/lib/python3.7/dist-packages/joblib/parallel.py\u001b[0m in \u001b[0;36mdispatch_one_batch\u001b[0;34m(self, iterator)\u001b[0m\n\u001b[1;32m    857\u001b[0m                 \u001b[0;32mreturn\u001b[0m \u001b[0;32mFalse\u001b[0m\u001b[0;34m\u001b[0m\u001b[0;34m\u001b[0m\u001b[0m\n\u001b[1;32m    858\u001b[0m             \u001b[0;32melse\u001b[0m\u001b[0;34m:\u001b[0m\u001b[0;34m\u001b[0m\u001b[0;34m\u001b[0m\u001b[0m\n\u001b[0;32m--> 859\u001b[0;31m                 \u001b[0mself\u001b[0m\u001b[0;34m.\u001b[0m\u001b[0m_dispatch\u001b[0m\u001b[0;34m(\u001b[0m\u001b[0mtasks\u001b[0m\u001b[0;34m)\u001b[0m\u001b[0;34m\u001b[0m\u001b[0;34m\u001b[0m\u001b[0m\n\u001b[0m\u001b[1;32m    860\u001b[0m                 \u001b[0;32mreturn\u001b[0m \u001b[0;32mTrue\u001b[0m\u001b[0;34m\u001b[0m\u001b[0;34m\u001b[0m\u001b[0m\n\u001b[1;32m    861\u001b[0m \u001b[0;34m\u001b[0m\u001b[0m\n",
            "\u001b[0;32m/usr/local/lib/python3.7/dist-packages/joblib/parallel.py\u001b[0m in \u001b[0;36m_dispatch\u001b[0;34m(self, batch)\u001b[0m\n\u001b[1;32m    775\u001b[0m         \u001b[0;32mwith\u001b[0m \u001b[0mself\u001b[0m\u001b[0;34m.\u001b[0m\u001b[0m_lock\u001b[0m\u001b[0;34m:\u001b[0m\u001b[0;34m\u001b[0m\u001b[0;34m\u001b[0m\u001b[0m\n\u001b[1;32m    776\u001b[0m             \u001b[0mjob_idx\u001b[0m \u001b[0;34m=\u001b[0m \u001b[0mlen\u001b[0m\u001b[0;34m(\u001b[0m\u001b[0mself\u001b[0m\u001b[0;34m.\u001b[0m\u001b[0m_jobs\u001b[0m\u001b[0;34m)\u001b[0m\u001b[0;34m\u001b[0m\u001b[0;34m\u001b[0m\u001b[0m\n\u001b[0;32m--> 777\u001b[0;31m             \u001b[0mjob\u001b[0m \u001b[0;34m=\u001b[0m \u001b[0mself\u001b[0m\u001b[0;34m.\u001b[0m\u001b[0m_backend\u001b[0m\u001b[0;34m.\u001b[0m\u001b[0mapply_async\u001b[0m\u001b[0;34m(\u001b[0m\u001b[0mbatch\u001b[0m\u001b[0;34m,\u001b[0m \u001b[0mcallback\u001b[0m\u001b[0;34m=\u001b[0m\u001b[0mcb\u001b[0m\u001b[0;34m)\u001b[0m\u001b[0;34m\u001b[0m\u001b[0;34m\u001b[0m\u001b[0m\n\u001b[0m\u001b[1;32m    778\u001b[0m             \u001b[0;31m# A job can complete so quickly than its callback is\u001b[0m\u001b[0;34m\u001b[0m\u001b[0;34m\u001b[0m\u001b[0;34m\u001b[0m\u001b[0m\n\u001b[1;32m    779\u001b[0m             \u001b[0;31m# called before we get here, causing self._jobs to\u001b[0m\u001b[0;34m\u001b[0m\u001b[0;34m\u001b[0m\u001b[0;34m\u001b[0m\u001b[0m\n",
            "\u001b[0;32m/usr/local/lib/python3.7/dist-packages/joblib/_parallel_backends.py\u001b[0m in \u001b[0;36mapply_async\u001b[0;34m(self, func, callback)\u001b[0m\n\u001b[1;32m    206\u001b[0m     \u001b[0;32mdef\u001b[0m \u001b[0mapply_async\u001b[0m\u001b[0;34m(\u001b[0m\u001b[0mself\u001b[0m\u001b[0;34m,\u001b[0m \u001b[0mfunc\u001b[0m\u001b[0;34m,\u001b[0m \u001b[0mcallback\u001b[0m\u001b[0;34m=\u001b[0m\u001b[0;32mNone\u001b[0m\u001b[0;34m)\u001b[0m\u001b[0;34m:\u001b[0m\u001b[0;34m\u001b[0m\u001b[0;34m\u001b[0m\u001b[0m\n\u001b[1;32m    207\u001b[0m         \u001b[0;34m\"\"\"Schedule a func to be run\"\"\"\u001b[0m\u001b[0;34m\u001b[0m\u001b[0;34m\u001b[0m\u001b[0m\n\u001b[0;32m--> 208\u001b[0;31m         \u001b[0mresult\u001b[0m \u001b[0;34m=\u001b[0m \u001b[0mImmediateResult\u001b[0m\u001b[0;34m(\u001b[0m\u001b[0mfunc\u001b[0m\u001b[0;34m)\u001b[0m\u001b[0;34m\u001b[0m\u001b[0;34m\u001b[0m\u001b[0m\n\u001b[0m\u001b[1;32m    209\u001b[0m         \u001b[0;32mif\u001b[0m \u001b[0mcallback\u001b[0m\u001b[0;34m:\u001b[0m\u001b[0;34m\u001b[0m\u001b[0;34m\u001b[0m\u001b[0m\n\u001b[1;32m    210\u001b[0m             \u001b[0mcallback\u001b[0m\u001b[0;34m(\u001b[0m\u001b[0mresult\u001b[0m\u001b[0;34m)\u001b[0m\u001b[0;34m\u001b[0m\u001b[0;34m\u001b[0m\u001b[0m\n",
            "\u001b[0;32m/usr/local/lib/python3.7/dist-packages/joblib/_parallel_backends.py\u001b[0m in \u001b[0;36m__init__\u001b[0;34m(self, batch)\u001b[0m\n\u001b[1;32m    570\u001b[0m         \u001b[0;31m# Don't delay the application, to avoid keeping the input\u001b[0m\u001b[0;34m\u001b[0m\u001b[0;34m\u001b[0m\u001b[0;34m\u001b[0m\u001b[0m\n\u001b[1;32m    571\u001b[0m         \u001b[0;31m# arguments in memory\u001b[0m\u001b[0;34m\u001b[0m\u001b[0;34m\u001b[0m\u001b[0;34m\u001b[0m\u001b[0m\n\u001b[0;32m--> 572\u001b[0;31m         \u001b[0mself\u001b[0m\u001b[0;34m.\u001b[0m\u001b[0mresults\u001b[0m \u001b[0;34m=\u001b[0m \u001b[0mbatch\u001b[0m\u001b[0;34m(\u001b[0m\u001b[0;34m)\u001b[0m\u001b[0;34m\u001b[0m\u001b[0;34m\u001b[0m\u001b[0m\n\u001b[0m\u001b[1;32m    573\u001b[0m \u001b[0;34m\u001b[0m\u001b[0m\n\u001b[1;32m    574\u001b[0m     \u001b[0;32mdef\u001b[0m \u001b[0mget\u001b[0m\u001b[0;34m(\u001b[0m\u001b[0mself\u001b[0m\u001b[0;34m)\u001b[0m\u001b[0;34m:\u001b[0m\u001b[0;34m\u001b[0m\u001b[0;34m\u001b[0m\u001b[0m\n",
            "\u001b[0;32m/usr/local/lib/python3.7/dist-packages/joblib/parallel.py\u001b[0m in \u001b[0;36m__call__\u001b[0;34m(self)\u001b[0m\n\u001b[1;32m    261\u001b[0m         \u001b[0;32mwith\u001b[0m \u001b[0mparallel_backend\u001b[0m\u001b[0;34m(\u001b[0m\u001b[0mself\u001b[0m\u001b[0;34m.\u001b[0m\u001b[0m_backend\u001b[0m\u001b[0;34m,\u001b[0m \u001b[0mn_jobs\u001b[0m\u001b[0;34m=\u001b[0m\u001b[0mself\u001b[0m\u001b[0;34m.\u001b[0m\u001b[0m_n_jobs\u001b[0m\u001b[0;34m)\u001b[0m\u001b[0;34m:\u001b[0m\u001b[0;34m\u001b[0m\u001b[0;34m\u001b[0m\u001b[0m\n\u001b[1;32m    262\u001b[0m             return [func(*args, **kwargs)\n\u001b[0;32m--> 263\u001b[0;31m                     for func, args, kwargs in self.items]\n\u001b[0m\u001b[1;32m    264\u001b[0m \u001b[0;34m\u001b[0m\u001b[0m\n\u001b[1;32m    265\u001b[0m     \u001b[0;32mdef\u001b[0m \u001b[0m__reduce__\u001b[0m\u001b[0;34m(\u001b[0m\u001b[0mself\u001b[0m\u001b[0;34m)\u001b[0m\u001b[0;34m:\u001b[0m\u001b[0;34m\u001b[0m\u001b[0;34m\u001b[0m\u001b[0m\n",
            "\u001b[0;32m/usr/local/lib/python3.7/dist-packages/joblib/parallel.py\u001b[0m in \u001b[0;36m<listcomp>\u001b[0;34m(.0)\u001b[0m\n\u001b[1;32m    261\u001b[0m         \u001b[0;32mwith\u001b[0m \u001b[0mparallel_backend\u001b[0m\u001b[0;34m(\u001b[0m\u001b[0mself\u001b[0m\u001b[0;34m.\u001b[0m\u001b[0m_backend\u001b[0m\u001b[0;34m,\u001b[0m \u001b[0mn_jobs\u001b[0m\u001b[0;34m=\u001b[0m\u001b[0mself\u001b[0m\u001b[0;34m.\u001b[0m\u001b[0m_n_jobs\u001b[0m\u001b[0;34m)\u001b[0m\u001b[0;34m:\u001b[0m\u001b[0;34m\u001b[0m\u001b[0;34m\u001b[0m\u001b[0m\n\u001b[1;32m    262\u001b[0m             return [func(*args, **kwargs)\n\u001b[0;32m--> 263\u001b[0;31m                     for func, args, kwargs in self.items]\n\u001b[0m\u001b[1;32m    264\u001b[0m \u001b[0;34m\u001b[0m\u001b[0m\n\u001b[1;32m    265\u001b[0m     \u001b[0;32mdef\u001b[0m \u001b[0m__reduce__\u001b[0m\u001b[0;34m(\u001b[0m\u001b[0mself\u001b[0m\u001b[0;34m)\u001b[0m\u001b[0;34m:\u001b[0m\u001b[0;34m\u001b[0m\u001b[0;34m\u001b[0m\u001b[0m\n",
            "\u001b[0;32m/usr/local/lib/python3.7/dist-packages/sklearn/ensemble/_base.py\u001b[0m in \u001b[0;36m_parallel_fit_estimator\u001b[0;34m(estimator, X, y, sample_weight)\u001b[0m\n\u001b[1;32m     34\u001b[0m             \u001b[0;32mraise\u001b[0m\u001b[0;34m\u001b[0m\u001b[0;34m\u001b[0m\u001b[0m\n\u001b[1;32m     35\u001b[0m     \u001b[0;32melse\u001b[0m\u001b[0;34m:\u001b[0m\u001b[0;34m\u001b[0m\u001b[0;34m\u001b[0m\u001b[0m\n\u001b[0;32m---> 36\u001b[0;31m         \u001b[0mestimator\u001b[0m\u001b[0;34m.\u001b[0m\u001b[0mfit\u001b[0m\u001b[0;34m(\u001b[0m\u001b[0mX\u001b[0m\u001b[0;34m,\u001b[0m \u001b[0my\u001b[0m\u001b[0;34m)\u001b[0m\u001b[0;34m\u001b[0m\u001b[0;34m\u001b[0m\u001b[0m\n\u001b[0m\u001b[1;32m     37\u001b[0m     \u001b[0;32mreturn\u001b[0m \u001b[0mestimator\u001b[0m\u001b[0;34m\u001b[0m\u001b[0;34m\u001b[0m\u001b[0m\n\u001b[1;32m     38\u001b[0m \u001b[0;34m\u001b[0m\u001b[0m\n",
            "\u001b[0;32m/usr/local/lib/python3.7/dist-packages/sklearn/svm/_base.py\u001b[0m in \u001b[0;36mfit\u001b[0;34m(self, X, y, sample_weight)\u001b[0m\n\u001b[1;32m    197\u001b[0m \u001b[0;34m\u001b[0m\u001b[0m\n\u001b[1;32m    198\u001b[0m         \u001b[0mseed\u001b[0m \u001b[0;34m=\u001b[0m \u001b[0mrnd\u001b[0m\u001b[0;34m.\u001b[0m\u001b[0mrandint\u001b[0m\u001b[0;34m(\u001b[0m\u001b[0mnp\u001b[0m\u001b[0;34m.\u001b[0m\u001b[0miinfo\u001b[0m\u001b[0;34m(\u001b[0m\u001b[0;34m'i'\u001b[0m\u001b[0;34m)\u001b[0m\u001b[0;34m.\u001b[0m\u001b[0mmax\u001b[0m\u001b[0;34m)\u001b[0m\u001b[0;34m\u001b[0m\u001b[0;34m\u001b[0m\u001b[0m\n\u001b[0;32m--> 199\u001b[0;31m         \u001b[0mfit\u001b[0m\u001b[0;34m(\u001b[0m\u001b[0mX\u001b[0m\u001b[0;34m,\u001b[0m \u001b[0my\u001b[0m\u001b[0;34m,\u001b[0m \u001b[0msample_weight\u001b[0m\u001b[0;34m,\u001b[0m \u001b[0msolver_type\u001b[0m\u001b[0;34m,\u001b[0m \u001b[0mkernel\u001b[0m\u001b[0;34m,\u001b[0m \u001b[0mrandom_seed\u001b[0m\u001b[0;34m=\u001b[0m\u001b[0mseed\u001b[0m\u001b[0;34m)\u001b[0m\u001b[0;34m\u001b[0m\u001b[0;34m\u001b[0m\u001b[0m\n\u001b[0m\u001b[1;32m    200\u001b[0m         \u001b[0;31m# see comment on the other call to np.iinfo in this file\u001b[0m\u001b[0;34m\u001b[0m\u001b[0;34m\u001b[0m\u001b[0;34m\u001b[0m\u001b[0m\n\u001b[1;32m    201\u001b[0m \u001b[0;34m\u001b[0m\u001b[0m\n",
            "\u001b[0;32m/usr/local/lib/python3.7/dist-packages/sklearn/svm/_base.py\u001b[0m in \u001b[0;36m_dense_fit\u001b[0;34m(self, X, y, sample_weight, solver_type, kernel, random_seed)\u001b[0m\n\u001b[1;32m    256\u001b[0m                 \u001b[0mcache_size\u001b[0m\u001b[0;34m=\u001b[0m\u001b[0mself\u001b[0m\u001b[0;34m.\u001b[0m\u001b[0mcache_size\u001b[0m\u001b[0;34m,\u001b[0m \u001b[0mcoef0\u001b[0m\u001b[0;34m=\u001b[0m\u001b[0mself\u001b[0m\u001b[0;34m.\u001b[0m\u001b[0mcoef0\u001b[0m\u001b[0;34m,\u001b[0m\u001b[0;34m\u001b[0m\u001b[0;34m\u001b[0m\u001b[0m\n\u001b[1;32m    257\u001b[0m                 \u001b[0mgamma\u001b[0m\u001b[0;34m=\u001b[0m\u001b[0mself\u001b[0m\u001b[0;34m.\u001b[0m\u001b[0m_gamma\u001b[0m\u001b[0;34m,\u001b[0m \u001b[0mepsilon\u001b[0m\u001b[0;34m=\u001b[0m\u001b[0mself\u001b[0m\u001b[0;34m.\u001b[0m\u001b[0mepsilon\u001b[0m\u001b[0;34m,\u001b[0m\u001b[0;34m\u001b[0m\u001b[0;34m\u001b[0m\u001b[0m\n\u001b[0;32m--> 258\u001b[0;31m                 max_iter=self.max_iter, random_seed=random_seed)\n\u001b[0m\u001b[1;32m    259\u001b[0m \u001b[0;34m\u001b[0m\u001b[0m\n\u001b[1;32m    260\u001b[0m         \u001b[0mself\u001b[0m\u001b[0;34m.\u001b[0m\u001b[0m_warn_from_fit_status\u001b[0m\u001b[0;34m(\u001b[0m\u001b[0;34m)\u001b[0m\u001b[0;34m\u001b[0m\u001b[0;34m\u001b[0m\u001b[0m\n",
            "\u001b[0;31mKeyboardInterrupt\u001b[0m: "
          ]
        }
      ]
    },
    {
      "cell_type": "code",
      "metadata": {
        "id": "yCjkE3_h7k4P",
        "colab": {
          "base_uri": "https://localhost:8080/"
        },
        "outputId": "76b57895-a3d4-4fd0-fcf0-8f730cbabacd"
      },
      "source": [
        "print(X.shape)"
      ],
      "execution_count": null,
      "outputs": [
        {
          "output_type": "stream",
          "text": [
            "(303, 13)\n"
          ],
          "name": "stdout"
        }
      ]
    },
    {
      "cell_type": "code",
      "metadata": {
        "id": "Po_LPTnvXTV5"
      },
      "source": [
        "#https://www.kaggle.com/iamhungundji/covid19-symptoms-checker\n",
        "#bonus work dataset: predict severity"
      ],
      "execution_count": null,
      "outputs": []
    }
  ]
}