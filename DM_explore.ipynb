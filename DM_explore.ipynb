{
  "nbformat": 4,
  "nbformat_minor": 0,
  "metadata": {
    "colab": {
      "name": "DM_explore.ipynb",
      "provenance": [],
      "authorship_tag": "ABX9TyP1bFJztAtwsYA8mB8YEnaX",
      "include_colab_link": true
    },
    "kernelspec": {
      "name": "python3",
      "display_name": "Python 3"
    },
    "language_info": {
      "name": "python"
    }
  },
  "cells": [
    {
      "cell_type": "markdown",
      "metadata": {
        "id": "view-in-github",
        "colab_type": "text"
      },
      "source": [
        "<a href=\"https://colab.research.google.com/github/WilliamAshbee/DataminingAssignments/blob/main/DM_explore.ipynb\" target=\"_parent\"><img src=\"https://colab.research.google.com/assets/colab-badge.svg\" alt=\"Open In Colab\"/></a>"
      ]
    },
    {
      "cell_type": "code",
      "metadata": {
        "id": "WidTxXynAuKz"
      },
      "source": [
        "import sklearn as sk\n",
        "import pandas as pd\n",
        "import numpy as np\n"
      ],
      "execution_count": null,
      "outputs": []
    },
    {
      "cell_type": "code",
      "metadata": {
        "id": "M6-36kRz9YpX"
      },
      "source": [
        "#!wget http://archive.ics.uci.edu/ml/machine-learning-databases/heart-disease/cleve.mod"
      ],
      "execution_count": null,
      "outputs": []
    },
    {
      "cell_type": "code",
      "metadata": {
        "id": "hdzETJc49fpg"
      },
      "source": [
        "#url = 'http://archive.ics.uci.edu/ml/machine-learning-databases/heart-disease/cleve.mod'\n",
        "#df1 = pd.read_csv(url,header=None,skiprows=(i for i in range(20)),delim_whitespace=True,error_bad_lines=False)\n",
        "\n"
      ],
      "execution_count": null,
      "outputs": []
    },
    {
      "cell_type": "code",
      "metadata": {
        "id": "BEuvXn3z2bvA"
      },
      "source": [
        "pain = {'angina': 1, 'asympt': 4,'notang':2,'abnang':3}\n",
        "gender = {'male':1,'fem':0}\n",
        "bsl20 = {'true':1,'fal':0}\n",
        "restingecg = {'norm':0,'abn':1, 'hyp':2}\n",
        "exindang = {'true':1,'fal':0}\n",
        "slope = {'up':1, 'flat':2, 'down':3}\n",
        "thal = {'norm':1, 'fix':2, 'rev':3}\n",
        "state= {'buff':1,'sick':-1}\n",
        "code = {'H':0,'S1':1,'S2':2,'S3':3,'S4':4}\n",
        "eleventh = {'?':-10000}\n",
        "twelth = {'?':-10000}\n",
        "#df2 = df1.replace({1: gender,2:pain,5:bsl20,6:restingecg,8:exindang,10:slope,11:eleventh,12:{**thal, **twelth},13:state,14:code})\n"
      ],
      "execution_count": null,
      "outputs": []
    },
    {
      "cell_type": "code",
      "metadata": {
        "id": "rICJs8D8KCPN"
      },
      "source": [
        "#https://stackoverflow.com/questions/17114904/python-pandas-replacing-strings-in-dataframe-with-numbers\n",
        "#https://pandas.pydata.org/docs/reference/api/pandas.DataFrame.replace.html"
      ],
      "execution_count": null,
      "outputs": []
    },
    {
      "cell_type": "code",
      "metadata": {
        "id": "k2qXSdYNEeUh"
      },
      "source": [
        "#df2.tail()"
      ],
      "execution_count": null,
      "outputs": []
    },
    {
      "cell_type": "code",
      "metadata": {
        "id": "VFG5H9_w-SFP"
      },
      "source": [
        "\n",
        "#df2n = df2.to_numpy().astype(float)\n",
        "\n",
        "#df2n.shape\n"
      ],
      "execution_count": null,
      "outputs": []
    },
    {
      "cell_type": "code",
      "metadata": {
        "id": "1VZ42Oo91ODK"
      },
      "source": [
        "url2 = 'http://archive.ics.uci.edu/ml/machine-learning-databases/heart-disease/processed.cleveland.data'\n",
        "df_clev = pd.read_csv(url2,header=None,error_bad_lines=False)"
      ],
      "execution_count": null,
      "outputs": []
    },
    {
      "cell_type": "code",
      "metadata": {
        "colab": {
          "base_uri": "https://localhost:8080/"
        },
        "id": "E00P5u6be3U5",
        "outputId": "db664f8d-935a-4134-c506-49e43f2b407c"
      },
      "source": [
        "questionmark = {'?':'-10000'}\n",
        "\n",
        "dfcn = df_clev\n",
        "dfcn = dfcn.replace({11:questionmark,12:questionmark})\n",
        "dfcn = dfcn.to_numpy().astype(float)\n",
        "\n",
        "print(np.sum(dfcn=='?'))#,np.sum(df2n=='?'))"
      ],
      "execution_count": null,
      "outputs": [
        {
          "output_type": "stream",
          "text": [
            "0\n"
          ],
          "name": "stdout"
        },
        {
          "output_type": "stream",
          "text": [
            "/usr/local/lib/python3.7/dist-packages/ipykernel_launcher.py:7: FutureWarning: elementwise comparison failed; returning scalar instead, but in the future will perform elementwise comparison\n",
            "  import sys\n"
          ],
          "name": "stderr"
        }
      ]
    },
    {
      "cell_type": "code",
      "metadata": {
        "colab": {
          "base_uri": "https://localhost:8080/"
        },
        "id": "r0gWLPhNB_Mc",
        "outputId": "934d107b-f877-44d5-f05d-7cfc770119cf"
      },
      "source": [
        "import sklearn as sk\n",
        "from sklearn.linear_model import LogisticRegression\n",
        "import os\n",
        "#change here\n",
        "y = dfcn[:,13]\n",
        "\n",
        "X = dfcn[:,:13]\n",
        "\n",
        "LR = LogisticRegression(max_iter = 100000,random_state=0, solver='lbfgs', multi_class='auto').fit(X, y)\n",
        "round(LR.score(X,y), 5)\n"
      ],
      "execution_count": null,
      "outputs": [
        {
          "output_type": "execute_result",
          "data": {
            "text/plain": [
              "0.62046"
            ]
          },
          "metadata": {
            "tags": []
          },
          "execution_count": 11
        }
      ]
    },
    {
      "cell_type": "code",
      "metadata": {
        "id": "b6hekr3Q5Cb9"
      },
      "source": [
        "out = LR.predict(X)"
      ],
      "execution_count": null,
      "outputs": []
    },
    {
      "cell_type": "code",
      "metadata": {
        "colab": {
          "base_uri": "https://localhost:8080/"
        },
        "id": "5iq0bkTC0A4e",
        "outputId": "084114ba-1f6e-4d22-83cd-923794517371"
      },
      "source": [
        "from sklearn import svm\n",
        "clf = svm.SVC(decision_function_shape='ovo')\n",
        "print(clf.kernel)\n",
        "clf = clf.fit(X, y)\n",
        "out = clf.predict(X)\n",
        "print(np.mean(out==y))"
      ],
      "execution_count": null,
      "outputs": [
        {
          "output_type": "stream",
          "text": [
            "rbf\n",
            "0.5412541254125413\n"
          ],
          "name": "stdout"
        }
      ]
    },
    {
      "cell_type": "code",
      "metadata": {
        "colab": {
          "base_uri": "https://localhost:8080/"
        },
        "id": "yLjGvKKN1i_e",
        "outputId": "b58641d4-1e6a-4a50-e9f8-238c24200bb4"
      },
      "source": [
        "C_2d_range = [1e-2, 1, 1e2]\n",
        "gamma_2d_range = [1e-1, 1, 1e1]\n",
        "classifiers = []\n",
        "for C in C_2d_range:\n",
        "    for gamma in gamma_2d_range:\n",
        "        clf = svm.SVC(C=C, gamma=gamma,decision_function_shape='ovo')\n",
        "        clf.fit(X, y)\n",
        "        out = clf.predict(X)\n",
        "        if np.mean(y==out) > .6:\n",
        "          print(np.mean(y==out),C,gamma)\n",
        "        classifiers.append((C, gamma, clf,np.mean(y==out)))\n",
        "\n",
        "clf = svm.SVC(C=1, gamma=.1,decision_function_shape='ovo')\n",
        "clf.fit(X, y)\n",
        "clf.predict(X)"
      ],
      "execution_count": null,
      "outputs": [
        {
          "output_type": "stream",
          "text": [
            "1.0 1 0.1\n",
            "1.0 1 1\n",
            "1.0 1 10.0\n",
            "1.0 100.0 0.1\n",
            "1.0 100.0 1\n",
            "1.0 100.0 10.0\n"
          ],
          "name": "stdout"
        },
        {
          "output_type": "execute_result",
          "data": {
            "text/plain": [
              "array([0., 2., 1., 0., 0., 0., 3., 0., 2., 1., 0., 0., 2., 0., 0., 0., 1.,\n",
              "       0., 0., 0., 0., 0., 1., 3., 4., 0., 0., 0., 0., 3., 0., 2., 1., 0.,\n",
              "       0., 0., 3., 1., 3., 0., 4., 0., 0., 0., 1., 4., 0., 4., 0., 0., 0.,\n",
              "       0., 2., 0., 1., 1., 1., 1., 0., 0., 2., 0., 1., 0., 2., 2., 1., 0.,\n",
              "       2., 1., 0., 3., 1., 1., 1., 0., 1., 0., 0., 3., 0., 0., 0., 3., 0.,\n",
              "       0., 0., 0., 0., 0., 0., 3., 0., 0., 0., 1., 2., 3., 0., 0., 0., 0.,\n",
              "       0., 0., 3., 0., 2., 1., 2., 3., 1., 1., 0., 2., 2., 0., 0., 0., 3.,\n",
              "       2., 3., 4., 0., 3., 1., 0., 3., 3., 0., 0., 0., 0., 0., 0., 0., 0.,\n",
              "       4., 3., 1., 0., 0., 1., 0., 1., 0., 1., 4., 0., 0., 0., 0., 0., 0.,\n",
              "       4., 3., 1., 1., 1., 2., 0., 0., 4., 0., 0., 0., 0., 0., 0., 1., 0.,\n",
              "       3., 0., 1., 0., 4., 1., 0., 1., 0., 0., 3., 2., 0., 0., 1., 0., 0.,\n",
              "       2., 1., 2., 0., 3., 1., 2., 0., 3., 0., 0., 0., 1., 0., 0., 0., 0.,\n",
              "       0., 3., 3., 3., 0., 1., 0., 4., 0., 3., 1., 0., 0., 0., 0., 0., 0.,\n",
              "       0., 0., 3., 1., 0., 0., 0., 3., 2., 0., 2., 1., 0., 0., 3., 2., 1.,\n",
              "       0., 0., 0., 0., 0., 2., 0., 2., 2., 1., 3., 0., 0., 1., 0., 0., 0.,\n",
              "       0., 0., 0., 0., 1., 0., 3., 0., 0., 4., 2., 2., 2., 1., 0., 1., 0.,\n",
              "       2., 0., 1., 0., 0., 0., 1., 0., 2., 0., 3., 0., 2., 4., 2., 0., 0.,\n",
              "       0., 1., 0., 2., 2., 1., 0., 3., 1., 1., 2., 3., 1., 0.])"
            ]
          },
          "metadata": {
            "tags": []
          },
          "execution_count": 14
        }
      ]
    },
    {
      "cell_type": "code",
      "metadata": {
        "colab": {
          "base_uri": "https://localhost:8080/"
        },
        "id": "rrHT60jJ2Yjp",
        "outputId": "2e355e42-279b-4ea5-98c9-643e313ab948"
      },
      "source": [
        "from sklearn.neural_network import MLPClassifier\n",
        "clf = MLPClassifier(random_state=1, max_iter=30000,learning_rate_init = .00001).fit(X, y)\n",
        "clf.predict(X)\n",
        "clf.score(X, y)\n"
      ],
      "execution_count": null,
      "outputs": [
        {
          "output_type": "execute_result",
          "data": {
            "text/plain": [
              "0.594059405940594"
            ]
          },
          "metadata": {
            "tags": []
          },
          "execution_count": 15
        }
      ]
    },
    {
      "cell_type": "code",
      "metadata": {
        "colab": {
          "base_uri": "https://localhost:8080/"
        },
        "id": "wOzU_HZY4Lfj",
        "outputId": "11e43858-766f-44ff-9c6b-6333ae95da60"
      },
      "source": [
        "from sklearn.ensemble import RandomForestClassifier\n",
        "from sklearn.datasets import make_classification\n",
        "#X, y = make_classification(n_samples=1000, n_features=4,\n",
        "#...                            n_informative=2, n_redundant=0,\n",
        "#...                            random_state=0, shuffle=False)\n",
        "clf = RandomForestClassifier(max_depth=7, random_state=0)\n",
        "clf.fit(X, y)\n",
        "print(clf.score(X,y))\n"
      ],
      "execution_count": null,
      "outputs": [
        {
          "output_type": "stream",
          "text": [
            "0.9702970297029703\n"
          ],
          "name": "stdout"
        }
      ]
    },
    {
      "cell_type": "code",
      "metadata": {
        "colab": {
          "base_uri": "https://localhost:8080/"
        },
        "id": "z1VXy_wS-N-t",
        "outputId": "eea795bc-0bb8-4717-a396-120fb6bbca86"
      },
      "source": [
        "from sklearn.naive_bayes import GaussianNB\n",
        "gnb = GaussianNB().fit(X, y)\n",
        "gnb_score = gnb.score(X,y)\n",
        "print(gnb_score)"
      ],
      "execution_count": null,
      "outputs": [
        {
          "output_type": "stream",
          "text": [
            "0.18151815181518152\n"
          ],
          "name": "stdout"
        }
      ]
    },
    {
      "cell_type": "code",
      "metadata": {
        "colab": {
          "base_uri": "https://localhost:8080/"
        },
        "id": "IWAnVyuI_LBq",
        "outputId": "d8256777-df50-435f-8e67-5580b4283bf5"
      },
      "source": [
        "from sklearn.neighbors import KNeighborsClassifier\n",
        "neigh = KNeighborsClassifier(n_neighbors=4)\n",
        "neigh.fit(X, y)\n",
        "print(neigh.score(X,y))"
      ],
      "execution_count": null,
      "outputs": [
        {
          "output_type": "stream",
          "text": [
            "0.6567656765676567\n"
          ],
          "name": "stdout"
        }
      ]
    },
    {
      "cell_type": "code",
      "metadata": {
        "id": "X1Ni2-5h_0mS"
      },
      "source": [
        "#https://medium.com/@rrfd/boosting-bagging-and-stacking-ensemble-methods-with-sklearn-and-mlens-a455c0c982de"
      ],
      "execution_count": null,
      "outputs": []
    },
    {
      "cell_type": "code",
      "metadata": {
        "colab": {
          "base_uri": "https://localhost:8080/"
        },
        "id": "yTeqtMpzHEBo",
        "outputId": "34249f92-e598-4c1a-89b3-a4e918eed6cd"
      },
      "source": [
        "from sklearn.ensemble import BaggingClassifier\n",
        "from sklearn.model_selection import cross_val_score\n",
        "\n",
        "clf = KNeighborsClassifier()\n",
        "clf.fit(X,y)\n",
        "bagging_clf = BaggingClassifier(clf, max_samples=0.4, max_features=4, random_state=0)\n",
        "bagging_scores = cross_val_score(bagging_clf, X, y, cv=10, n_jobs=-1)\n",
        "print(bagging_scores)\n",
        "knnscores = cross_val_score(clf, X, y, cv=10, n_jobs=-1)\n",
        "print(knnscores)"
      ],
      "execution_count": null,
      "outputs": [
        {
          "output_type": "stream",
          "text": [
            "[0.5483871  0.5483871  0.58064516 0.6        0.56666667 0.66666667\n",
            " 0.56666667 0.53333333 0.53333333 0.53333333]\n",
            "[0.5483871  0.48387097 0.51612903 0.56666667 0.53333333 0.4\n",
            " 0.53333333 0.53333333 0.33333333 0.53333333]\n"
          ],
          "name": "stdout"
        }
      ]
    },
    {
      "cell_type": "code",
      "metadata": {
        "colab": {
          "base_uri": "https://localhost:8080/"
        },
        "id": "80ANxcHeQOzM",
        "outputId": "749d4cf5-6b72-49f6-d5a0-44ae62a7d1f5"
      },
      "source": [
        "from sklearn.ensemble import AdaBoostClassifier\n",
        "\n",
        "clf = AdaBoostClassifier(base_estimator=None)\n",
        "clf.fit(X,y)\n",
        "clf.score(X,y)\n",
        "cross_val_score(clf, X, y, cv=10, n_jobs=-1)"
      ],
      "execution_count": null,
      "outputs": [
        {
          "output_type": "execute_result",
          "data": {
            "text/plain": [
              "array([0.67741935, 0.58064516, 0.5483871 , 0.66666667, 0.53333333,\n",
              "       0.46666667, 0.5       , 0.43333333, 0.46666667, 0.46666667])"
            ]
          },
          "metadata": {
            "tags": []
          },
          "execution_count": 21
        }
      ]
    },
    {
      "cell_type": "code",
      "metadata": {
        "id": "YQNynTgkY0Kh",
        "colab": {
          "base_uri": "https://localhost:8080/"
        },
        "outputId": "e930b75b-cd4e-4070-bba3-620761782c8a"
      },
      "source": [
        "from sklearn.ensemble import AdaBoostClassifier, GradientBoostingClassifier\n",
        "grad_boost = GradientBoostingClassifier()\n",
        "cross_val_score(grad_boost, X, y, cv=10, n_jobs=-1)"
      ],
      "execution_count": null,
      "outputs": [
        {
          "output_type": "execute_result",
          "data": {
            "text/plain": [
              "array([0.61290323, 0.51612903, 0.61290323, 0.56666667, 0.63333333,\n",
              "       0.46666667, 0.46666667, 0.63333333, 0.53333333, 0.53333333])"
            ]
          },
          "metadata": {
            "tags": []
          },
          "execution_count": 22
        }
      ]
    },
    {
      "cell_type": "code",
      "metadata": {
        "id": "m3CS2goSZsCj",
        "colab": {
          "base_uri": "https://localhost:8080/"
        },
        "outputId": "76228366-71ec-4342-9e95-567160a7b249"
      },
      "source": [
        "#\n",
        "from sklearn.ensemble import ExtraTreesClassifier, VotingClassifier\n",
        "from sklearn.linear_model import RidgeClassifier\n",
        "rf = RandomForestClassifier()\n",
        "et = ExtraTreesClassifier()\n",
        "knn = KNeighborsClassifier()\n",
        "svc = svm.SVC()\n",
        "rg = RidgeClassifier()\n",
        "\n",
        "clf = [rf, et, knn, svc, rg]\n",
        "eclf = VotingClassifier(estimators=[('Random Forests', rf), ('Extra Trees', et), ('KNeighbors', knn), ('SVC', svc), ('Ridge Classifier', rg)], voting='hard')\n",
        "for clf, label in zip([rf, et, knn, svc, rg, eclf], ['Random Forest', 'Extra Trees', 'KNeighbors', 'SVC', 'Ridge Classifier', 'Ensemble']):\n",
        "    scores = cross_val_score(clf, X, y, cv=10, scoring='accuracy')\n",
        "    print(\"Accuracy: %0.2f (+/- %0.2f) [%s]\" % (scores.mean(), scores.std(), label))\n"
      ],
      "execution_count": null,
      "outputs": [
        {
          "output_type": "stream",
          "text": [
            "Accuracy: 0.58 (+/- 0.08) [Random Forest]\n",
            "Accuracy: 0.57 (+/- 0.06) [Extra Trees]\n",
            "Accuracy: 0.50 (+/- 0.07) [KNeighbors]\n",
            "Accuracy: 0.54 (+/- 0.01) [SVC]\n",
            "Accuracy: 0.56 (+/- 0.03) [Ridge Classifier]\n",
            "Accuracy: 0.57 (+/- 0.03) [Ensemble]\n"
          ],
          "name": "stdout"
        }
      ]
    },
    {
      "cell_type": "code",
      "metadata": {
        "id": "_dWg9jjGcU9O",
        "colab": {
          "base_uri": "https://localhost:8080/"
        },
        "outputId": "0f1fc0e5-4a8a-4a20-f6c8-602a45aa9f45"
      },
      "source": [
        "from sklearn.metrics import f1_score\n",
        "y_true = [0, 1, 2, 0, 1, 2]\n",
        "y_pred = [0, 2, 1, 0, 0, 1]\n",
        "f1_score(y_true, y_pred, average=None)\n",
        "\n"
      ],
      "execution_count": null,
      "outputs": [
        {
          "output_type": "execute_result",
          "data": {
            "text/plain": [
              "array([0.8, 0. , 0. ])"
            ]
          },
          "metadata": {
            "tags": []
          },
          "execution_count": 24
        }
      ]
    },
    {
      "cell_type": "code",
      "metadata": {
        "id": "2f_t5pezu9ih"
      },
      "source": [
        "from sklearn import metrics\n",
        "scores = cross_val_score(\n",
        "clf, X, y, cv=5, scoring='f1_macro')\n"
      ],
      "execution_count": null,
      "outputs": []
    },
    {
      "cell_type": "code",
      "metadata": {
        "id": "C5wnyditwt-v",
        "colab": {
          "base_uri": "https://localhost:8080/"
        },
        "outputId": "813f76e4-1760-4913-cfa6-d8dc9447c1da"
      },
      "source": [
        "scores"
      ],
      "execution_count": null,
      "outputs": [
        {
          "output_type": "execute_result",
          "data": {
            "text/plain": [
              "array([0.20505747, 0.2642576 , 0.14883721, 0.22196078, 0.27896287])"
            ]
          },
          "metadata": {
            "tags": []
          },
          "execution_count": 26
        }
      ]
    },
    {
      "cell_type": "code",
      "metadata": {
        "id": "Hu0wsnF3wvmv"
      },
      "source": [
        "#https://scikit-learn.org/stable/auto_examples/model_selection/plot_roc_crossval.html"
      ],
      "execution_count": null,
      "outputs": []
    },
    {
      "cell_type": "code",
      "metadata": {
        "id": "Virt0YvbxGM0",
        "colab": {
          "base_uri": "https://localhost:8080/"
        },
        "outputId": "75dfeb43-086c-42b8-93c8-e477a22b1158"
      },
      "source": [
        "#note multiclass roc curve is a little poorly defined, so i went with\n",
        "#solution from: https://medium.com/@plog397/auc-roc-curve-scoring-function-for-multi-class-classification-9822871a6659\n",
        "\n",
        "from sklearn.model_selection import StratifiedKFold\n",
        "from sklearn.metrics import plot_roc_curve\n",
        "import matplotlib.pyplot as plt\n",
        "from sklearn import preprocessing\n",
        "from sklearn.metrics import roc_auc_score\n",
        "\n",
        "\n",
        "cv = StratifiedKFold(n_splits=10)\n",
        "#y = np.expand_dims(y.squeeze(), axis=1)\n",
        "y = y.squeeze()\n",
        "#classifier = svm.SVC(kernel='linear',decision_function_shape='ovo', probability=True,\n",
        "#                     random_state=0)\n",
        "#code from link above in note (medium)\n",
        "def multiclass_roc_auc_score(y_test, y_pred, average=\"macro\"):\n",
        "  lb = preprocessing.LabelBinarizer()\n",
        "  lb.fit(y_test)\n",
        "  y_test = lb.transform(y_test)\n",
        "  y_pred = lb.transform(y_pred)\n",
        "  return roc_auc_score(y_test, y_pred, average=average)\n",
        "for k in range(1,10):\n",
        "  classifier = KNeighborsClassifier(n_neighbors=k)\n",
        "  \n",
        "  for i, (train, test) in enumerate(cv.split(X, y)):\n",
        "    print('\\n',i)\n",
        "    classifier.fit(X[train], y[train])\n",
        "    y_pred = classifier.predict(X[test])\n",
        "    print(\"score\",classifier.score(X[test],y[test]))\n",
        "    print('auc score',multiclass_roc_auc_score(y[test],y_pred))\n",
        "    print('f1 score', f1_score(y[test], y_pred, average='macro'))\n",
        "  "
      ],
      "execution_count": 71,
      "outputs": [
        {
          "output_type": "stream",
          "text": [
            "\n",
            " 0\n",
            "score 0.5806451612903226\n",
            "auc score 0.620781512605042\n",
            "f1 score 0.33999999999999997\n",
            "\n",
            " 1\n",
            "score 0.3870967741935484\n",
            "auc score 0.5072855211049937\n",
            "f1 score 0.19607843137254904\n",
            "\n",
            " 2\n",
            "score 0.22580645161290322\n",
            "auc score 0.46456012749927555\n",
            "f1 score 0.175\n",
            "\n",
            " 3\n",
            "score 0.43333333333333335\n",
            "auc score 0.5288145865478523\n",
            "f1 score 0.24190476190476193\n",
            "\n",
            " 4\n",
            "score 0.4\n",
            "auc score 0.47510175010175015\n",
            "f1 score 0.1297297297297297\n",
            "\n",
            " 5\n",
            "score 0.3333333333333333\n",
            "auc score 0.49993633952254646\n",
            "f1 score 0.16476426799007443\n",
            "\n",
            " 6\n",
            "score 0.4666666666666667\n",
            "auc score 0.5746583933308071\n",
            "f1 score 0.308902387934646\n",
            "\n",
            " 7\n",
            "score 0.5666666666666667\n",
            "auc score 0.5589258241758241\n",
            "f1 score 0.27380952380952384\n",
            "\n",
            " 8\n",
            "score 0.36666666666666664\n",
            "auc score 0.6027211064797271\n",
            "f1 score 0.26303030303030306\n",
            "\n",
            " 9\n",
            "score 0.4\n",
            "auc score 0.4801276998863207\n",
            "f1 score 0.1333333333333333\n",
            "\n",
            " 0\n",
            "score 0.6129032258064516\n",
            "auc score 0.5714033613445378\n",
            "f1 score 0.2560975609756097\n",
            "\n",
            " 1\n",
            "score 0.3548387096774194\n",
            "auc score 0.46213445378151263\n",
            "f1 score 0.12222222222222226\n",
            "\n",
            " 2\n",
            "score 0.3870967741935484\n",
            "auc score 0.47880112044817924\n",
            "f1 score 0.1496881496881497\n",
            "\n",
            " 3\n",
            "score 0.5666666666666667\n",
            "auc score 0.5253498407910173\n",
            "f1 score 0.1923809523809524\n",
            "\n",
            " 4\n",
            "score 0.5333333333333333\n",
            "auc score 0.524702380952381\n",
            "f1 score 0.21953488372093025\n",
            "\n",
            " 5\n",
            "score 0.43333333333333335\n",
            "auc score 0.4957252747252747\n",
            "f1 score 0.15964912280701754\n",
            "\n",
            " 6\n",
            "score 0.5\n",
            "auc score 0.5445576923076924\n",
            "f1 score 0.24444444444444446\n",
            "\n",
            " 7\n",
            "score 0.5666666666666667\n",
            "auc score 0.5571785714285714\n",
            "f1 score 0.2761904761904762\n",
            "\n",
            " 8\n",
            "score 0.43333333333333335\n",
            "auc score 0.5247632625994696\n",
            "f1 score 0.21988795518207285\n",
            "\n",
            " 9\n",
            "score 0.5\n",
            "auc score 0.5056181318681319\n",
            "f1 score 0.15\n",
            "\n",
            " 0\n",
            "score 0.5806451612903226\n",
            "auc score 0.5372380952380953\n",
            "f1 score 0.2025839793281654\n",
            "\n",
            " 1\n",
            "score 0.5161290322580645\n",
            "auc score 0.5372829131652661\n",
            "f1 score 0.25\n",
            "\n",
            " 2\n",
            "score 0.3870967741935484\n",
            "auc score 0.47158823529411764\n",
            "f1 score 0.1297297297297297\n",
            "\n",
            " 3\n",
            "score 0.5\n",
            "auc score 0.505714764538294\n",
            "f1 score 0.17636363636363633\n",
            "\n",
            " 4\n",
            "score 0.5333333333333333\n",
            "auc score 0.5276785714285714\n",
            "f1 score 0.22285714285714286\n",
            "\n",
            " 5\n",
            "score 0.5333333333333333\n",
            "auc score 0.5400714285714285\n",
            "f1 score 0.21272727272727274\n",
            "\n",
            " 6\n",
            "score 0.5333333333333333\n",
            "auc score 0.5717005494505495\n",
            "f1 score 0.2767765567765568\n",
            "\n",
            " 7\n",
            "score 0.5333333333333333\n",
            "auc score 0.5062857142857142\n",
            "f1 score 0.14545454545454545\n",
            "\n",
            " 8\n",
            "score 0.3333333333333333\n",
            "auc score 0.45177699886320577\n",
            "f1 score 0.11111111111111112\n",
            "\n",
            " 9\n",
            "score 0.5\n",
            "auc score 0.5130824175824176\n",
            "f1 score 0.181029810298103\n",
            "\n",
            " 0\n",
            "score 0.5161290322580645\n",
            "auc score 0.5111176470588236\n",
            "f1 score 0.15609756097560973\n",
            "\n",
            " 1\n",
            "score 0.5161290322580645\n",
            "auc score 0.5484957983193277\n",
            "f1 score 0.2599533799533799\n",
            "\n",
            " 2\n",
            "score 0.5161290322580645\n",
            "auc score 0.521044817927171\n",
            "f1 score 0.18636363636363634\n",
            "\n",
            " 3\n",
            "score 0.5666666666666667\n",
            "auc score 0.5213612368024132\n",
            "f1 score 0.18883720930232561\n",
            "\n",
            " 4\n",
            "score 0.5\n",
            "auc score 0.5175824175824176\n",
            "f1 score 0.20325203252032523\n",
            "\n",
            " 5\n",
            "score 0.43333333333333335\n",
            "auc score 0.5262225274725274\n",
            "f1 score 0.24238095238095236\n",
            "\n",
            " 6\n",
            "score 0.5333333333333333\n",
            "auc score 0.5518186813186814\n",
            "f1 score 0.24895572263993318\n",
            "\n",
            " 7\n",
            "score 0.6\n",
            "auc score 0.5624285714285715\n",
            "f1 score 0.28598006644518276\n",
            "\n",
            " 8\n",
            "score 0.43333333333333335\n",
            "auc score 0.48252699886320577\n",
            "f1 score 0.13333333333333336\n",
            "\n",
            " 9\n",
            "score 0.5333333333333333\n",
            "auc score 0.5127252747252747\n",
            "f1 score 0.1523809523809524\n",
            "\n",
            " 0\n",
            "score 0.5483870967741935\n",
            "auc score 0.517\n",
            "f1 score 0.15813953488372096\n",
            "\n",
            " 1\n",
            "score 0.4838709677419355\n",
            "auc score 0.5115910364145659\n",
            "f1 score 0.17995337995337995\n",
            "\n",
            " 2\n",
            "score 0.5161290322580645\n",
            "auc score 0.5146890756302521\n",
            "f1 score 0.15999999999999998\n",
            "\n",
            " 3\n",
            "score 0.5666666666666667\n",
            "auc score 0.5213612368024132\n",
            "f1 score 0.18883720930232561\n",
            "\n",
            " 4\n",
            "score 0.5333333333333333\n",
            "auc score 0.5610347985347985\n",
            "f1 score 0.31025641025641026\n",
            "\n",
            " 5\n",
            "score 0.4\n",
            "auc score 0.5006094164456234\n",
            "f1 score 0.19607843137254904\n",
            "\n",
            " 6\n",
            "score 0.5333333333333333\n",
            "auc score 0.5349258241758241\n",
            "f1 score 0.20714285714285716\n",
            "\n",
            " 7\n",
            "score 0.5333333333333333\n",
            "auc score 0.5203434065934066\n",
            "f1 score 0.2062015503875969\n",
            "\n",
            " 8\n",
            "score 0.3333333333333333\n",
            "auc score 0.4523287230011368\n",
            "f1 score 0.11111111111111112\n",
            "\n",
            " 9\n",
            "score 0.5333333333333333\n",
            "auc score 0.5303237021599091\n",
            "f1 score 0.2\n",
            "\n",
            " 0\n",
            "score 0.5483870967741935\n",
            "auc score 0.5161428571428571\n",
            "f1 score 0.15813953488372096\n",
            "\n",
            " 1\n",
            "score 0.5483870967741935\n",
            "auc score 0.5314257703081233\n",
            "f1 score 0.21953488372093025\n",
            "\n",
            " 2\n",
            "score 0.5483870967741935\n",
            "auc score 0.517\n",
            "f1 score 0.15813953488372096\n",
            "\n",
            " 3\n",
            "score 0.5333333333333333\n",
            "auc score 0.49700226244343887\n",
            "f1 score 0.14545454545454545\n",
            "\n",
            " 4\n",
            "score 0.5\n",
            "auc score 0.5238553113553114\n",
            "f1 score 0.20073260073260074\n",
            "\n",
            " 5\n",
            "score 0.4\n",
            "auc score 0.49990384615384614\n",
            "f1 score 0.19607843137254904\n",
            "\n",
            " 6\n",
            "score 0.5\n",
            "auc score 0.5278186813186814\n",
            "f1 score 0.2045112781954887\n",
            "\n",
            " 7\n",
            "score 0.5333333333333333\n",
            "auc score 0.5201895604395604\n",
            "f1 score 0.19667774086378736\n",
            "\n",
            " 8\n",
            "score 0.4666666666666667\n",
            "auc score 0.496471580143994\n",
            "f1 score 0.14358974358974358\n",
            "\n",
            " 9\n",
            "score 0.6\n",
            "auc score 0.5687142857142857\n",
            "f1 score 0.28054200542005414\n",
            "\n",
            " 0\n",
            "score 0.5483870967741935\n",
            "auc score 0.5309271708683474\n",
            "f1 score 0.19609756097560976\n",
            "\n",
            " 1\n",
            "score 0.5483870967741935\n",
            "auc score 0.5309971988795519\n",
            "f1 score 0.21226215644820295\n",
            "\n",
            " 2\n",
            "score 0.5806451612903226\n",
            "auc score 0.5336666666666667\n",
            "f1 score 0.198989898989899\n",
            "\n",
            " 3\n",
            "score 0.5666666666666667\n",
            "auc score 0.5218241997653762\n",
            "f1 score 0.19328165374677003\n",
            "\n",
            " 4\n",
            "score 0.5\n",
            "auc score 0.5246387871387872\n",
            "f1 score 0.1935897435897436\n",
            "\n",
            " 5\n",
            "score 0.4666666666666667\n",
            "auc score 0.4986648351648352\n",
            "f1 score 0.14736842105263157\n",
            "\n",
            " 6\n",
            "score 0.5\n",
            "auc score 0.5279725274725274\n",
            "f1 score 0.19736842105263158\n",
            "\n",
            " 7\n",
            "score 0.5333333333333333\n",
            "auc score 0.5200357142857144\n",
            "f1 score 0.18953488372093025\n",
            "\n",
            " 8\n",
            "score 0.43333333333333335\n",
            "auc score 0.48252699886320577\n",
            "f1 score 0.13333333333333336\n",
            "\n",
            " 9\n",
            "score 0.5666666666666667\n",
            "auc score 0.5302857142857142\n",
            "f1 score 0.2025974025974026\n",
            "\n",
            " 0\n",
            "score 0.5161290322580645\n",
            "auc score 0.5071176470588236\n",
            "f1 score 0.15238095238095242\n",
            "\n",
            " 1\n",
            "score 0.5806451612903226\n",
            "auc score 0.5305238095238096\n",
            "f1 score 0.2011111111111111\n",
            "\n",
            " 2\n",
            "score 0.5483870967741935\n",
            "auc score 0.520641456582633\n",
            "f1 score 0.18989898989898987\n",
            "\n",
            " 3\n",
            "score 0.5666666666666667\n",
            "auc score 0.5218241997653762\n",
            "f1 score 0.19328165374677003\n",
            "\n",
            " 4\n",
            "score 0.5\n",
            "auc score 0.5213420838420838\n",
            "f1 score 0.19714285714285715\n",
            "\n",
            " 5\n",
            "score 0.43333333333333335\n",
            "auc score 0.5070109890109891\n",
            "f1 score 0.19999999999999996\n",
            "\n",
            " 6\n",
            "score 0.5\n",
            "auc score 0.5281263736263736\n",
            "f1 score 0.19736842105263158\n",
            "\n",
            " 7\n",
            "score 0.5666666666666667\n",
            "auc score 0.5556291208791209\n",
            "f1 score 0.270150987224158\n",
            "\n",
            " 8\n",
            "score 0.4\n",
            "auc score 0.4724308450170519\n",
            "f1 score 0.12631578947368421\n",
            "\n",
            " 9\n",
            "score 0.5666666666666667\n",
            "auc score 0.5302857142857142\n",
            "f1 score 0.2025974025974026\n",
            "\n",
            " 0\n",
            "score 0.5483870967741935\n",
            "auc score 0.517\n",
            "f1 score 0.15813953488372096\n",
            "\n",
            " 1\n",
            "score 0.5483870967741935\n",
            "auc score 0.5035714285714286\n",
            "f1 score 0.14468085106382977\n",
            "\n",
            " 2\n",
            "score 0.5483870967741935\n",
            "auc score 0.520641456582633\n",
            "f1 score 0.18989898989898987\n",
            "\n",
            " 3\n",
            "score 0.6\n",
            "auc score 0.5283475783475783\n",
            "f1 score 0.20825396825396822\n",
            "\n",
            " 4\n",
            "score 0.5333333333333333\n",
            "auc score 0.5314382376882376\n",
            "f1 score 0.2130081300813008\n",
            "\n",
            " 5\n",
            "score 0.43333333333333335\n",
            "auc score 0.4852719780219781\n",
            "f1 score 0.13684210526315793\n",
            "\n",
            " 6\n",
            "score 0.4666666666666667\n",
            "auc score 0.5178763736263736\n",
            "f1 score 0.18498498498498497\n",
            "\n",
            " 7\n",
            "score 0.5666666666666667\n",
            "auc score 0.5692252747252747\n",
            "f1 score 0.29555555555555557\n",
            "\n",
            " 8\n",
            "score 0.43333333333333335\n",
            "auc score 0.47938414172034866\n",
            "f1 score 0.13\n",
            "\n",
            " 9\n",
            "score 0.5666666666666667\n",
            "auc score 0.5271428571428571\n",
            "f1 score 0.2088888888888889\n"
          ],
          "name": "stdout"
        }
      ]
    },
    {
      "cell_type": "code",
      "metadata": {
        "id": "yCjkE3_h7k4P",
        "outputId": "f9d5357a-4120-4a6e-9aa3-ffcdde3fb0a5",
        "colab": {
          "base_uri": "https://localhost:8080/"
        }
      },
      "source": [
        "print(X.shape)"
      ],
      "execution_count": 66,
      "outputs": [
        {
          "output_type": "stream",
          "text": [
            "(303, 13)\n"
          ],
          "name": "stdout"
        }
      ]
    },
    {
      "cell_type": "code",
      "metadata": {
        "id": "Po_LPTnvXTV5"
      },
      "source": [
        ""
      ],
      "execution_count": null,
      "outputs": []
    }
  ]
}