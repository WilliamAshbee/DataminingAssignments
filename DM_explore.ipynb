{
  "nbformat": 4,
  "nbformat_minor": 0,
  "metadata": {
    "colab": {
      "name": "DM_explore.ipynb",
      "provenance": [],
      "authorship_tag": "ABX9TyO4WQQ6HR3p6nlA0AMK6+en",
      "include_colab_link": true
    },
    "kernelspec": {
      "name": "python3",
      "display_name": "Python 3"
    },
    "language_info": {
      "name": "python"
    }
  },
  "cells": [
    {
      "cell_type": "markdown",
      "metadata": {
        "id": "view-in-github",
        "colab_type": "text"
      },
      "source": [
        "<a href=\"https://colab.research.google.com/github/WilliamAshbee/DataminingAssignments/blob/main/DM_explore.ipynb\" target=\"_parent\"><img src=\"https://colab.research.google.com/assets/colab-badge.svg\" alt=\"Open In Colab\"/></a>"
      ]
    },
    {
      "cell_type": "code",
      "metadata": {
        "id": "WidTxXynAuKz"
      },
      "source": [
        "import sklearn as sk\n",
        "import pandas as pd\n",
        "import numpy as np\n"
      ],
      "execution_count": 1,
      "outputs": []
    },
    {
      "cell_type": "code",
      "metadata": {
        "id": "M6-36kRz9YpX"
      },
      "source": [
        "#!wget http://archive.ics.uci.edu/ml/machine-learning-databases/heart-disease/cleve.mod"
      ],
      "execution_count": 2,
      "outputs": []
    },
    {
      "cell_type": "code",
      "metadata": {
        "id": "hdzETJc49fpg"
      },
      "source": [
        "#url = 'http://archive.ics.uci.edu/ml/machine-learning-databases/heart-disease/cleve.mod'\n",
        "#df1 = pd.read_csv(url,header=None,skiprows=(i for i in range(20)),delim_whitespace=True,error_bad_lines=False)\n",
        "\n"
      ],
      "execution_count": 3,
      "outputs": []
    },
    {
      "cell_type": "code",
      "metadata": {
        "id": "BEuvXn3z2bvA"
      },
      "source": [
        "pain = {'angina': 1, 'asympt': 4,'notang':2,'abnang':3}\n",
        "gender = {'male':1,'fem':0}\n",
        "bsl20 = {'true':1,'fal':0}\n",
        "restingecg = {'norm':0,'abn':1, 'hyp':2}\n",
        "exindang = {'true':1,'fal':0}\n",
        "slope = {'up':1, 'flat':2, 'down':3}\n",
        "thal = {'norm':1, 'fix':2, 'rev':3}\n",
        "state= {'buff':1,'sick':-1}\n",
        "code = {'H':0,'S1':1,'S2':2,'S3':3,'S4':4}\n",
        "eleventh = {'?':-10000}\n",
        "twelth = {'?':-10000}\n",
        "#df2 = df1.replace({1: gender,2:pain,5:bsl20,6:restingecg,8:exindang,10:slope,11:eleventh,12:{**thal, **twelth},13:state,14:code})\n"
      ],
      "execution_count": 4,
      "outputs": []
    },
    {
      "cell_type": "code",
      "metadata": {
        "id": "rICJs8D8KCPN"
      },
      "source": [
        "#https://stackoverflow.com/questions/17114904/python-pandas-replacing-strings-in-dataframe-with-numbers\n",
        "#https://pandas.pydata.org/docs/reference/api/pandas.DataFrame.replace.html"
      ],
      "execution_count": 5,
      "outputs": []
    },
    {
      "cell_type": "code",
      "metadata": {
        "id": "k2qXSdYNEeUh"
      },
      "source": [
        "#df2.tail()"
      ],
      "execution_count": 6,
      "outputs": []
    },
    {
      "cell_type": "code",
      "metadata": {
        "id": "VFG5H9_w-SFP"
      },
      "source": [
        "\n",
        "#df2n = df2.to_numpy().astype(float)\n",
        "\n",
        "#df2n.shape\n"
      ],
      "execution_count": 7,
      "outputs": []
    },
    {
      "cell_type": "code",
      "metadata": {
        "id": "1VZ42Oo91ODK"
      },
      "source": [
        "url2 = 'http://archive.ics.uci.edu/ml/machine-learning-databases/heart-disease/processed.cleveland.data'\n",
        "df_clev = pd.read_csv(url2,header=None,error_bad_lines=False)"
      ],
      "execution_count": 8,
      "outputs": []
    },
    {
      "cell_type": "code",
      "metadata": {
        "colab": {
          "base_uri": "https://localhost:8080/"
        },
        "id": "E00P5u6be3U5",
        "outputId": "d8130086-6cb3-44cf-e45a-f474ca44415f"
      },
      "source": [
        "questionmark = {'?':'-10000'}\n",
        "\n",
        "dfcn = df_clev\n",
        "dfcn = dfcn.replace({11:questionmark,12:questionmark})\n",
        "dfcn = dfcn.to_numpy().astype(float)\n",
        "\n",
        "print(np.sum(dfcn=='?'))#,np.sum(df2n=='?'))"
      ],
      "execution_count": 9,
      "outputs": [
        {
          "output_type": "stream",
          "text": [
            "0\n"
          ],
          "name": "stdout"
        },
        {
          "output_type": "stream",
          "text": [
            "/usr/local/lib/python3.7/dist-packages/ipykernel_launcher.py:7: FutureWarning: elementwise comparison failed; returning scalar instead, but in the future will perform elementwise comparison\n",
            "  import sys\n"
          ],
          "name": "stderr"
        }
      ]
    },
    {
      "cell_type": "code",
      "metadata": {
        "colab": {
          "base_uri": "https://localhost:8080/"
        },
        "id": "r0gWLPhNB_Mc",
        "outputId": "76550f4d-4e1a-4a82-a857-804b54fcc383"
      },
      "source": [
        "import sklearn as sk\n",
        "from sklearn.linear_model import LogisticRegression\n",
        "from sklearn import preprocessing\n",
        "\n",
        "import os\n",
        "#change here\n",
        "y = dfcn[:,13]\n",
        "\n",
        "X = dfcn[:,:13]\n",
        "#min_max_scaler = preprocessing.MinMaxScaler()\n",
        "#X = min_max_scaler.fit_transform(X)\n",
        "scaler = preprocessing.StandardScaler().fit(X)\n",
        "X = scaler.fit_transform(X)\n",
        "\n",
        "LR = LogisticRegression(max_iter = 10000,random_state=0, solver='lbfgs', multi_class='auto').fit(X, y)\n",
        "round(LR.score(X,y), 5)\n"
      ],
      "execution_count": 70,
      "outputs": [
        {
          "output_type": "execute_result",
          "data": {
            "text/plain": [
              "0.60726"
            ]
          },
          "metadata": {
            "tags": []
          },
          "execution_count": 70
        }
      ]
    },
    {
      "cell_type": "code",
      "metadata": {
        "id": "b6hekr3Q5Cb9"
      },
      "source": [
        "out = LR.predict(X)"
      ],
      "execution_count": 71,
      "outputs": []
    },
    {
      "cell_type": "code",
      "metadata": {
        "colab": {
          "base_uri": "https://localhost:8080/"
        },
        "id": "5iq0bkTC0A4e",
        "outputId": "dbdc32af-ee16-4f40-80ab-482226a7ef13"
      },
      "source": [
        "from sklearn import svm\n",
        "clf = svm.SVC(decision_function_shape='ovo')\n",
        "print(clf.kernel)\n"
      ],
      "execution_count": 72,
      "outputs": [
        {
          "output_type": "stream",
          "text": [
            "rbf\n"
          ],
          "name": "stdout"
        }
      ]
    },
    {
      "cell_type": "code",
      "metadata": {
        "colab": {
          "base_uri": "https://localhost:8080/"
        },
        "id": "yLjGvKKN1i_e",
        "outputId": "3826b1a9-3ae9-48ea-a9c8-281fdd1455aa"
      },
      "source": [
        "C_2d_range = [1e-2, 1, 1e2]\n",
        "gamma_2d_range = [1e-1, 1, 1e1]\n",
        "classifiers = []\n",
        "for C in C_2d_range:\n",
        "    for gamma in gamma_2d_range:\n",
        "        clf = svm.SVC(C=C, gamma=gamma,decision_function_shape='ovo')\n",
        "        clf.fit(X, y)\n",
        "        out = clf.predict(X)\n",
        "        if np.mean(y==out) > .6:\n",
        "          print(np.mean(y==out),C,gamma)\n",
        "        classifiers.append((C, gamma, clf,np.mean(y==out)))\n",
        "\n",
        "clf = svm.SVC(C=1, gamma=.1,decision_function_shape='ovo')\n",
        "clf.fit(X, y)\n",
        "clf.predict(X)"
      ],
      "execution_count": 73,
      "outputs": [
        {
          "output_type": "stream",
          "text": [
            "0.7194719471947195 1 0.1\n",
            "0.976897689768977 1 1\n",
            "1.0 1 10.0\n",
            "1.0 100.0 0.1\n",
            "1.0 100.0 1\n",
            "1.0 100.0 10.0\n"
          ],
          "name": "stdout"
        },
        {
          "output_type": "execute_result",
          "data": {
            "text/plain": [
              "array([0., 1., 1., 0., 0., 0., 3., 0., 0., 1., 0., 0., 2., 0., 0., 0., 0.,\n",
              "       0., 0., 0., 0., 0., 0., 0., 1., 0., 0., 0., 0., 3., 0., 2., 0., 0.,\n",
              "       0., 0., 3., 1., 2., 0., 0., 0., 0., 0., 0., 0., 0., 1., 0., 0., 0.,\n",
              "       0., 0., 0., 1., 3., 0., 0., 0., 0., 1., 0., 1., 0., 0., 2., 0., 0.,\n",
              "       2., 0., 0., 0., 1., 0., 0., 0., 1., 0., 0., 1., 0., 0., 0., 3., 0.,\n",
              "       0., 0., 0., 0., 0., 0., 3., 0., 0., 0., 0., 1., 3., 0., 0., 0., 0.,\n",
              "       0., 0., 0., 0., 0., 0., 2., 0., 1., 2., 0., 2., 0., 0., 0., 0., 3.,\n",
              "       2., 3., 0., 0., 3., 0., 0., 3., 3., 0., 0., 0., 0., 0., 0., 0., 0.,\n",
              "       3., 0., 3., 0., 0., 0., 0., 1., 0., 0., 3., 0., 0., 0., 0., 0., 0.,\n",
              "       1., 3., 2., 1., 0., 0., 0., 0., 0., 0., 0., 0., 0., 0., 0., 0., 0.,\n",
              "       2., 1., 1., 0., 1., 1., 0., 3., 0., 0., 0., 2., 0., 0., 0., 0., 0.,\n",
              "       0., 1., 0., 0., 3., 1., 2., 0., 1., 0., 0., 0., 0., 0., 0., 0., 0.,\n",
              "       0., 0., 1., 1., 0., 1., 0., 0., 0., 3., 0., 0., 0., 0., 0., 0., 0.,\n",
              "       0., 0., 3., 1., 0., 0., 0., 3., 0., 0., 2., 0., 0., 0., 3., 2., 0.,\n",
              "       0., 0., 0., 0., 0., 0., 0., 2., 0., 3., 0., 0., 3., 2., 1., 0., 0.,\n",
              "       0., 0., 0., 0., 0., 0., 0., 0., 0., 1., 2., 2., 2., 0., 0., 1., 0.,\n",
              "       2., 0., 0., 0., 0., 0., 0., 0., 2., 0., 1., 0., 0., 2., 2., 0., 0.,\n",
              "       0., 0., 0., 3., 1., 1., 0., 3., 1., 0., 2., 3., 0., 0.])"
            ]
          },
          "metadata": {
            "tags": []
          },
          "execution_count": 73
        }
      ]
    },
    {
      "cell_type": "code",
      "metadata": {
        "colab": {
          "base_uri": "https://localhost:8080/"
        },
        "id": "rrHT60jJ2Yjp",
        "outputId": "8706f15d-9f04-4430-ac9d-ba27d2fe3256"
      },
      "source": [
        "from sklearn.neural_network import MLPClassifier\n",
        "clf = MLPClassifier(random_state=1, max_iter=30000,learning_rate_init = .00001).fit(X, y)\n",
        "clf.predict(X)\n",
        "clf.score(X, y)\n"
      ],
      "execution_count": 74,
      "outputs": [
        {
          "output_type": "execute_result",
          "data": {
            "text/plain": [
              "0.6039603960396039"
            ]
          },
          "metadata": {
            "tags": []
          },
          "execution_count": 74
        }
      ]
    },
    {
      "cell_type": "code",
      "metadata": {
        "colab": {
          "base_uri": "https://localhost:8080/"
        },
        "id": "wOzU_HZY4Lfj",
        "outputId": "a493328f-735a-4800-ce8f-a875d89dc292"
      },
      "source": [
        "from sklearn.ensemble import RandomForestClassifier\n",
        "from sklearn.datasets import make_classification\n",
        "#X, y = make_classification(n_samples=1000, n_features=4,\n",
        "#...                            n_informative=2, n_redundant=0,\n",
        "#...                            random_state=0, shuffle=False)\n",
        "clf = RandomForestClassifier(max_depth=7, random_state=0)\n",
        "clf.fit(X, y)\n",
        "print(clf.score(X,y))\n"
      ],
      "execution_count": 75,
      "outputs": [
        {
          "output_type": "stream",
          "text": [
            "0.9702970297029703\n"
          ],
          "name": "stdout"
        }
      ]
    },
    {
      "cell_type": "code",
      "metadata": {
        "colab": {
          "base_uri": "https://localhost:8080/"
        },
        "id": "z1VXy_wS-N-t",
        "outputId": "3518cfa2-e029-4a51-98b2-d79bc25d1483"
      },
      "source": [
        "from sklearn.naive_bayes import GaussianNB\n",
        "gnb = GaussianNB().fit(X, y)\n",
        "gnb_score = gnb.score(X,y)\n",
        "print(gnb_score)"
      ],
      "execution_count": 76,
      "outputs": [
        {
          "output_type": "stream",
          "text": [
            "0.1848184818481848\n"
          ],
          "name": "stdout"
        }
      ]
    },
    {
      "cell_type": "code",
      "metadata": {
        "colab": {
          "base_uri": "https://localhost:8080/"
        },
        "id": "IWAnVyuI_LBq",
        "outputId": "10e31a76-73f6-426b-f34c-6d78e4227f87"
      },
      "source": [
        "from sklearn.neighbors import KNeighborsClassifier\n",
        "neigh = KNeighborsClassifier(n_neighbors=4)\n",
        "neigh.fit(X, y)\n",
        "print(neigh.score(X,y))"
      ],
      "execution_count": 77,
      "outputs": [
        {
          "output_type": "stream",
          "text": [
            "0.693069306930693\n"
          ],
          "name": "stdout"
        }
      ]
    },
    {
      "cell_type": "code",
      "metadata": {
        "id": "X1Ni2-5h_0mS"
      },
      "source": [
        "#https://medium.com/@rrfd/boosting-bagging-and-stacking-ensemble-methods-with-sklearn-and-mlens-a455c0c982de"
      ],
      "execution_count": 78,
      "outputs": []
    },
    {
      "cell_type": "code",
      "metadata": {
        "colab": {
          "base_uri": "https://localhost:8080/"
        },
        "id": "yTeqtMpzHEBo",
        "outputId": "930cda8d-8af3-4328-9132-b0a359c8bf97"
      },
      "source": [
        "from sklearn.ensemble import BaggingClassifier\n",
        "from sklearn.model_selection import cross_val_score\n",
        "\n",
        "clf = KNeighborsClassifier()\n",
        "clf.fit(X,y)\n",
        "bagging_clf = BaggingClassifier(clf, max_samples=0.4, max_features=4, random_state=0)\n",
        "bagging_scores = cross_val_score(bagging_clf, X, y, cv=10, n_jobs=-1)\n",
        "print(bagging_scores)\n",
        "knnscores = cross_val_score(clf, X, y, cv=10, n_jobs=-1)\n",
        "print(knnscores)"
      ],
      "execution_count": 79,
      "outputs": [
        {
          "output_type": "stream",
          "text": [
            "[0.5483871  0.58064516 0.5483871  0.56666667 0.53333333 0.6\n",
            " 0.6        0.56666667 0.5        0.5       ]\n",
            "[0.64516129 0.58064516 0.61290323 0.46666667 0.56666667 0.6\n",
            " 0.6        0.63333333 0.46666667 0.43333333]\n"
          ],
          "name": "stdout"
        }
      ]
    },
    {
      "cell_type": "code",
      "metadata": {
        "colab": {
          "base_uri": "https://localhost:8080/"
        },
        "id": "80ANxcHeQOzM",
        "outputId": "336cb97b-f918-4077-9a1b-6eec654d716c"
      },
      "source": [
        "from sklearn.ensemble import AdaBoostClassifier\n",
        "\n",
        "clf = AdaBoostClassifier(base_estimator=None)\n",
        "clf.fit(X,y)\n",
        "clf.score(X,y)\n",
        "cross_val_score(clf, X, y, cv=10, n_jobs=-1)"
      ],
      "execution_count": 80,
      "outputs": [
        {
          "output_type": "execute_result",
          "data": {
            "text/plain": [
              "array([0.67741935, 0.58064516, 0.5483871 , 0.66666667, 0.53333333,\n",
              "       0.46666667, 0.5       , 0.43333333, 0.46666667, 0.46666667])"
            ]
          },
          "metadata": {
            "tags": []
          },
          "execution_count": 80
        }
      ]
    },
    {
      "cell_type": "code",
      "metadata": {
        "id": "YQNynTgkY0Kh",
        "colab": {
          "base_uri": "https://localhost:8080/"
        },
        "outputId": "d85d32fa-e903-43ff-a7dc-2a1d71da8a6c"
      },
      "source": [
        "from sklearn.ensemble import AdaBoostClassifier, GradientBoostingClassifier\n",
        "grad_boost = GradientBoostingClassifier()\n",
        "cross_val_score(grad_boost, X, y, cv=10, n_jobs=-1)"
      ],
      "execution_count": 81,
      "outputs": [
        {
          "output_type": "execute_result",
          "data": {
            "text/plain": [
              "array([0.64516129, 0.51612903, 0.61290323, 0.56666667, 0.6       ,\n",
              "       0.43333333, 0.46666667, 0.66666667, 0.53333333, 0.53333333])"
            ]
          },
          "metadata": {
            "tags": []
          },
          "execution_count": 81
        }
      ]
    },
    {
      "cell_type": "code",
      "metadata": {
        "id": "m3CS2goSZsCj",
        "colab": {
          "base_uri": "https://localhost:8080/"
        },
        "outputId": "0e06ca50-0de6-4ebc-97e0-487d11ef6420"
      },
      "source": [
        "#\n",
        "from sklearn.ensemble import ExtraTreesClassifier, VotingClassifier\n",
        "from sklearn.linear_model import RidgeClassifier\n",
        "rf = RandomForestClassifier()\n",
        "et = ExtraTreesClassifier()\n",
        "knn = KNeighborsClassifier()\n",
        "svc = svm.SVC()\n",
        "rg = RidgeClassifier()\n",
        "\n",
        "clf = [rf, et, knn, svc, rg]\n",
        "eclf = VotingClassifier(estimators=[('Random Forests', rf), ('Extra Trees', et), ('KNeighbors', knn), ('SVC', svc), ('Ridge Classifier', rg)], voting='hard')\n",
        "for clf, label in zip([rf, et, knn, svc, rg, eclf], ['Random Forest', 'Extra Trees', 'KNeighbors', 'SVC', 'Ridge Classifier', 'Ensemble']):\n",
        "    scores = cross_val_score(clf, X, y, cv=10, scoring='accuracy')\n",
        "    print(\"Accuracy: %0.2f (+/- %0.2f) [%s]\" % (scores.mean(), scores.std(), label))\n"
      ],
      "execution_count": 82,
      "outputs": [
        {
          "output_type": "stream",
          "text": [
            "Accuracy: 0.56 (+/- 0.06) [Random Forest]\n",
            "Accuracy: 0.57 (+/- 0.07) [Extra Trees]\n",
            "Accuracy: 0.56 (+/- 0.07) [KNeighbors]\n",
            "Accuracy: 0.55 (+/- 0.03) [SVC]\n",
            "Accuracy: 0.56 (+/- 0.03) [Ridge Classifier]\n",
            "Accuracy: 0.57 (+/- 0.04) [Ensemble]\n"
          ],
          "name": "stdout"
        }
      ]
    },
    {
      "cell_type": "code",
      "metadata": {
        "id": "_dWg9jjGcU9O",
        "colab": {
          "base_uri": "https://localhost:8080/"
        },
        "outputId": "f556b193-b968-42f4-e7b4-f6762f72b3bb"
      },
      "source": [
        "from sklearn.metrics import f1_score\n",
        "y_true = [0, 1, 2, 0, 1, 2]\n",
        "y_pred = [0, 2, 1, 0, 0, 1]\n",
        "f1_score(y_true, y_pred, average=None)\n",
        "\n"
      ],
      "execution_count": 83,
      "outputs": [
        {
          "output_type": "execute_result",
          "data": {
            "text/plain": [
              "array([0.8, 0. , 0. ])"
            ]
          },
          "metadata": {
            "tags": []
          },
          "execution_count": 83
        }
      ]
    },
    {
      "cell_type": "code",
      "metadata": {
        "id": "2f_t5pezu9ih"
      },
      "source": [
        "from sklearn import metrics\n",
        "scores = cross_val_score(\n",
        "clf, X, y, cv=5, scoring='f1_macro')\n"
      ],
      "execution_count": 84,
      "outputs": []
    },
    {
      "cell_type": "code",
      "metadata": {
        "id": "C5wnyditwt-v",
        "colab": {
          "base_uri": "https://localhost:8080/"
        },
        "outputId": "20a6f109-8fa5-479b-b4d7-d8952ea1b4de"
      },
      "source": [
        "scores"
      ],
      "execution_count": 85,
      "outputs": [
        {
          "output_type": "execute_result",
          "data": {
            "text/plain": [
              "array([0.28080808, 0.31384615, 0.20992785, 0.205     , 0.248     ])"
            ]
          },
          "metadata": {
            "tags": []
          },
          "execution_count": 85
        }
      ]
    },
    {
      "cell_type": "code",
      "metadata": {
        "id": "Hu0wsnF3wvmv"
      },
      "source": [
        "#https://scikit-learn.org/stable/auto_examples/model_selection/plot_roc_crossval.html"
      ],
      "execution_count": 86,
      "outputs": []
    },
    {
      "cell_type": "code",
      "metadata": {
        "id": "Virt0YvbxGM0",
        "colab": {
          "base_uri": "https://localhost:8080/"
        },
        "outputId": "1130f80c-34ea-499c-9e5b-ce2ab1463e3b"
      },
      "source": [
        "#note multiclass roc curve is a little poorly defined, so i went with\n",
        "#solution from: https://medium.com/@plog397/auc-roc-curve-scoring-function-for-multi-class-classification-9822871a6659\n",
        "\n",
        "from sklearn.model_selection import StratifiedKFold\n",
        "from sklearn.metrics import plot_roc_curve\n",
        "import matplotlib.pyplot as plt\n",
        "from sklearn import preprocessing\n",
        "from sklearn.metrics import roc_auc_score\n",
        "\n",
        "\n",
        "cv = StratifiedKFold(n_splits=10)\n",
        "#y = np.expand_dims(y.squeeze(), axis=1)\n",
        "y = y.squeeze()\n",
        "\n",
        "ite = 5\n",
        "d = 6\n",
        "k = 5\n",
        "gamma = .5\n",
        "C = 1.0\n",
        "\n",
        "\n",
        "bagging_knnc = BaggingClassifier(knnc, max_samples=0.4, max_features=4)\n",
        "\n",
        "rfc = RandomForestClassifier(max_depth=d)\n",
        "\n",
        "\n",
        "\n",
        "\n",
        "#code from link above in note (medium)\n",
        "\n",
        "\n",
        "def multiclass_roc_auc_score(y_test, y_pred, average=\"macro\"):\n",
        "  lb = preprocessing.LabelBinarizer()\n",
        "  lb.fit(y_test)\n",
        "  y_test = lb.transform(y_test)\n",
        "  y_pred = lb.transform(y_pred)\n",
        "  return roc_auc_score(y_test, y_pred, average=average)\n",
        "\n",
        "import random\n",
        "def getMonteCarloSearchParams():\n",
        "  C = random.choice(np.logspace(-6, -1, 10).tolist())\n",
        "  gamma = random.choice([0.001, 0.01, 0.1, 1])\n",
        "  k = random.choice([3,4,5,6,7])\n",
        "  maxit = random.choice([10**3,10**4,10**5,10**6])\n",
        "\n",
        "  return C,gamma,k,maxit\n",
        "\n",
        "\n",
        "for e in range(10):\n",
        "  C,gamma,k,maxit = getMonteCarloSearchParams()\n",
        "  print('c',C,'k',k,'maxit',maxit)\n",
        "  knnc = KNeighborsClassifier(n_neighbors=k)\n",
        "  lrc = LogisticRegression(max_iter = maxit, solver='lbfgs', multi_class='auto')\n",
        "  svc = svm.SVC(kernel = 'rbf',gamma = gamma,max_iter = maxit,C= C,decision_function_shape='ovo', probability=True)\n",
        "  adac = AdaBoostClassifier(base_estimator=svc)\n",
        "  vc = VotingClassifier(estimators=[(\"logistic regression\",lrc),('Random Forests', rfc), ('KNeighbors', bagging_knnc), ('adaSVCrbf', adac)], voting='hard')\n",
        "  classifier = vc\n",
        "  \n",
        "\n",
        "  for i, (train, test) in enumerate(cv.split(X, y)):\n",
        "    print('\\n',i,e)\n",
        "    classifier.fit(X[train], y[train])\n",
        "    y_pred = classifier.predict(X[test])\n",
        "    print(\"score\",classifier.score(X[test],y[test]))\n",
        "    print('auc score',multiclass_roc_auc_score(y[test],y_pred))\n",
        "    print('f1 score', f1_score(y[test], y_pred, average='macro'))\n"
      ],
      "execution_count": 90,
      "outputs": [
        {
          "output_type": "stream",
          "text": [
            "c 0.0005994842503189409 k 6 maxit 10000\n",
            "\n",
            " 0 0\n",
            "score 0.6129032258064516\n",
            "auc score 0.5785714285714286\n",
            "f1 score 0.2761904761904762\n",
            "\n",
            " 1 0\n",
            "score 0.5483870967741935\n",
            "auc score 0.5142857142857143\n",
            "f1 score 0.15454545454545454\n",
            "\n",
            " 2 0\n",
            "score 0.6129032258064516\n",
            "auc score 0.588095238095238\n",
            "f1 score 0.2878787878787879\n",
            "\n",
            " 3 0\n",
            "score 0.6\n",
            "auc score 0.545014245014245\n",
            "f1 score 0.2511111111111111\n",
            "\n",
            " 4 0\n",
            "score 0.5666666666666667\n",
            "auc score 0.5358374384236453\n",
            "f1 score 0.2254545454545455\n",
            "\n",
            " 5 0\n",
            "score 0.5333333333333333\n",
            "auc score 0.5284862637362637\n",
            "f1 score 0.20952380952380953\n",
            "\n",
            " 6 0\n",
            "score 0.5333333333333333\n",
            "auc score 0.5130329670329671\n",
            "f1 score 0.1523809523809524\n",
            "\n",
            " 7 0\n",
            "score 0.5666666666666667\n",
            "auc score 0.5385824175824176\n",
            "f1 score 0.21550387596899223\n",
            "\n",
            " 8 0\n",
            "score 0.5333333333333333\n",
            "auc score 0.5281785714285714\n",
            "f1 score 0.22285714285714286\n",
            "\n",
            " 9 0\n",
            "score 0.5333333333333333\n",
            "auc score 0.5161758241758242\n",
            "f1 score 0.15609756097560973\n",
            "c 0.0001668100537200059 k 3 maxit 1000000\n",
            "\n",
            " 0 1\n",
            "score 0.5806451612903226\n",
            "auc score 0.5340952380952382\n",
            "f1 score 0.20454545454545453\n",
            "\n",
            " 1 1\n",
            "score 0.5806451612903226\n",
            "auc score 0.544047619047619\n",
            "f1 score 0.22782608695652176\n",
            "\n",
            " 2 1\n",
            "score 0.6129032258064516\n",
            "auc score 0.5845238095238094\n",
            "f1 score 0.3311111111111111\n",
            "\n",
            " 3 1\n",
            "score 0.6\n",
            "auc score 0.548539886039886\n",
            "f1 score 0.2545454545454545\n",
            "\n",
            " 4 1\n",
            "score 0.5666666666666667\n",
            "auc score 0.5434523809523809\n",
            "f1 score 0.24545454545454545\n",
            "\n",
            " 5 1\n",
            "score 0.5666666666666667\n",
            "auc score 0.5385824175824176\n",
            "f1 score 0.21550387596899223\n",
            "\n",
            " 6 1\n",
            "score 0.5333333333333333\n",
            "auc score 0.50989010989011\n",
            "f1 score 0.14883720930232558\n",
            "\n",
            " 7 1\n",
            "score 0.6\n",
            "auc score 0.5624285714285715\n",
            "f1 score 0.28598006644518276\n",
            "\n",
            " 8 1\n",
            "score 0.5333333333333333\n",
            "auc score 0.5502252747252747\n",
            "f1 score 0.2866666666666667\n",
            "\n",
            " 9 1\n",
            "score 0.5333333333333333\n",
            "auc score 0.5095824175824176\n",
            "f1 score 0.14883720930232558\n",
            "c 0.1 k 7 maxit 10000\n",
            "\n",
            " 0 2\n",
            "score 0.6129032258064516\n",
            "auc score 0.5745714285714285\n",
            "f1 score 0.2748062015503876\n",
            "\n",
            " 1 2\n",
            "score 0.5483870967741935\n",
            "auc score 0.5\n",
            "f1 score 0.14166666666666666\n",
            "\n",
            " 2 2\n",
            "score 0.5483870967741935\n",
            "auc score 0.5067142857142857\n",
            "f1 score 0.14782608695652172\n",
            "\n",
            " 3 2\n",
            "score 0.5666666666666667\n",
            "auc score 0.507051282051282\n",
            "f1 score 0.15111111111111108\n",
            "\n",
            " 4 2\n",
            "score 0.5666666666666667\n",
            "auc score 0.5467490842490843\n",
            "f1 score 0.24883720930232558\n",
            "\n",
            " 5 2\n",
            "score 0.5333333333333333\n",
            "auc score 0.5267829670329671\n",
            "f1 score 0.2034843205574913\n",
            "\n",
            " 6 2\n",
            "score 0.5333333333333333\n",
            "auc score 0.5095824175824176\n",
            "f1 score 0.14883720930232558\n",
            "\n",
            " 7 2\n",
            "score 0.5666666666666667\n",
            "auc score 0.5448681318681319\n",
            "f1 score 0.2227642276422764\n",
            "\n",
            " 8 2\n",
            "score 0.5333333333333333\n",
            "auc score 0.5314752747252747\n",
            "f1 score 0.22634146341463418\n",
            "\n",
            " 9 2\n",
            "score 0.5333333333333333\n",
            "auc score 0.5065934065934066\n",
            "f1 score 0.14545454545454545\n",
            "c 0.1 k 3 maxit 1000000\n",
            "\n",
            " 0 3\n",
            "score 0.6129032258064516\n",
            "auc score 0.5777142857142857\n",
            "f1 score 0.273015873015873\n",
            "\n",
            " 1 3\n",
            "score 0.5483870967741935\n",
            "auc score 0.5071428571428571\n",
            "f1 score 0.14782608695652172\n",
            "\n",
            " 2 3\n",
            "score 0.6451612903225806\n",
            "auc score 0.6285714285714286\n",
            "f1 score 0.3714728682170542\n",
            "\n",
            " 3 3\n",
            "score 0.5666666666666667\n",
            "auc score 0.507051282051282\n",
            "f1 score 0.15111111111111108\n",
            "\n",
            " 4 3\n",
            "score 0.6\n",
            "auc score 0.5788919413919413\n",
            "f1 score 0.3190476190476191\n",
            "\n",
            " 5 3\n",
            "score 0.5666666666666667\n",
            "auc score 0.5337362637362638\n",
            "f1 score 0.2155038759689923\n",
            "\n",
            " 6 3\n",
            "score 0.5666666666666667\n",
            "auc score 0.5418791208791209\n",
            "f1 score 0.20952380952380953\n",
            "\n",
            " 7 3\n",
            "score 0.5333333333333333\n",
            "auc score 0.5128791208791209\n",
            "f1 score 0.1523809523809524\n",
            "\n",
            " 8 3\n",
            "score 0.5\n",
            "auc score 0.5243681318681319\n",
            "f1 score 0.2235897435897436\n",
            "\n",
            " 9 3\n",
            "score 0.5333333333333333\n",
            "auc score 0.5\n",
            "f1 score 0.13913043478260873\n",
            "c 0.02782559402207126 k 7 maxit 1000\n",
            "\n",
            " 0 4\n",
            "score 0.5483870967741935\n",
            "auc score 0.5142857142857143\n",
            "f1 score 0.15454545454545454\n",
            "\n",
            " 1 4\n",
            "score 0.5806451612903226\n",
            "auc score 0.5476190476190477\n",
            "f1 score 0.21777777777777776\n",
            "\n",
            " 2 4\n",
            "score 0.6129032258064516\n",
            "auc score 0.5845238095238094\n",
            "f1 score 0.2844444444444444\n",
            "\n",
            " 3 4\n",
            "score 0.6\n",
            "auc score 0.541025641025641\n",
            "f1 score 0.24782608695652172\n",
            "\n",
            " 4 4\n",
            "score 0.5666666666666667\n",
            "auc score 0.5464285714285715\n",
            "f1 score 0.24883720930232558\n",
            "\n",
            " 5 4\n",
            "score 0.5666666666666667\n",
            "auc score 0.545021978021978\n",
            "f1 score 0.2227642276422764\n",
            "\n",
            " 6 4\n",
            "score 0.5333333333333333\n",
            "auc score 0.5\n",
            "f1 score 0.13913043478260873\n",
            "\n",
            " 7 4\n",
            "score 0.5333333333333333\n",
            "auc score 0.5031428571428571\n",
            "f1 score 0.14222222222222222\n",
            "\n",
            " 8 4\n",
            "score 0.5333333333333333\n",
            "auc score 0.5314752747252747\n",
            "f1 score 0.22634146341463418\n",
            "\n",
            " 9 4\n",
            "score 0.5333333333333333\n",
            "auc score 0.5064395604395604\n",
            "f1 score 0.14545454545454545\n",
            "c 0.0001668100537200059 k 3 maxit 10000\n",
            "\n",
            " 0 5\n",
            "score 0.6129032258064516\n",
            "auc score 0.5714285714285714\n",
            "f1 score 0.27835497835497836\n",
            "\n",
            " 1 5\n",
            "score 0.5806451612903226\n",
            "auc score 0.5476190476190477\n",
            "f1 score 0.21777777777777776\n",
            "\n",
            " 2 5\n",
            "score 0.6129032258064516\n",
            "auc score 0.5916666666666667\n",
            "f1 score 0.31813953488372093\n",
            "\n",
            " 3 5\n",
            "score 0.5666666666666667\n",
            "auc score 0.503525641025641\n",
            "f1 score 0.14782608695652172\n",
            "\n",
            " 4 5\n",
            "score 0.5333333333333333\n",
            "auc score 0.5029761904761905\n",
            "f1 score 0.14222222222222222\n",
            "\n",
            " 5 5\n",
            "score 0.5\n",
            "auc score 0.49964010989010993\n",
            "f1 score 0.14285714285714285\n",
            "\n",
            " 6 5\n",
            "score 0.5666666666666667\n",
            "auc score 0.5385824175824176\n",
            "f1 score 0.22883720930232557\n",
            "\n",
            " 7 5\n",
            "score 0.5333333333333333\n",
            "auc score 0.5031428571428571\n",
            "f1 score 0.14222222222222222\n",
            "\n",
            " 8 5\n",
            "score 0.5\n",
            "auc score 0.5116428571428571\n",
            "f1 score 0.21023255813953487\n",
            "\n",
            " 9 5\n",
            "score 0.5333333333333333\n",
            "auc score 0.5065934065934066\n",
            "f1 score 0.14545454545454545\n",
            "c 3.5938136638046257e-06 k 7 maxit 10000\n",
            "\n",
            " 0 6\n",
            "score 0.6129032258064516\n",
            "auc score 0.5781428571428572\n",
            "f1 score 0.2690476190476191\n",
            "\n",
            " 1 6\n",
            "score 0.5483870967741935\n",
            "auc score 0.5071428571428571\n",
            "f1 score 0.14782608695652172\n",
            "\n",
            " 2 6\n",
            "score 0.5483870967741935\n",
            "auc score 0.5\n",
            "f1 score 0.14166666666666666\n",
            "\n",
            " 3 6\n",
            "score 0.5666666666666667\n",
            "auc score 0.507051282051282\n",
            "f1 score 0.15111111111111108\n",
            "\n",
            " 4 6\n",
            "score 0.5666666666666667\n",
            "auc score 0.5351190476190476\n",
            "f1 score 0.2254545454545455\n",
            "\n",
            " 5 6\n",
            "score 0.5333333333333333\n",
            "auc score 0.50989010989011\n",
            "f1 score 0.14883720930232558\n",
            "\n",
            " 6 6\n",
            "score 0.5666666666666667\n",
            "auc score 0.5417252747252748\n",
            "f1 score 0.2323809523809524\n",
            "\n",
            " 7 6\n",
            "score 0.5666666666666667\n",
            "auc score 0.5321428571428571\n",
            "f1 score 0.22222222222222224\n",
            "\n",
            " 8 6\n",
            "score 0.6\n",
            "auc score 0.5721648351648352\n",
            "f1 score 0.29000000000000004\n",
            "\n",
            " 9 6\n",
            "score 0.5333333333333333\n",
            "auc score 0.5064395604395605\n",
            "f1 score 0.14545454545454545\n",
            "c 0.0005994842503189409 k 4 maxit 1000\n",
            "\n",
            " 0 7\n",
            "score 0.5806451612903226\n",
            "auc score 0.5376666666666667\n",
            "f1 score 0.20813953488372094\n",
            "\n",
            " 1 7\n",
            "score 0.5806451612903226\n",
            "auc score 0.5511904761904762\n",
            "f1 score 0.2212121212121212\n",
            "\n",
            " 2 7\n",
            "score 0.6129032258064516\n",
            "auc score 0.5952380952380952\n",
            "f1 score 0.2619047619047619\n",
            "\n",
            " 3 7\n",
            "score 0.6\n",
            "auc score 0.544551282051282\n",
            "f1 score 0.2511111111111111\n",
            "\n",
            " 4 7\n",
            "score 0.5666666666666667\n",
            "auc score 0.5437728937728938\n",
            "f1 score 0.24545454545454545\n",
            "\n",
            " 5 7\n",
            "score 0.6333333333333333\n",
            "auc score 0.5958571428571429\n",
            "f1 score 0.32\n",
            "\n",
            " 6 7\n",
            "score 0.5333333333333333\n",
            "auc score 0.5065934065934066\n",
            "f1 score 0.14545454545454545\n",
            "\n",
            " 7 7\n",
            "score 0.5666666666666667\n",
            "auc score 0.5354395604395604\n",
            "f1 score 0.2121212121212121\n",
            "\n",
            " 8 7\n",
            "score 0.5\n",
            "auc score 0.5243681318681319\n",
            "f1 score 0.2235897435897436\n",
            "\n",
            " 9 7\n",
            "score 0.5666666666666667\n",
            "auc score 0.542032967032967\n",
            "f1 score 0.2323809523809524\n",
            "c 0.02782559402207126 k 3 maxit 1000\n",
            "\n",
            " 0 8\n",
            "score 0.6129032258064516\n",
            "auc score 0.5785714285714286\n",
            "f1 score 0.2761904761904762\n",
            "\n",
            " 1 8\n",
            "score 0.5806451612903226\n",
            "auc score 0.5511904761904762\n",
            "f1 score 0.2212121212121212\n",
            "\n",
            " 2 8\n",
            "score 0.5806451612903226\n",
            "auc score 0.5507619047619048\n",
            "f1 score 0.23454545454545456\n",
            "\n",
            " 3 8\n",
            "score 0.6\n",
            "auc score 0.541025641025641\n",
            "f1 score 0.24782608695652172\n",
            "\n",
            " 4 8\n",
            "score 0.5666666666666667\n",
            "auc score 0.5446886446886448\n",
            "f1 score 0.2132404181184669\n",
            "\n",
            " 5 8\n",
            "score 0.5333333333333333\n",
            "auc score 0.5031428571428571\n",
            "f1 score 0.14222222222222222\n",
            "\n",
            " 6 8\n",
            "score 0.5\n",
            "auc score 0.5024752747252748\n",
            "f1 score 0.14634146341463414\n",
            "\n",
            " 7 8\n",
            "score 0.5666666666666667\n",
            "auc score 0.5354395604395604\n",
            "f1 score 0.2121212121212121\n",
            "\n",
            " 8 8\n",
            "score 0.5333333333333333\n",
            "auc score 0.5284862637362637\n",
            "f1 score 0.2\n",
            "\n",
            " 9 8\n",
            "score 0.5333333333333333\n",
            "auc score 0.5\n",
            "f1 score 0.13913043478260873\n",
            "c 0.0005994842503189409 k 5 maxit 10000\n",
            "\n",
            " 0 9\n",
            "score 0.5483870967741935\n",
            "auc score 0.5138571428571429\n",
            "f1 score 0.15454545454545454\n",
            "\n",
            " 1 9\n",
            "score 0.5806451612903226\n",
            "auc score 0.5511904761904762\n",
            "f1 score 0.2212121212121212\n",
            "\n",
            " 2 9\n",
            "score 0.5806451612903226\n",
            "auc score 0.5471904761904762\n",
            "f1 score 0.2311111111111111\n",
            "\n",
            " 3 9\n",
            "score 0.5666666666666667\n",
            "auc score 0.507514245014245\n",
            "f1 score 0.15111111111111108\n",
            "\n",
            " 4 9\n",
            "score 0.5666666666666667\n",
            "auc score 0.5471469622331692\n",
            "f1 score 0.24883720930232558\n",
            "\n",
            " 5 9\n",
            "score 0.5666666666666667\n",
            "auc score 0.5622225274725274\n",
            "f1 score 0.2681318681318682\n",
            "\n",
            " 6 9\n",
            "score 0.5333333333333333\n",
            "auc score 0.5131868131868133\n",
            "f1 score 0.1523809523809524\n",
            "\n",
            " 7 9\n",
            "score 0.5333333333333333\n",
            "auc score 0.5062857142857142\n",
            "f1 score 0.14545454545454545\n",
            "\n",
            " 8 9\n",
            "score 0.6333333333333333\n",
            "auc score 0.5978681318681318\n",
            "f1 score 0.35990708478513356\n",
            "\n",
            " 9 9\n",
            "score 0.5333333333333333\n",
            "auc score 0.5\n",
            "f1 score 0.13913043478260873\n"
          ],
          "name": "stdout"
        }
      ]
    },
    {
      "cell_type": "code",
      "metadata": {
        "id": "XUr57JEzxUMJ",
        "outputId": "dc5455ff-51bf-481e-a204-4df1f109e669",
        "colab": {
          "base_uri": "https://localhost:8080/"
        }
      },
      "source": [
        "np.random.uniform(3,8)"
      ],
      "execution_count": 47,
      "outputs": [
        {
          "output_type": "execute_result",
          "data": {
            "text/plain": [
              "4.154131428022018"
            ]
          },
          "metadata": {
            "tags": []
          },
          "execution_count": 47
        }
      ]
    },
    {
      "cell_type": "code",
      "metadata": {
        "id": "yCjkE3_h7k4P",
        "colab": {
          "base_uri": "https://localhost:8080/"
        },
        "outputId": "7f287748-43d3-4853-a7a6-75b1e39d04a8"
      },
      "source": [
        "print(X.shape)"
      ],
      "execution_count": 28,
      "outputs": [
        {
          "output_type": "stream",
          "text": [
            "(303, 13)\n"
          ],
          "name": "stdout"
        }
      ]
    },
    {
      "cell_type": "code",
      "metadata": {
        "id": "Po_LPTnvXTV5"
      },
      "source": [
        "#https://www.kaggle.com/iamhungundji/covid19-symptoms-checker\n",
        "#bonus work dataset: predict severity"
      ],
      "execution_count": null,
      "outputs": []
    },
    {
      "cell_type": "code",
      "metadata": {
        "id": "rlfdW-DX4tri",
        "outputId": "89beb28b-1428-45bb-8000-e4a7cf45c02d",
        "colab": {
          "base_uri": "https://localhost:8080/"
        }
      },
      "source": [
        "np.logspace(-6, -1, 10)"
      ],
      "execution_count": 88,
      "outputs": [
        {
          "output_type": "execute_result",
          "data": {
            "text/plain": [
              "array([1.00000000e-06, 3.59381366e-06, 1.29154967e-05, 4.64158883e-05,\n",
              "       1.66810054e-04, 5.99484250e-04, 2.15443469e-03, 7.74263683e-03,\n",
              "       2.78255940e-02, 1.00000000e-01])"
            ]
          },
          "metadata": {
            "tags": []
          },
          "execution_count": 88
        }
      ]
    },
    {
      "cell_type": "code",
      "metadata": {
        "id": "DExvhiF64uBu"
      },
      "source": [
        ""
      ],
      "execution_count": null,
      "outputs": []
    }
  ]
}