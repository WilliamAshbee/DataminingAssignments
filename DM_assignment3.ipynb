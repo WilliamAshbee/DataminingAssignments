{
  "nbformat": 4,
  "nbformat_minor": 0,
  "metadata": {
    "colab": {
      "name": "DM_assignment3.ipynb",
      "provenance": [],
      "authorship_tag": "ABX9TyP4p0PQCIwkn7GOrLDIkaCY",
      "include_colab_link": true
    },
    "kernelspec": {
      "name": "python3",
      "display_name": "Python 3"
    },
    "language_info": {
      "name": "python"
    }
  },
  "cells": [
    {
      "cell_type": "markdown",
      "metadata": {
        "id": "view-in-github",
        "colab_type": "text"
      },
      "source": [
        "<a href=\"https://colab.research.google.com/github/WilliamAshbee/DataminingAssignments/blob/main/DM_assignment3.ipynb\" target=\"_parent\"><img src=\"https://colab.research.google.com/assets/colab-badge.svg\" alt=\"Open In Colab\"/></a>"
      ]
    },
    {
      "cell_type": "code",
      "metadata": {
        "id": "WidTxXynAuKz"
      },
      "source": [
        "import sklearn as sk\n",
        "import pandas as pd\n"
      ],
      "execution_count": 1,
      "outputs": []
    },
    {
      "cell_type": "code",
      "metadata": {
        "id": "M6-36kRz9YpX"
      },
      "source": [
        "#!wget http://archive.ics.uci.edu/ml/machine-learning-databases/heart-disease/cleve.mod"
      ],
      "execution_count": 2,
      "outputs": []
    },
    {
      "cell_type": "code",
      "metadata": {
        "id": "hdzETJc49fpg"
      },
      "source": [
        "url = 'http://archive.ics.uci.edu/ml/machine-learning-databases/heart-disease/cleve.mod'\n",
        "df1 = pd.read_csv(url,header=None,skiprows=(i for i in range(20)),delim_whitespace=True,error_bad_lines=False)\n"
      ],
      "execution_count": 3,
      "outputs": []
    },
    {
      "cell_type": "code",
      "metadata": {
        "colab": {
          "base_uri": "https://localhost:8080/"
        },
        "id": "nx82_yEW98QR",
        "outputId": "3ce2f755-2791-4bdb-a44c-9c96450811cc"
      },
      "source": [
        "df1.shape"
      ],
      "execution_count": 4,
      "outputs": [
        {
          "output_type": "execute_result",
          "data": {
            "text/plain": [
              "(303, 15)"
            ]
          },
          "metadata": {
            "tags": []
          },
          "execution_count": 4
        }
      ]
    },
    {
      "cell_type": "code",
      "metadata": {
        "id": "BEuvXn3z2bvA"
      },
      "source": [
        "#mapping = {'angina': 0, 'asympt': 1}\n",
        "pain = {'angina': 0, 'asympt': 1,'notang':2,'abnang':3}\n",
        "gender = {'male':1,'fem':0}\n",
        "bsl20 = {'true':1,'fal':0}\n",
        "restingecg = {'norm':0,'abn':1, 'hyp':2}\n",
        "exindang = {'true':1,'fal':0}\n",
        "slope = {'up':1, 'flat':0, 'down':-1}\n",
        "thal = {'norm':0, 'fix':1, 'rev':-1}\n",
        "state= {'buff':1,'sick':-1}\n",
        "code = {'H':0,'S1':1,'S2':2,'S3':3,'S4':4}\n",
        "eleventh = {'?':-10000}\n",
        "twelth = {'?':-10000}\n",
        "df2 = df1.replace({1: gender,2:pain,5:bsl20,6:restingecg,8:exindang,10:slope,11:eleventh,12:{**thal, **twelth},13:state,14:code})\n"
      ],
      "execution_count": 44,
      "outputs": []
    },
    {
      "cell_type": "code",
      "metadata": {
        "colab": {
          "base_uri": "https://localhost:8080/"
        },
        "id": "3-kGaXsRBLoG",
        "outputId": "b8fef86a-b85c-45ca-a5d5-ebe8efc3eba4"
      },
      "source": [
        "for col in df2.columns:\n",
        "    print(type(col),col)#column names i assume"
      ],
      "execution_count": 45,
      "outputs": [
        {
          "output_type": "stream",
          "text": [
            "<class 'int'> 0\n",
            "<class 'int'> 1\n",
            "<class 'int'> 2\n",
            "<class 'int'> 3\n",
            "<class 'int'> 4\n",
            "<class 'int'> 5\n",
            "<class 'int'> 6\n",
            "<class 'int'> 7\n",
            "<class 'int'> 8\n",
            "<class 'int'> 9\n",
            "<class 'int'> 10\n",
            "<class 'int'> 11\n",
            "<class 'int'> 12\n",
            "<class 'int'> 13\n",
            "<class 'int'> 14\n"
          ],
          "name": "stdout"
        }
      ]
    },
    {
      "cell_type": "code",
      "metadata": {
        "colab": {
          "base_uri": "https://localhost:8080/",
          "height": 421
        },
        "id": "k2qXSdYNEeUh",
        "outputId": "17422eb0-00c3-4e27-e81d-56848805cfbd"
      },
      "source": [
        "df2"
      ],
      "execution_count": 61,
      "outputs": [
        {
          "output_type": "execute_result",
          "data": {
            "text/html": [
              "<div>\n",
              "<style scoped>\n",
              "    .dataframe tbody tr th:only-of-type {\n",
              "        vertical-align: middle;\n",
              "    }\n",
              "\n",
              "    .dataframe tbody tr th {\n",
              "        vertical-align: top;\n",
              "    }\n",
              "\n",
              "    .dataframe thead th {\n",
              "        text-align: right;\n",
              "    }\n",
              "</style>\n",
              "<table border=\"1\" class=\"dataframe\">\n",
              "  <thead>\n",
              "    <tr style=\"text-align: right;\">\n",
              "      <th></th>\n",
              "      <th>0</th>\n",
              "      <th>1</th>\n",
              "      <th>2</th>\n",
              "      <th>3</th>\n",
              "      <th>4</th>\n",
              "      <th>5</th>\n",
              "      <th>6</th>\n",
              "      <th>7</th>\n",
              "      <th>8</th>\n",
              "      <th>9</th>\n",
              "      <th>10</th>\n",
              "      <th>11</th>\n",
              "      <th>12</th>\n",
              "      <th>13</th>\n",
              "      <th>14</th>\n",
              "    </tr>\n",
              "  </thead>\n",
              "  <tbody>\n",
              "    <tr>\n",
              "      <th>0</th>\n",
              "      <td>63.0</td>\n",
              "      <td>1</td>\n",
              "      <td>0</td>\n",
              "      <td>145.0</td>\n",
              "      <td>233.0</td>\n",
              "      <td>1</td>\n",
              "      <td>2</td>\n",
              "      <td>150.0</td>\n",
              "      <td>0</td>\n",
              "      <td>2.3</td>\n",
              "      <td>-1</td>\n",
              "      <td>0.0</td>\n",
              "      <td>1</td>\n",
              "      <td>1</td>\n",
              "      <td>0</td>\n",
              "    </tr>\n",
              "    <tr>\n",
              "      <th>1</th>\n",
              "      <td>67.0</td>\n",
              "      <td>1</td>\n",
              "      <td>1</td>\n",
              "      <td>160.0</td>\n",
              "      <td>286.0</td>\n",
              "      <td>0</td>\n",
              "      <td>2</td>\n",
              "      <td>108.0</td>\n",
              "      <td>1</td>\n",
              "      <td>1.5</td>\n",
              "      <td>0</td>\n",
              "      <td>3.0</td>\n",
              "      <td>0</td>\n",
              "      <td>-1</td>\n",
              "      <td>2</td>\n",
              "    </tr>\n",
              "    <tr>\n",
              "      <th>2</th>\n",
              "      <td>67.0</td>\n",
              "      <td>1</td>\n",
              "      <td>1</td>\n",
              "      <td>120.0</td>\n",
              "      <td>229.0</td>\n",
              "      <td>0</td>\n",
              "      <td>2</td>\n",
              "      <td>129.0</td>\n",
              "      <td>1</td>\n",
              "      <td>2.6</td>\n",
              "      <td>0</td>\n",
              "      <td>2.0</td>\n",
              "      <td>-1</td>\n",
              "      <td>-1</td>\n",
              "      <td>1</td>\n",
              "    </tr>\n",
              "    <tr>\n",
              "      <th>3</th>\n",
              "      <td>37.0</td>\n",
              "      <td>1</td>\n",
              "      <td>2</td>\n",
              "      <td>130.0</td>\n",
              "      <td>250.0</td>\n",
              "      <td>0</td>\n",
              "      <td>0</td>\n",
              "      <td>187.0</td>\n",
              "      <td>0</td>\n",
              "      <td>3.5</td>\n",
              "      <td>-1</td>\n",
              "      <td>0.0</td>\n",
              "      <td>0</td>\n",
              "      <td>1</td>\n",
              "      <td>0</td>\n",
              "    </tr>\n",
              "    <tr>\n",
              "      <th>4</th>\n",
              "      <td>41.0</td>\n",
              "      <td>0</td>\n",
              "      <td>3</td>\n",
              "      <td>130.0</td>\n",
              "      <td>204.0</td>\n",
              "      <td>0</td>\n",
              "      <td>2</td>\n",
              "      <td>172.0</td>\n",
              "      <td>0</td>\n",
              "      <td>1.4</td>\n",
              "      <td>1</td>\n",
              "      <td>0.0</td>\n",
              "      <td>0</td>\n",
              "      <td>1</td>\n",
              "      <td>0</td>\n",
              "    </tr>\n",
              "    <tr>\n",
              "      <th>...</th>\n",
              "      <td>...</td>\n",
              "      <td>...</td>\n",
              "      <td>...</td>\n",
              "      <td>...</td>\n",
              "      <td>...</td>\n",
              "      <td>...</td>\n",
              "      <td>...</td>\n",
              "      <td>...</td>\n",
              "      <td>...</td>\n",
              "      <td>...</td>\n",
              "      <td>...</td>\n",
              "      <td>...</td>\n",
              "      <td>...</td>\n",
              "      <td>...</td>\n",
              "      <td>...</td>\n",
              "    </tr>\n",
              "    <tr>\n",
              "      <th>298</th>\n",
              "      <td>48.0</td>\n",
              "      <td>1</td>\n",
              "      <td>2</td>\n",
              "      <td>124.0</td>\n",
              "      <td>255.0</td>\n",
              "      <td>1</td>\n",
              "      <td>0</td>\n",
              "      <td>175.0</td>\n",
              "      <td>0</td>\n",
              "      <td>0.0</td>\n",
              "      <td>1</td>\n",
              "      <td>2.0</td>\n",
              "      <td>0</td>\n",
              "      <td>1</td>\n",
              "      <td>0</td>\n",
              "    </tr>\n",
              "    <tr>\n",
              "      <th>299</th>\n",
              "      <td>57.0</td>\n",
              "      <td>1</td>\n",
              "      <td>1</td>\n",
              "      <td>132.0</td>\n",
              "      <td>207.0</td>\n",
              "      <td>0</td>\n",
              "      <td>0</td>\n",
              "      <td>168.0</td>\n",
              "      <td>1</td>\n",
              "      <td>0.0</td>\n",
              "      <td>1</td>\n",
              "      <td>0.0</td>\n",
              "      <td>-1</td>\n",
              "      <td>1</td>\n",
              "      <td>0</td>\n",
              "    </tr>\n",
              "    <tr>\n",
              "      <th>300</th>\n",
              "      <td>49.0</td>\n",
              "      <td>1</td>\n",
              "      <td>2</td>\n",
              "      <td>118.0</td>\n",
              "      <td>149.0</td>\n",
              "      <td>0</td>\n",
              "      <td>2</td>\n",
              "      <td>126.0</td>\n",
              "      <td>0</td>\n",
              "      <td>0.8</td>\n",
              "      <td>1</td>\n",
              "      <td>3.0</td>\n",
              "      <td>0</td>\n",
              "      <td>-1</td>\n",
              "      <td>1</td>\n",
              "    </tr>\n",
              "    <tr>\n",
              "      <th>301</th>\n",
              "      <td>74.0</td>\n",
              "      <td>0</td>\n",
              "      <td>3</td>\n",
              "      <td>120.0</td>\n",
              "      <td>269.0</td>\n",
              "      <td>0</td>\n",
              "      <td>2</td>\n",
              "      <td>121.0</td>\n",
              "      <td>1</td>\n",
              "      <td>0.2</td>\n",
              "      <td>1</td>\n",
              "      <td>1.0</td>\n",
              "      <td>0</td>\n",
              "      <td>1</td>\n",
              "      <td>0</td>\n",
              "    </tr>\n",
              "    <tr>\n",
              "      <th>302</th>\n",
              "      <td>54.0</td>\n",
              "      <td>0</td>\n",
              "      <td>2</td>\n",
              "      <td>160.0</td>\n",
              "      <td>201.0</td>\n",
              "      <td>0</td>\n",
              "      <td>0</td>\n",
              "      <td>163.0</td>\n",
              "      <td>0</td>\n",
              "      <td>0.0</td>\n",
              "      <td>1</td>\n",
              "      <td>1.0</td>\n",
              "      <td>0</td>\n",
              "      <td>1</td>\n",
              "      <td>0</td>\n",
              "    </tr>\n",
              "  </tbody>\n",
              "</table>\n",
              "<p>303 rows × 15 columns</p>\n",
              "</div>"
            ],
            "text/plain": [
              "       0   1   2      3      4   5   6      7   8    9   10   11  12  13  14\n",
              "0    63.0   1   0  145.0  233.0   1   2  150.0   0  2.3  -1  0.0   1   1   0\n",
              "1    67.0   1   1  160.0  286.0   0   2  108.0   1  1.5   0  3.0   0  -1   2\n",
              "2    67.0   1   1  120.0  229.0   0   2  129.0   1  2.6   0  2.0  -1  -1   1\n",
              "3    37.0   1   2  130.0  250.0   0   0  187.0   0  3.5  -1  0.0   0   1   0\n",
              "4    41.0   0   3  130.0  204.0   0   2  172.0   0  1.4   1  0.0   0   1   0\n",
              "..    ...  ..  ..    ...    ...  ..  ..    ...  ..  ...  ..  ...  ..  ..  ..\n",
              "298  48.0   1   2  124.0  255.0   1   0  175.0   0  0.0   1  2.0   0   1   0\n",
              "299  57.0   1   1  132.0  207.0   0   0  168.0   1  0.0   1  0.0  -1   1   0\n",
              "300  49.0   1   2  118.0  149.0   0   2  126.0   0  0.8   1  3.0   0  -1   1\n",
              "301  74.0   0   3  120.0  269.0   0   2  121.0   1  0.2   1  1.0   0   1   0\n",
              "302  54.0   0   2  160.0  201.0   0   0  163.0   0  0.0   1  1.0   0   1   0\n",
              "\n",
              "[303 rows x 15 columns]"
            ]
          },
          "metadata": {
            "tags": []
          },
          "execution_count": 61
        }
      ]
    },
    {
      "cell_type": "code",
      "metadata": {
        "id": "sXKtQoTpuzLc"
      },
      "source": [
        ""
      ],
      "execution_count": null,
      "outputs": []
    },
    {
      "cell_type": "code",
      "metadata": {
        "id": "VFG5H9_w-SFP",
        "colab": {
          "base_uri": "https://localhost:8080/"
        },
        "outputId": "dc44d3e9-d479-4aaf-cc2a-6f7cfe84faa3"
      },
      "source": [
        "df2n = df2.to_numpy()\n",
        "import numpy as np\n",
        "for i in range(df2n.shape[1]):\n",
        "  if type(df2n[0,i]) == type(''):\n",
        "    temp = np.zeros(df2n.shape[0])\n",
        "    for j in range(df2n.shape[0]):\n",
        "      temp[j] = float(df2n[j,i])\n",
        "    df2n[:,i] = temp.astype(float)\n",
        "\n",
        "\n",
        "for i in range(df2n.shape[0]):\n",
        "  for j in range(df2n.shape[1]):\n",
        "    if df2n[i,j] == '?':\n",
        "      print(i,j)\n",
        "\n",
        "df2n = df2n.astype(float)\n",
        "df2n.shape\n",
        "df2n[:,14]#output column"
      ],
      "execution_count": 53,
      "outputs": [
        {
          "output_type": "execute_result",
          "data": {
            "text/plain": [
              "array([0., 2., 1., 0., 0., 0., 3., 0., 2., 1., 0., 0., 2., 0., 0., 0., 0.,\n",
              "       1., 3., 4., 0., 0., 0., 0., 3., 0., 2., 1., 0., 0., 0., 3., 1., 3.,\n",
              "       0., 4., 0., 0., 0., 1., 4., 0., 4., 0., 0., 0., 0., 2., 0., 1., 1.,\n",
              "       1., 1., 0., 0., 2., 0., 1., 0., 2., 2., 1., 0., 2., 1., 0., 3., 1.,\n",
              "       1., 1., 0., 1., 0., 0., 3., 0., 0., 0., 3., 0., 0., 0., 0., 0., 0.,\n",
              "       0., 3., 0., 0., 0., 1., 2., 3., 0., 0., 0., 2., 3., 1., 1., 0., 2.,\n",
              "       2., 0., 0., 0., 3., 2., 3., 4., 0., 3., 0., 0., 0., 0., 4., 3., 1.,\n",
              "       0., 0., 1., 0., 1., 0., 1., 4., 0., 0., 0., 0., 0., 0., 4., 3., 1.,\n",
              "       1., 1., 2., 0., 1., 0., 3., 0., 0., 1., 0., 4., 1., 0., 1., 0., 0.,\n",
              "       3., 2., 0., 0., 0., 0., 0., 2., 1., 2., 0., 3., 1., 2., 0., 3., 0.,\n",
              "       0., 0., 1., 0., 0., 0., 0., 0., 3., 3., 3., 0., 1., 0., 4., 0., 3.,\n",
              "       1., 0., 0., 0., 0., 0., 0., 0., 0., 3., 1., 2., 0., 0., 0., 3., 2.,\n",
              "       0., 2., 3., 2., 1., 0., 0., 0., 0., 0., 2., 0., 2., 2., 1., 3., 0.,\n",
              "       0., 1., 0., 0., 0., 0., 0., 0., 0., 1., 2., 1., 0., 1., 0., 2., 0.,\n",
              "       1., 0., 0., 0., 1., 0., 2., 0., 3., 0., 2., 4., 0., 0., 2., 2., 1.,\n",
              "       0., 3., 1., 1., 2., 3., 1., 0., 2., 0., 0., 1., 0., 0., 1., 0., 0.,\n",
              "       0., 0., 0., 3., 0., 2., 1., 1., 0., 3., 3., 0., 0., 0., 0., 0., 3.,\n",
              "       0., 0., 4., 2., 0., 0., 4., 0., 0., 0., 0., 1., 0., 0.])"
            ]
          },
          "metadata": {
            "tags": []
          },
          "execution_count": 53
        }
      ]
    },
    {
      "cell_type": "code",
      "metadata": {
        "colab": {
          "base_uri": "https://localhost:8080/"
        },
        "id": "5DZEz2rx-p_l",
        "outputId": "c9028be6-3b93-470e-ec43-5339cc6aaf85"
      },
      "source": [
        "for i in range(df2n.shape[1]):\n",
        "  print(i,df2n[0,i],type(df2n[0,i]))"
      ],
      "execution_count": 54,
      "outputs": [
        {
          "output_type": "stream",
          "text": [
            "0 63.0 <class 'numpy.float64'>\n",
            "1 1.0 <class 'numpy.float64'>\n",
            "2 0.0 <class 'numpy.float64'>\n",
            "3 145.0 <class 'numpy.float64'>\n",
            "4 233.0 <class 'numpy.float64'>\n",
            "5 1.0 <class 'numpy.float64'>\n",
            "6 2.0 <class 'numpy.float64'>\n",
            "7 150.0 <class 'numpy.float64'>\n",
            "8 0.0 <class 'numpy.float64'>\n",
            "9 2.3 <class 'numpy.float64'>\n",
            "10 -1.0 <class 'numpy.float64'>\n",
            "11 0.0 <class 'numpy.float64'>\n",
            "12 1.0 <class 'numpy.float64'>\n",
            "13 1.0 <class 'numpy.float64'>\n",
            "14 0.0 <class 'numpy.float64'>\n"
          ],
          "name": "stdout"
        }
      ]
    },
    {
      "cell_type": "code",
      "metadata": {
        "colab": {
          "base_uri": "https://localhost:8080/"
        },
        "id": "r0gWLPhNB_Mc",
        "outputId": "acb418a3-1468-47b4-8d55-93cbf1ca6f03"
      },
      "source": [
        "import sklearn as sk\n",
        "from sklearn.linear_model import LogisticRegression\n",
        "import os\n",
        "\n",
        "y = df2n[:,14]\n",
        "X = df2n[:,:14]\n",
        "\n",
        "LR = LogisticRegression(max_iter = 100000,random_state=0, solver='lbfgs', multi_class='auto').fit(X, y)\n",
        "round(LR.score(X,y), 5)\n"
      ],
      "execution_count": 67,
      "outputs": [
        {
          "output_type": "execute_result",
          "data": {
            "text/plain": [
              "0.78218"
            ]
          },
          "metadata": {
            "tags": []
          },
          "execution_count": 67
        }
      ]
    },
    {
      "cell_type": "code",
      "metadata": {
        "id": "rICJs8D8KCPN"
      },
      "source": [
        "#https://stackoverflow.com/questions/17114904/python-pandas-replacing-strings-in-dataframe-with-numbers\n",
        "#https://pandas.pydata.org/docs/reference/api/pandas.DataFrame.replace.html"
      ],
      "execution_count": null,
      "outputs": []
    },
    {
      "cell_type": "code",
      "metadata": {
        "id": "b6hekr3Q5Cb9"
      },
      "source": [
        "out = LR.predict(X)"
      ],
      "execution_count": 68,
      "outputs": []
    },
    {
      "cell_type": "code",
      "metadata": {
        "colab": {
          "base_uri": "https://localhost:8080/"
        },
        "id": "cv7nD0I60AQg",
        "outputId": "50c39d8a-0319-436d-eda2-4443492e9ccd"
      },
      "source": [
        "np.mean(out == y)"
      ],
      "execution_count": 71,
      "outputs": [
        {
          "output_type": "execute_result",
          "data": {
            "text/plain": [
              "0.7821782178217822"
            ]
          },
          "metadata": {
            "tags": []
          },
          "execution_count": 71
        }
      ]
    },
    {
      "cell_type": "code",
      "metadata": {
        "colab": {
          "base_uri": "https://localhost:8080/"
        },
        "id": "5iq0bkTC0A4e",
        "outputId": "c95d56ee-f42a-4297-b617-b5db976f4f1d"
      },
      "source": [
        "from sklearn import svm\n",
        "clf = svm.SVC(decision_function_shape='ovo')\n",
        "print(clf.kernel)\n",
        "clf = clf.fit(X, y)\n",
        "out = clf.predict(X)\n",
        "print(np.mean(out==y))"
      ],
      "execution_count": 82,
      "outputs": [
        {
          "output_type": "stream",
          "text": [
            "rbf\n",
            "0.5445544554455446\n"
          ],
          "name": "stdout"
        }
      ]
    },
    {
      "cell_type": "code",
      "metadata": {
        "id": "yLjGvKKN1i_e",
        "outputId": "4e5b5a58-1f3f-40b2-a61b-180dbf381740",
        "colab": {
          "base_uri": "https://localhost:8080/"
        }
      },
      "source": [
        "C_2d_range = [1e-2, 1, 1e2]\n",
        "gamma_2d_range = [1e-1, 1, 1e1]\n",
        "classifiers = []\n",
        "for C in C_2d_range:\n",
        "    for gamma in gamma_2d_range:\n",
        "        clf = svm.SVC(C=C, gamma=gamma,decision_function_shape='ovo')\n",
        "        clf.fit(X, y)\n",
        "        out = clf.predict(X)\n",
        "        if np.mean(y==out) > .6:\n",
        "          print(np.mean(y==out),C,gamma)\n",
        "        classifiers.append((C, gamma, clf,np.mean(y==out)))\n",
        "\n",
        "clf = svm.SVC(C=1, gamma=.1,decision_function_shape='ovo')\n",
        "clf.fit(X, y)\n",
        "clf.predict(X)"
      ],
      "execution_count": 92,
      "outputs": [
        {
          "output_type": "stream",
          "text": [
            "1.0 1 0.1\n",
            "1.0 1 1\n",
            "1.0 1 10.0\n",
            "1.0 100.0 0.1\n",
            "1.0 100.0 1\n",
            "1.0 100.0 10.0\n"
          ],
          "name": "stdout"
        },
        {
          "output_type": "execute_result",
          "data": {
            "text/plain": [
              "array([0., 2., 1., 0., 0., 0., 3., 0., 2., 1., 0., 0., 2., 0., 0., 0., 0.,\n",
              "       1., 3., 4., 0., 0., 0., 0., 3., 0., 2., 1., 0., 0., 0., 3., 1., 3.,\n",
              "       0., 4., 0., 0., 0., 1., 4., 0., 4., 0., 0., 0., 0., 2., 0., 1., 1.,\n",
              "       1., 1., 0., 0., 2., 0., 1., 0., 2., 2., 1., 0., 2., 1., 0., 3., 1.,\n",
              "       1., 1., 0., 1., 0., 0., 3., 0., 0., 0., 3., 0., 0., 0., 0., 0., 0.,\n",
              "       0., 3., 0., 0., 0., 1., 2., 3., 0., 0., 0., 2., 3., 1., 1., 0., 2.,\n",
              "       2., 0., 0., 0., 3., 2., 3., 4., 0., 3., 0., 0., 0., 0., 4., 3., 1.,\n",
              "       0., 0., 1., 0., 1., 0., 1., 4., 0., 0., 0., 0., 0., 0., 4., 3., 1.,\n",
              "       1., 1., 2., 0., 1., 0., 3., 0., 0., 1., 0., 4., 1., 0., 1., 0., 0.,\n",
              "       3., 2., 0., 0., 0., 0., 0., 2., 1., 2., 0., 3., 1., 2., 0., 3., 0.,\n",
              "       0., 0., 1., 0., 0., 0., 0., 0., 3., 3., 3., 0., 1., 0., 4., 0., 3.,\n",
              "       1., 0., 0., 0., 0., 0., 0., 0., 0., 3., 1., 2., 0., 0., 0., 3., 2.,\n",
              "       0., 2., 3., 2., 1., 0., 0., 0., 0., 0., 2., 0., 2., 2., 1., 3., 0.,\n",
              "       0., 1., 0., 0., 0., 0., 0., 0., 0., 1., 2., 1., 0., 1., 0., 2., 0.,\n",
              "       1., 0., 0., 0., 1., 0., 2., 0., 3., 0., 2., 4., 0., 0., 2., 2., 1.,\n",
              "       0., 3., 1., 1., 2., 3., 1., 0., 2., 0., 0., 1., 0., 0., 1., 0., 0.,\n",
              "       0., 0., 0., 3., 0., 2., 1., 1., 0., 3., 3., 0., 0., 0., 0., 0., 3.,\n",
              "       0., 0., 4., 2., 0., 0., 4., 0., 0., 0., 0., 1., 0., 0.])"
            ]
          },
          "metadata": {
            "tags": []
          },
          "execution_count": 92
        }
      ]
    },
    {
      "cell_type": "code",
      "metadata": {
        "id": "rrHT60jJ2Yjp",
        "outputId": "cfac60bb-815f-48f6-ea41-07a4269c822f",
        "colab": {
          "base_uri": "https://localhost:8080/"
        }
      },
      "source": [
        "from sklearn.neural_network import MLPClassifier\n",
        "clf = MLPClassifier(random_state=1, max_iter=30000,learning_rate_init = .00001).fit(X, y)\n",
        "clf.predict(X)\n",
        "clf.score(X, y)\n"
      ],
      "execution_count": 102,
      "outputs": [
        {
          "output_type": "execute_result",
          "data": {
            "text/plain": [
              "0.6798679867986799"
            ]
          },
          "metadata": {
            "tags": []
          },
          "execution_count": 102
        }
      ]
    },
    {
      "cell_type": "code",
      "metadata": {
        "id": "wOzU_HZY4Lfj",
        "outputId": "4d6aa68e-12f3-4f61-9dd2-5184593cdf40",
        "colab": {
          "base_uri": "https://localhost:8080/"
        }
      },
      "source": [
        "from sklearn.ensemble import RandomForestClassifier\n",
        "from sklearn.datasets import make_classification\n",
        "#X, y = make_classification(n_samples=1000, n_features=4,\n",
        "#...                            n_informative=2, n_redundant=0,\n",
        "#...                            random_state=0, shuffle=False)\n",
        "clf = RandomForestClassifier(max_depth=7, random_state=0)\n",
        "clf.fit(X, y)\n",
        "print(clf.score(X,y))\n"
      ],
      "execution_count": 116,
      "outputs": [
        {
          "output_type": "stream",
          "text": [
            "0.9867986798679867\n"
          ],
          "name": "stdout"
        }
      ]
    },
    {
      "cell_type": "code",
      "metadata": {
        "id": "z1VXy_wS-N-t",
        "outputId": "91811ee6-d058-47e8-f5d1-647a78178ca0",
        "colab": {
          "base_uri": "https://localhost:8080/"
        }
      },
      "source": [
        "from sklearn.naive_bayes import GaussianNB\n",
        "gnb = GaussianNB().fit(X, y)\n",
        "gnb_score = gnb.score(X,y)\n",
        "print(gnb_score)"
      ],
      "execution_count": 118,
      "outputs": [
        {
          "output_type": "stream",
          "text": [
            "0.6732673267326733\n"
          ],
          "name": "stdout"
        }
      ]
    },
    {
      "cell_type": "code",
      "metadata": {
        "id": "IWAnVyuI_LBq"
      },
      "source": [
        ""
      ],
      "execution_count": null,
      "outputs": []
    }
  ]
}