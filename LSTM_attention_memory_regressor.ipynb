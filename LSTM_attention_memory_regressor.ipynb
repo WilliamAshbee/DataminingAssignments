{
  "nbformat": 4,
  "nbformat_minor": 0,
  "metadata": {
    "colab": {
      "name": "LSTM_attention-memory_regressor.ipynb",
      "provenance": [],
      "authorship_tag": "ABX9TyOCeVMxzrF/Fx4Gq4hvUOtQ",
      "include_colab_link": true
    },
    "kernelspec": {
      "name": "python3",
      "display_name": "Python 3"
    },
    "language_info": {
      "name": "python"
    },
    "accelerator": "GPU"
  },
  "cells": [
    {
      "cell_type": "markdown",
      "metadata": {
        "id": "view-in-github",
        "colab_type": "text"
      },
      "source": [
        "<a href=\"https://colab.research.google.com/github/WilliamAshbee/DataminingAssignments/blob/main/LSTM_attention_memory_regressor.ipynb\" target=\"_parent\"><img src=\"https://colab.research.google.com/assets/colab-badge.svg\" alt=\"Open In Colab\"/></a>"
      ]
    },
    {
      "cell_type": "code",
      "metadata": {
        "colab": {
          "base_uri": "https://localhost:8080/",
          "height": 285
        },
        "id": "pPJLPR-jCBtx",
        "outputId": "8522853a-1884-4f3a-8ef4-24e8546a1b69"
      },
      "source": [
        "import torch\n",
        "import numpy as np\n",
        "import pylab as plt\n",
        "from skimage import filters\n",
        "import math\n",
        "\n",
        "global numpoints\n",
        "numpoints = 1000\n",
        "side = 32\n",
        "\n",
        "rows = torch.zeros(32,32)\n",
        "columns = torch.zeros(32,32)\n",
        "\n",
        "\n",
        "for i in range(32):\n",
        "    columns[:,i] = i\n",
        "    rows[i,:] = i\n",
        "\n",
        "\n",
        "def donut_matrix(length = 10):\n",
        "    radiusMax = side /3\n",
        "    w = 1\n",
        "    sigmas = [None, 1]\n",
        "    \n",
        "    canvas = torch.zeros((length,side, side))\n",
        "    r0 = torch.tensor(np.random.uniform(side/4, side/3, length))\n",
        "\n",
        "    radii = torch.zeros((length,numpoints))\n",
        "    radii[:, :] = r0.unsqueeze(1)\n",
        "    \n",
        "    ind = [x for x in range(numpoints)]\n",
        "\n",
        "    theta = torch.FloatTensor(ind)\n",
        "    theta *= math.pi*2.0/(float)(numpoints)\n",
        "    \n",
        "    for i in range(1,length):\n",
        "        a = np.random.uniform(1.0,3.0)*torch.sin(np.random.uniform(20.0)*theta+np.random.uniform(1000.0))\n",
        "        #a = 4.0*torch.sin(10.0*theta)\n",
        "        #print(a.shape,torch.max(a))\n",
        "        radii[i,:] += a\n",
        "        #print(radii.shape, torch.max(radii))\n",
        "    \n",
        "    assert torch.min(radii)>0\n",
        "    #print(radii.max(axis = 0)[0].shape)\n",
        "    rmaxs = radii.max(axis = 1)[0]\n",
        "    pmins = rmaxs+1.0\n",
        "    pmaxs = side-rmaxs-1.0\n",
        "    x0 = np.random.uniform(pmins,pmaxs)\n",
        "    y0 = np.random.uniform(pmins,pmaxs)\n",
        "    x0[:]=side/2\n",
        "    y0[:]=side/2\n",
        "    x0 = torch.tensor(x0)\n",
        "    y0 = torch.tensor(y0)\n",
        "    \n",
        "    x0 = x0.unsqueeze(1)\n",
        "    y0 = y0.unsqueeze(1)\n",
        "    #radii = torch.from_numpy(radii)\n",
        "    xrfactors = torch.cos(theta).unsqueeze(0)\n",
        "    yrfactors = torch.sin(theta).unsqueeze(0)\n",
        "    \n",
        "    print('x0_y0_r_xrf_yrf',x0.shape,y0.shape,radii.shape,xrfactors.shape,yrfactors.shape)\n",
        "\n",
        "    x = (x0+(xrfactors*radii))\n",
        "    y = (y0+(yrfactors*radii))\n",
        "    assert x.shape == (length,numpoints)\n",
        "    assert y.shape == (length,numpoints)\n",
        "    assert torch.sum(x[x>(side-1)])==0 \n",
        "    assert torch.sum(x[x<0])==0 \n",
        "    assert torch.sum(y[y>(side-1)])==0 \n",
        "    assert torch.sum(y[y<0])==0 \n",
        "    \n",
        "    points = torch.zeros(length,numpoints,2)\n",
        "    for l in range(length):\n",
        "        canvas[l,y[l,:].type(torch.LongTensor),x[l,:].type(torch.LongTensor)]=1.0\n",
        "        points[l,:,0] = x[l,:]#modified for lstm discriminator\n",
        "        points[l,:,1] = y[l,:]#modified for lstm discriminator \n",
        "    \n",
        "    \n",
        "    return {\n",
        "        'canvas': canvas, \n",
        "        'points':points.type(torch.FloatTensor)}\n",
        "\n",
        "\n",
        "def plot_all( sample = None, model = None, labels = None):\n",
        "    img = sample[:,:].squeeze().cpu().numpy()\n",
        "    #img = img.T\n",
        "    plt.imshow(img, cmap=plt.cm.gray_r)\n",
        "    if model != None:\n",
        "        with torch.no_grad():\n",
        "            global numpoints\n",
        "            print(labels.shape,sample.shape)\n",
        "            sample = torch.stack([sample for i in range(2)],dim = 0).cuda()\n",
        "            labels = torch.stack([labels for i in range(2)],dim = 0).cuda()\n",
        "            h0 = None\n",
        "            c0 = None\n",
        "            X = []\n",
        "            Y = []\n",
        "            for i in range(19):\n",
        "              out, h0, c0 = model(x,y[:,i*50:50*(i+1),:2],h0,c0,ind = i)\n",
        "              X.extend(out[0,:,0].tolist())\n",
        "              Y.extend(out[0,:,1].tolist())\n",
        "\n",
        "            predres = len(X)\n",
        "\n",
        "            s = [.001 for x in range(predres)]\n",
        "            \n",
        "            assert len(s) == predres\n",
        "            c = ['red' for x in range(predres)]\n",
        "            assert len(c) == predres\n",
        "            #print(\"type\",type(X))\n",
        "            ascatter = plt.scatter(X,Y,s = s,c = c)\n",
        "            plt.gca().add_artist(ascatter)\n",
        "    else:\n",
        "        #print(labels.shape)\n",
        "        X = labels[:,0]\n",
        "        Y = labels[:,1]\n",
        "        #print(X.shape)\n",
        "        #print(Y.shape)\n",
        "        s = [.001 for x in range(numpoints)]\n",
        "        #print(len(s))\n",
        "        c = ['red' for x in range(numpoints)]\n",
        "        #print(len(c))\n",
        "        ascatter = plt.scatter(X.cpu().numpy(),Y.cpu().numpy(),s = s,c = c)\n",
        "        plt.gca().add_artist(ascatter)\n",
        "\n",
        "class DonutDataset(torch.utils.data.Dataset):\n",
        "    \"\"\"Donut dataset.\"\"\"\n",
        "    def __init__(self, length = 10):\n",
        "        \"\"\"\n",
        "        Args:\n",
        "            csv_file (string): Path to the csv file with annotations.\n",
        "            root_dir (string): Directory with all the images.\n",
        "            transform (callable, optional): Optional transform to be applied\n",
        "                on a sample.\n",
        "        \"\"\"\n",
        "        self.length = length\n",
        "        self.values = donut_matrix(length)\n",
        "        assert self.values['canvas'].shape[0] == self.length\n",
        "        assert self.values['points'].shape[0] == self.length\n",
        "        \n",
        "        count = 0\n",
        "        for i in range(self.length):\n",
        "          a = self[i]\n",
        "          c = a[0]\n",
        "          for el in a[1]:\n",
        "            #print(c[(int)(el[1]),(int)(el[0])].item())\n",
        "            #assert c[(int)(el[1]),(int)(el[0])].item() == 1\n",
        "            y,x = (int)(el[1]),(int)(el[0])\n",
        "            if x < side-2 and x > 2 and y < side-2 and y > 2: \n",
        "              if c[y,x] != 1 and \\\n",
        "                c[y+1,x] != 1 and c[y+1,-1+x] != 1 and c[y+1,1+x] != 1 and \\\n",
        "                c[y-1,x] != 1 and c[y,-1+x] != 1 and c[y,1+x] != 1:\n",
        "                count+=1\n",
        "        assert count ==0\n",
        "    def __len__(self):\n",
        "        return self.length\n",
        "\n",
        "\n",
        "    def __getitem__(self, idx):\n",
        "        canvas = self.values[\"canvas\"]\n",
        "        \n",
        "        canvas = canvas[idx,:,:]\n",
        "        assert canvas.shape == (side,side)\n",
        "        \n",
        "        points = self.values[\"points\"]\n",
        "        points = points[idx,:]\n",
        "        #points = points.unsqueeze(1)\n",
        "        z = torch.zeros(numpoints,1)\n",
        "        #print(z.shape)\n",
        "        points = torch.cat([points,z], dim = 1)\n",
        "        \n",
        "        #print('points', points.shape)\n",
        "        return canvas, points\n",
        "    \n",
        "    @staticmethod\n",
        "    def displayCanvas(title,dataset, model):\n",
        "        #model.setBatchSize(batch_size = 1)\n",
        "        for i in range(100):\n",
        "            sample, labels = dataset[i]\n",
        "            plt.subplot(10,10,i+1)\n",
        "            plot_all(sample = sample,model=model, labels = labels)\n",
        "            plt.axis('off')\n",
        "        plt.savefig(title,dpi=600)\n",
        "\n",
        "dataset = DonutDataset(length = 100)\n",
        "\n",
        "DonutDataset.displayCanvas('donut.png',dataset, model = None)\n"
      ],
      "execution_count": 1,
      "outputs": [
        {
          "output_type": "stream",
          "text": [
            "x0_y0_r_xrf_yrf torch.Size([100, 1]) torch.Size([100, 1]) torch.Size([100, 1000]) torch.Size([1, 1000]) torch.Size([1, 1000])\n"
          ],
          "name": "stdout"
        },
        {
          "output_type": "display_data",
          "data": {
            "image/png": "[encoded data removed]",
            "text/plain": [
              "<Figure size 432x288 with 100 Axes>"
            ]
          },
          "metadata": {
            "tags": [],
            "needs_background": "light"
          }
        }
      ]
    },
    {
      "cell_type": "code",
      "metadata": {
        "id": "mLdlZuLz1fPa",
        "colab": {
          "base_uri": "https://localhost:8080/"
        },
        "outputId": "7f0d832f-b0b0-4db8-962d-fe19131f611b"
      },
      "source": [
        "\n",
        "from torch.utils import data\n",
        "from torch.utils.data import DataLoader, TensorDataset, RandomSampler\n",
        "\n",
        "mini_batch = 64\n",
        "test_dataset = DonutDataset(length = 64)\n",
        "loader_test = data.DataLoader(\n",
        "    test_dataset, \n",
        "    batch_size=mini_batch,\n",
        "    sampler=RandomSampler(data_source=test_dataset),\n",
        "    num_workers=4)\n"
      ],
      "execution_count": 2,
      "outputs": [
        {
          "output_type": "stream",
          "text": [
            "x0_y0_r_xrf_yrf torch.Size([64, 1]) torch.Size([64, 1]) torch.Size([64, 1000]) torch.Size([1, 1000]) torch.Size([1, 1000])\n"
          ],
          "name": "stdout"
        },
        {
          "output_type": "stream",
          "text": [
            "/usr/local/lib/python3.7/dist-packages/torch/utils/data/dataloader.py:477: UserWarning: This DataLoader will create 4 worker processes in total. Our suggested max number of worker in current system is 2, which is smaller than what this DataLoader is going to create. Please be aware that excessive worker creation might get DataLoader running slow or even freeze, lower the worker number to avoid potential slowness/freeze if necessary.\n",
            "  cpuset_checked))\n"
          ],
          "name": "stderr"
        }
      ]
    },
    {
      "cell_type": "code",
      "metadata": {
        "colab": {
          "base_uri": "https://localhost:8080/"
        },
        "id": "KhiJIwh0PvXT",
        "outputId": "1b97a867-f205-4c8f-e9a2-a9e44315b207"
      },
      "source": [
        "\n",
        "from torch.utils import data\n",
        "from torch.utils.data import DataLoader, TensorDataset, RandomSampler\n",
        "\n",
        "mini_batch = 64\n",
        "dataset = DonutDataset(length = 64*20)\n",
        "loader_train = data.DataLoader(\n",
        "    dataset, \n",
        "    batch_size=mini_batch,\n",
        "    sampler=RandomSampler(data_source=dataset),\n",
        "    num_workers=4)\n"
      ],
      "execution_count": 3,
      "outputs": [
        {
          "output_type": "stream",
          "text": [
            "x0_y0_r_xrf_yrf torch.Size([1280, 1]) torch.Size([1280, 1]) torch.Size([1280, 1000]) torch.Size([1, 1000]) torch.Size([1, 1000])\n"
          ],
          "name": "stdout"
        },
        {
          "output_type": "stream",
          "text": [
            "/usr/local/lib/python3.7/dist-packages/torch/utils/data/dataloader.py:477: UserWarning: This DataLoader will create 4 worker processes in total. Our suggested max number of worker in current system is 2, which is smaller than what this DataLoader is going to create. Please be aware that excessive worker creation might get DataLoader running slow or even freeze, lower the worker number to avoid potential slowness/freeze if necessary.\n",
            "  cpuset_checked))\n"
          ],
          "name": "stderr"
        }
      ]
    },
    {
      "cell_type": "markdown",
      "metadata": {
        "id": "D6LUe-aMK-nI"
      },
      "source": [
        "I think I need to give the model the first x0,y0 coordinate in addition to all the other information.\n",
        "\n",
        "Ablation:\\\n",
        "Network depth helps\\\n",
        "Network width helps\\\n",
        "Probably lower learning rate and long running times helps \\\n",
        "\\\n",
        "note:\\\n",
        "worth noting one of the ameba columns always starts at the same place"
      ]
    },
    {
      "cell_type": "code",
      "metadata": {
        "id": "h6boF90E_R6a"
      },
      "source": [
        ""
      ],
      "execution_count": 3,
      "outputs": []
    },
    {
      "cell_type": "code",
      "metadata": {
        "id": "klpc7OMKPGHh"
      },
      "source": [
        "import torch\n",
        "import torch.nn as nn\n",
        "from torch.hub import load_state_dict_from_url\n",
        "\n",
        "class DecoderRNN(nn.Module):\n",
        "    def __init__(self):\n",
        "        super(DecoderRNN, self).__init__()\n",
        "        self.track = 0\n",
        "        # define the properties\n",
        "        self.embed_size = 2\n",
        "        self.hidden_size = 256\n",
        "        self.num_layers = 2\n",
        "        self.seq_len = 50\n",
        "        self.lm_len = 20\n",
        "        self.longtermMem = None\n",
        "        self.longtermMemP = None\n",
        "        # lstm cell\n",
        "        self.lstm_cell = nn.LSTM(2, self.hidden_size,self.num_layers)\n",
        "\n",
        "        self.embedimage = nn.Sequential(\n",
        "            nn.Linear(1024+self.hidden_size*2,256),\n",
        "            nn.ReLU()\n",
        "        )\n",
        "\n",
        "        \n",
        "        self.fc_out = nn.Sequential(\n",
        "            nn.Linear(self.hidden_size*4,2),\n",
        "            nn.Sigmoid()\n",
        "        )\n",
        "        self.alpharead = nn.Sequential(\n",
        "            nn.Linear((self.lm_len+2)*self.hidden_size,self.lm_len),\n",
        "            nn.Softmax()\n",
        "        )\n",
        "        self.alphashort = nn.Sequential(\n",
        "            nn.Linear((self.seq_len+1)*self.hidden_size,50),\n",
        "            nn.Softmax()\n",
        "        )\n",
        "\n",
        "        self.alphawrite = nn.Sequential(\n",
        "            nn.Linear((self.seq_len+2)*self.hidden_size,self.seq_len),\n",
        "            nn.Softmax()\n",
        "        )\n",
        "        \n",
        "\n",
        "\n",
        "        self.hiddenMlp = nn.Sequential(\n",
        "            nn.Linear(1024+2,self.hidden_size),nn.ReLU())\n",
        "        self.cellMlp = nn.Sequential(\n",
        "            nn.Linear(1024+2,self.hidden_size),nn.ReLU())\n",
        "        \n",
        "\n",
        "            \n",
        "        \n",
        "    def forward(self, features, captions,h0 = None, c0= None,ind = 0):\n",
        "\n",
        "        \n",
        "        self.track +=1\n",
        "        batch_size = features.size(0)\n",
        "        if h0 == None:\n",
        "          self.longtermMem = torch.zeros((batch_size,  self.hidden_size,20)).cuda()\n",
        "        else:\n",
        "          self.longtermMem = self.longtermMem.detach()\n",
        "        \n",
        "\n",
        "        img_emb = torch.empty((batch_size, captions.size(1), self.hidden_size)).cuda()\n",
        "        \n",
        "        p0 = torch.flatten(captions[:,0,:2],start_dim=1)\n",
        "        out = p0\n",
        "\n",
        "                \n",
        "        if h0 == None or c0 == None:\n",
        "          h0 = torch.zeros(1,batch_size, self.hidden_size).cuda()\n",
        "          c0 = torch.zeros(1,batch_size, self.hidden_size).cuda()\n",
        "        \n",
        "        \n",
        "        if self.num_layers>1 and h0.shape[0] == 1:\n",
        "          h0 = torch.stack([h0.squeeze() for i in range(self.num_layers)],dim = 0)\n",
        "          c0 = torch.stack([c0.squeeze() for i in range(self.num_layers)],dim = 0)\n",
        "        \n",
        "        #print(h0.shape)\n",
        "        #print(\"1\")\n",
        "        outputs = torch.empty((batch_size, captions.size(1), 2)).cuda()\n",
        "        \n",
        "        \n",
        "        for t in range(captions.size(1)):\n",
        "        \n",
        "            # for the first time step the input is the feature vector\n",
        "            if t == 0:\n",
        "                output, (hidden_state, cell_state) = self.lstm_cell(p0.unsqueeze(0), (h0, c0))\n",
        "            else:\n",
        "                output, (hidden_state, cell_state) = self.lstm_cell(out.unsqueeze(0), (hidden_state, cell_state))\n",
        "                \n",
        "                \n",
        "            assert h0 != None\n",
        "\n",
        "            #print(\"2\")\n",
        "        \n",
        "            emb = self.embedimage(torch.cat([torch.flatten(features,start_dim=1),output.squeeze(),hidden_state[-1,:,:].squeeze()],dim=1))\n",
        "            img_emb[:, t, :] = emb\n",
        "            #print(\"3\")\n",
        "        \n",
        "            if t ==49:\n",
        "              #print('49')\n",
        "              aw_in = torch.cat([torch.flatten(img_emb.clone(),start_dim=1),emb.squeeze(),hidden_state[-1,:,:].squeeze()],dim=1)\n",
        "              #print(aw_in.shape)\n",
        "              alphawrite = self.alphawrite(aw_in)\n",
        "              #print(img_emb.shape,alphawrite.shape)\n",
        "              outeswritea = img_emb.clone()*alphawrite.unsqueeze(2)\n",
        "              outeswrite = torch.sum(outeswritea,dim=1)\n",
        "            \n",
        "              self.longtermMem[:,:,ind]=outeswrite\n",
        "            \n",
        "            ar_in = torch.cat([torch.flatten(self.longtermMem,start_dim=1),emb.squeeze(),hidden_state[-1,:,:].squeeze()],dim=1)\n",
        "            \n",
        "            #print(\"4\",ar_in.shape,torch.flatten(self.longtermMem,start_dim=1).shape, emb.shape,hidden_state[-1,:,:].shape)\n",
        "            alpharead = self.alpharead(ar_in)\n",
        "            #print('4.1',self.longtermMem.shape,alpharead.unsqueeze(1).shape)\n",
        "            outesreada = self.longtermMem.clone()*alpharead.unsqueeze(1)\n",
        "            #print('4.2',outesreada.shape)\n",
        "            \n",
        "            outesread = torch.sum(outesreada,dim=2)\n",
        "\n",
        "            #print(\"5\")\n",
        "        \n",
        "            \n",
        "            alph = self.alphashort(torch.cat([hidden_state[-1,:,:],torch.flatten(img_emb.clone(),start_dim=1)],dim=1))\n",
        "            outesalpha = img_emb.clone()*alph.unsqueeze(2)\n",
        "            #print(\"6\")\n",
        "        \n",
        "            outeshort = torch.sum(outesalpha,dim=1)\n",
        "            #print('6.1',outesread.shape,outeshort.shape,hidden_state[-1,:,:].shape,emb.shape)\n",
        "            combOut = torch.cat([outesread, outeshort,hidden_state[-1,:,:].detach().clone(),emb],dim=1)\n",
        "            #print(\"7\",combOut.shape)\n",
        "        \n",
        "            out = self.fc_out(combOut)\n",
        "            \n",
        "            # build the output tensor\n",
        "\n",
        "            outputs[:, t, :] = out\n",
        "        #print(h0.shape,hidden_state.shape)\n",
        "            \n",
        "        return 32.0*outputs, hidden_state.detach().clone(), cell_state.detach().clone()#, captions\n"
      ],
      "execution_count": 4,
      "outputs": []
    },
    {
      "cell_type": "code",
      "metadata": {
        "id": "Xifd43C1tUXo",
        "colab": {
          "base_uri": "https://localhost:8080/"
        },
        "outputId": "ad1d8998-3b94-426c-cf18-f977ecaab55c"
      },
      "source": [
        "a = torch.ones(64,256,50)\n",
        "b = torch.from_numpy(np.random.randn(50))\n",
        "c = a*b\n",
        "print(c[0,1,:])\n",
        "print(c[1,1,:])"
      ],
      "execution_count": 5,
      "outputs": [
        {
          "output_type": "stream",
          "text": [
            "tensor([ 2.3155,  0.5911, -0.4434, -0.6021, -2.0300,  0.6883, -1.0657,  0.0040,\n",
            "         0.9728, -1.8146, -0.5282, -2.4868, -0.7795, -0.8830, -1.0127,  0.7006,\n",
            "         0.7871,  0.6684, -2.0495,  0.0687,  0.5493,  0.8700, -0.0039,  0.5897,\n",
            "        -0.3614,  0.0516,  1.1366,  0.4962, -0.7609,  0.6991, -1.2275, -1.1475,\n",
            "         0.6099, -1.2269, -1.6083, -2.0110,  0.5692, -1.1443, -0.2173,  0.1612,\n",
            "         1.6685,  1.2733, -0.8999, -0.6633, -1.1776,  1.3009,  2.1090,  0.3590,\n",
            "        -0.1263, -0.4534], dtype=torch.float64)\n",
            "tensor([ 2.3155,  0.5911, -0.4434, -0.6021, -2.0300,  0.6883, -1.0657,  0.0040,\n",
            "         0.9728, -1.8146, -0.5282, -2.4868, -0.7795, -0.8830, -1.0127,  0.7006,\n",
            "         0.7871,  0.6684, -2.0495,  0.0687,  0.5493,  0.8700, -0.0039,  0.5897,\n",
            "        -0.3614,  0.0516,  1.1366,  0.4962, -0.7609,  0.6991, -1.2275, -1.1475,\n",
            "         0.6099, -1.2269, -1.6083, -2.0110,  0.5692, -1.1443, -0.2173,  0.1612,\n",
            "         1.6685,  1.2733, -0.8999, -0.6633, -1.1776,  1.3009,  2.1090,  0.3590,\n",
            "        -0.1263, -0.4534], dtype=torch.float64)\n"
          ],
          "name": "stdout"
        }
      ]
    },
    {
      "cell_type": "code",
      "metadata": {
        "id": "50cqsTMxQXEm"
      },
      "source": [
        "model = DecoderRNN().cuda()"
      ],
      "execution_count": 6,
      "outputs": []
    },
    {
      "cell_type": "code",
      "metadata": {
        "id": "32G-MJC_QcKP"
      },
      "source": [
        "optimizer = torch.optim.Adam(model.parameters(),lr = 0.00001, betas = (.9,.999))#ideal\n"
      ],
      "execution_count": 7,
      "outputs": []
    },
    {
      "cell_type": "code",
      "metadata": {
        "id": "60xL8p9QeQc-"
      },
      "source": [
        "import torch\n",
        "from torch.utils.tensorboard import SummaryWriter\n",
        "writer = SummaryWriter()\n"
      ],
      "execution_count": 8,
      "outputs": []
    },
    {
      "cell_type": "code",
      "metadata": {
        "id": "PjpFwX8MQlPe",
        "colab": {
          "base_uri": "https://localhost:8080/",
          "height": 1000
        },
        "outputId": "6265d7d1-bccb-4cb9-9b4d-475ff8382034"
      },
      "source": [
        "model = model.train()\n",
        "for epoch in range (10):\n",
        "  loss = None\n",
        "  for x,y in loader_train:\n",
        "    h0 = None\n",
        "    c0 = None\n",
        "    for i in range(19):\n",
        "      x = x.cuda()\n",
        "      y = y.cuda()\n",
        "      \n",
        "      optimizer.zero_grad()\n",
        "      \n",
        "      out, h0, c0 = model(x,y[:,i*50:50*(i+1),:2],h0,c0,ind = i)\n",
        "      loss = torch.mean((out-y[:,1+(50*i):1+(50*(i+1)),:2])**2)\n",
        "      writer.add_scalar(\"Loss/train\", loss, epoch)\n",
        "\n",
        "      loss.backward()\n",
        "      optimizer.step()\n",
        "    #print(y[:,0,:2])\n",
        "    print('epoch',epoch)\n",
        "    print(loss)"
      ],
      "execution_count": 9,
      "outputs": [
        {
          "output_type": "stream",
          "text": [
            "/usr/local/lib/python3.7/dist-packages/torch/utils/data/dataloader.py:477: UserWarning: This DataLoader will create 4 worker processes in total. Our suggested max number of worker in current system is 2, which is smaller than what this DataLoader is going to create. Please be aware that excessive worker creation might get DataLoader running slow or even freeze, lower the worker number to avoid potential slowness/freeze if necessary.\n",
            "  cpuset_checked))\n",
            "/usr/local/lib/python3.7/dist-packages/torch/nn/modules/container.py:119: UserWarning: Implicit dimension choice for softmax has been deprecated. Change the call to include dim=X as an argument.\n",
            "  input = module(input)\n"
          ],
          "name": "stderr"
        },
        {
          "output_type": "stream",
          "text": [
            "epoch 0\n",
            "tensor(45.6472, device='cuda:0', grad_fn=<MeanBackward0>)\n",
            "epoch 0\n",
            "tensor(47.6719, device='cuda:0', grad_fn=<MeanBackward0>)\n",
            "epoch 0\n",
            "tensor(47.1485, device='cuda:0', grad_fn=<MeanBackward0>)\n",
            "epoch 0\n",
            "tensor(45.8265, device='cuda:0', grad_fn=<MeanBackward0>)\n",
            "epoch 0\n",
            "tensor(47.1066, device='cuda:0', grad_fn=<MeanBackward0>)\n",
            "epoch 0\n",
            "tensor(45.2092, device='cuda:0', grad_fn=<MeanBackward0>)\n",
            "epoch 0\n",
            "tensor(50.6628, device='cuda:0', grad_fn=<MeanBackward0>)\n",
            "epoch 0\n",
            "tensor(43.6845, device='cuda:0', grad_fn=<MeanBackward0>)\n",
            "epoch 0\n",
            "tensor(46.6105, device='cuda:0', grad_fn=<MeanBackward0>)\n",
            "epoch 0\n",
            "tensor(47.7911, device='cuda:0', grad_fn=<MeanBackward0>)\n",
            "epoch 0\n",
            "tensor(49.6588, device='cuda:0', grad_fn=<MeanBackward0>)\n",
            "epoch 0\n",
            "tensor(nan, device='cuda:0', grad_fn=<MeanBackward0>)\n",
            "epoch 0\n",
            "tensor(nan, device='cuda:0', grad_fn=<MeanBackward0>)\n",
            "epoch 0\n",
            "tensor(nan, device='cuda:0', grad_fn=<MeanBackward0>)\n",
            "epoch 0\n",
            "tensor(nan, device='cuda:0', grad_fn=<MeanBackward0>)\n",
            "epoch 0\n",
            "tensor(nan, device='cuda:0', grad_fn=<MeanBackward0>)\n"
          ],
          "name": "stdout"
        },
        {
          "output_type": "error",
          "ename": "KeyboardInterrupt",
          "evalue": "ignored",
          "traceback": [
            "\u001b[0;31m---------------------------------------------------------------------------\u001b[0m",
            "\u001b[0;31mKeyboardInterrupt\u001b[0m                         Traceback (most recent call last)",
            "\u001b[0;32m<ipython-input-9-b5d8f0c26f72>\u001b[0m in \u001b[0;36m<module>\u001b[0;34m()\u001b[0m\n\u001b[1;32m     11\u001b[0m       \u001b[0moptimizer\u001b[0m\u001b[0;34m.\u001b[0m\u001b[0mzero_grad\u001b[0m\u001b[0;34m(\u001b[0m\u001b[0;34m)\u001b[0m\u001b[0;34m\u001b[0m\u001b[0;34m\u001b[0m\u001b[0m\n\u001b[1;32m     12\u001b[0m \u001b[0;34m\u001b[0m\u001b[0m\n\u001b[0;32m---> 13\u001b[0;31m       \u001b[0mout\u001b[0m\u001b[0;34m,\u001b[0m \u001b[0mh0\u001b[0m\u001b[0;34m,\u001b[0m \u001b[0mc0\u001b[0m \u001b[0;34m=\u001b[0m \u001b[0mmodel\u001b[0m\u001b[0;34m(\u001b[0m\u001b[0mx\u001b[0m\u001b[0;34m,\u001b[0m\u001b[0my\u001b[0m\u001b[0;34m[\u001b[0m\u001b[0;34m:\u001b[0m\u001b[0;34m,\u001b[0m\u001b[0mi\u001b[0m\u001b[0;34m*\u001b[0m\u001b[0;36m50\u001b[0m\u001b[0;34m:\u001b[0m\u001b[0;36m50\u001b[0m\u001b[0;34m*\u001b[0m\u001b[0;34m(\u001b[0m\u001b[0mi\u001b[0m\u001b[0;34m+\u001b[0m\u001b[0;36m1\u001b[0m\u001b[0;34m)\u001b[0m\u001b[0;34m,\u001b[0m\u001b[0;34m:\u001b[0m\u001b[0;36m2\u001b[0m\u001b[0;34m]\u001b[0m\u001b[0;34m,\u001b[0m\u001b[0mh0\u001b[0m\u001b[0;34m,\u001b[0m\u001b[0mc0\u001b[0m\u001b[0;34m,\u001b[0m\u001b[0mind\u001b[0m \u001b[0;34m=\u001b[0m \u001b[0mi\u001b[0m\u001b[0;34m)\u001b[0m\u001b[0;34m\u001b[0m\u001b[0;34m\u001b[0m\u001b[0m\n\u001b[0m\u001b[1;32m     14\u001b[0m       \u001b[0mloss\u001b[0m \u001b[0;34m=\u001b[0m \u001b[0mtorch\u001b[0m\u001b[0;34m.\u001b[0m\u001b[0mmean\u001b[0m\u001b[0;34m(\u001b[0m\u001b[0;34m(\u001b[0m\u001b[0mout\u001b[0m\u001b[0;34m-\u001b[0m\u001b[0my\u001b[0m\u001b[0;34m[\u001b[0m\u001b[0;34m:\u001b[0m\u001b[0;34m,\u001b[0m\u001b[0;36m1\u001b[0m\u001b[0;34m+\u001b[0m\u001b[0;34m(\u001b[0m\u001b[0;36m50\u001b[0m\u001b[0;34m*\u001b[0m\u001b[0mi\u001b[0m\u001b[0;34m)\u001b[0m\u001b[0;34m:\u001b[0m\u001b[0;36m1\u001b[0m\u001b[0;34m+\u001b[0m\u001b[0;34m(\u001b[0m\u001b[0;36m50\u001b[0m\u001b[0;34m*\u001b[0m\u001b[0;34m(\u001b[0m\u001b[0mi\u001b[0m\u001b[0;34m+\u001b[0m\u001b[0;36m1\u001b[0m\u001b[0;34m)\u001b[0m\u001b[0;34m)\u001b[0m\u001b[0;34m,\u001b[0m\u001b[0;34m:\u001b[0m\u001b[0;36m2\u001b[0m\u001b[0;34m]\u001b[0m\u001b[0;34m)\u001b[0m\u001b[0;34m**\u001b[0m\u001b[0;36m2\u001b[0m\u001b[0;34m)\u001b[0m\u001b[0;34m\u001b[0m\u001b[0;34m\u001b[0m\u001b[0m\n\u001b[1;32m     15\u001b[0m       \u001b[0mwriter\u001b[0m\u001b[0;34m.\u001b[0m\u001b[0madd_scalar\u001b[0m\u001b[0;34m(\u001b[0m\u001b[0;34m\"Loss/train\"\u001b[0m\u001b[0;34m,\u001b[0m \u001b[0mloss\u001b[0m\u001b[0;34m,\u001b[0m \u001b[0mepoch\u001b[0m\u001b[0;34m)\u001b[0m\u001b[0;34m\u001b[0m\u001b[0;34m\u001b[0m\u001b[0m\n",
            "\u001b[0;32m/usr/local/lib/python3.7/dist-packages/torch/nn/modules/module.py\u001b[0m in \u001b[0;36m_call_impl\u001b[0;34m(self, *input, **kwargs)\u001b[0m\n\u001b[1;32m    887\u001b[0m             \u001b[0mresult\u001b[0m \u001b[0;34m=\u001b[0m \u001b[0mself\u001b[0m\u001b[0;34m.\u001b[0m\u001b[0m_slow_forward\u001b[0m\u001b[0;34m(\u001b[0m\u001b[0;34m*\u001b[0m\u001b[0minput\u001b[0m\u001b[0;34m,\u001b[0m \u001b[0;34m**\u001b[0m\u001b[0mkwargs\u001b[0m\u001b[0;34m)\u001b[0m\u001b[0;34m\u001b[0m\u001b[0;34m\u001b[0m\u001b[0m\n\u001b[1;32m    888\u001b[0m         \u001b[0;32melse\u001b[0m\u001b[0;34m:\u001b[0m\u001b[0;34m\u001b[0m\u001b[0;34m\u001b[0m\u001b[0m\n\u001b[0;32m--> 889\u001b[0;31m             \u001b[0mresult\u001b[0m \u001b[0;34m=\u001b[0m \u001b[0mself\u001b[0m\u001b[0;34m.\u001b[0m\u001b[0mforward\u001b[0m\u001b[0;34m(\u001b[0m\u001b[0;34m*\u001b[0m\u001b[0minput\u001b[0m\u001b[0;34m,\u001b[0m \u001b[0;34m**\u001b[0m\u001b[0mkwargs\u001b[0m\u001b[0;34m)\u001b[0m\u001b[0;34m\u001b[0m\u001b[0;34m\u001b[0m\u001b[0m\n\u001b[0m\u001b[1;32m    890\u001b[0m         for hook in itertools.chain(\n\u001b[1;32m    891\u001b[0m                 \u001b[0m_global_forward_hooks\u001b[0m\u001b[0;34m.\u001b[0m\u001b[0mvalues\u001b[0m\u001b[0;34m(\u001b[0m\u001b[0;34m)\u001b[0m\u001b[0;34m,\u001b[0m\u001b[0;34m\u001b[0m\u001b[0;34m\u001b[0m\u001b[0m\n",
            "\u001b[0;32m<ipython-input-4-f4a74e3e2373>\u001b[0m in \u001b[0;36mforward\u001b[0;34m(self, features, captions, h0, c0, ind)\u001b[0m\n\u001b[1;32m    114\u001b[0m \u001b[0;34m\u001b[0m\u001b[0m\n\u001b[1;32m    115\u001b[0m             \u001b[0;31m#print(\"4\",ar_in.shape,torch.flatten(self.longtermMem,start_dim=1).shape, emb.shape,hidden_state[-1,:,:].shape)\u001b[0m\u001b[0;34m\u001b[0m\u001b[0;34m\u001b[0m\u001b[0;34m\u001b[0m\u001b[0m\n\u001b[0;32m--> 116\u001b[0;31m             \u001b[0malpharead\u001b[0m \u001b[0;34m=\u001b[0m \u001b[0mself\u001b[0m\u001b[0;34m.\u001b[0m\u001b[0malpharead\u001b[0m\u001b[0;34m(\u001b[0m\u001b[0mar_in\u001b[0m\u001b[0;34m)\u001b[0m\u001b[0;34m\u001b[0m\u001b[0;34m\u001b[0m\u001b[0m\n\u001b[0m\u001b[1;32m    117\u001b[0m             \u001b[0;31m#print('4.1',self.longtermMem.shape,alpharead.unsqueeze(1).shape)\u001b[0m\u001b[0;34m\u001b[0m\u001b[0;34m\u001b[0m\u001b[0;34m\u001b[0m\u001b[0m\n\u001b[1;32m    118\u001b[0m             \u001b[0moutesreada\u001b[0m \u001b[0;34m=\u001b[0m \u001b[0mself\u001b[0m\u001b[0;34m.\u001b[0m\u001b[0mlongtermMem\u001b[0m\u001b[0;34m.\u001b[0m\u001b[0mclone\u001b[0m\u001b[0;34m(\u001b[0m\u001b[0;34m)\u001b[0m\u001b[0;34m*\u001b[0m\u001b[0malpharead\u001b[0m\u001b[0;34m.\u001b[0m\u001b[0munsqueeze\u001b[0m\u001b[0;34m(\u001b[0m\u001b[0;36m1\u001b[0m\u001b[0;34m)\u001b[0m\u001b[0;34m\u001b[0m\u001b[0;34m\u001b[0m\u001b[0m\n",
            "\u001b[0;32m/usr/local/lib/python3.7/dist-packages/torch/nn/modules/module.py\u001b[0m in \u001b[0;36m_call_impl\u001b[0;34m(self, *input, **kwargs)\u001b[0m\n\u001b[1;32m    887\u001b[0m             \u001b[0mresult\u001b[0m \u001b[0;34m=\u001b[0m \u001b[0mself\u001b[0m\u001b[0;34m.\u001b[0m\u001b[0m_slow_forward\u001b[0m\u001b[0;34m(\u001b[0m\u001b[0;34m*\u001b[0m\u001b[0minput\u001b[0m\u001b[0;34m,\u001b[0m \u001b[0;34m**\u001b[0m\u001b[0mkwargs\u001b[0m\u001b[0;34m)\u001b[0m\u001b[0;34m\u001b[0m\u001b[0;34m\u001b[0m\u001b[0m\n\u001b[1;32m    888\u001b[0m         \u001b[0;32melse\u001b[0m\u001b[0;34m:\u001b[0m\u001b[0;34m\u001b[0m\u001b[0;34m\u001b[0m\u001b[0m\n\u001b[0;32m--> 889\u001b[0;31m             \u001b[0mresult\u001b[0m \u001b[0;34m=\u001b[0m \u001b[0mself\u001b[0m\u001b[0;34m.\u001b[0m\u001b[0mforward\u001b[0m\u001b[0;34m(\u001b[0m\u001b[0;34m*\u001b[0m\u001b[0minput\u001b[0m\u001b[0;34m,\u001b[0m \u001b[0;34m**\u001b[0m\u001b[0mkwargs\u001b[0m\u001b[0;34m)\u001b[0m\u001b[0;34m\u001b[0m\u001b[0;34m\u001b[0m\u001b[0m\n\u001b[0m\u001b[1;32m    890\u001b[0m         for hook in itertools.chain(\n\u001b[1;32m    891\u001b[0m                 \u001b[0m_global_forward_hooks\u001b[0m\u001b[0;34m.\u001b[0m\u001b[0mvalues\u001b[0m\u001b[0;34m(\u001b[0m\u001b[0;34m)\u001b[0m\u001b[0;34m,\u001b[0m\u001b[0;34m\u001b[0m\u001b[0;34m\u001b[0m\u001b[0m\n",
            "\u001b[0;32m/usr/local/lib/python3.7/dist-packages/torch/nn/modules/container.py\u001b[0m in \u001b[0;36mforward\u001b[0;34m(self, input)\u001b[0m\n\u001b[1;32m    117\u001b[0m     \u001b[0;32mdef\u001b[0m \u001b[0mforward\u001b[0m\u001b[0;34m(\u001b[0m\u001b[0mself\u001b[0m\u001b[0;34m,\u001b[0m \u001b[0minput\u001b[0m\u001b[0;34m)\u001b[0m\u001b[0;34m:\u001b[0m\u001b[0;34m\u001b[0m\u001b[0;34m\u001b[0m\u001b[0m\n\u001b[1;32m    118\u001b[0m         \u001b[0;32mfor\u001b[0m \u001b[0mmodule\u001b[0m \u001b[0;32min\u001b[0m \u001b[0mself\u001b[0m\u001b[0;34m:\u001b[0m\u001b[0;34m\u001b[0m\u001b[0;34m\u001b[0m\u001b[0m\n\u001b[0;32m--> 119\u001b[0;31m             \u001b[0minput\u001b[0m \u001b[0;34m=\u001b[0m \u001b[0mmodule\u001b[0m\u001b[0;34m(\u001b[0m\u001b[0minput\u001b[0m\u001b[0;34m)\u001b[0m\u001b[0;34m\u001b[0m\u001b[0;34m\u001b[0m\u001b[0m\n\u001b[0m\u001b[1;32m    120\u001b[0m         \u001b[0;32mreturn\u001b[0m \u001b[0minput\u001b[0m\u001b[0;34m\u001b[0m\u001b[0;34m\u001b[0m\u001b[0m\n\u001b[1;32m    121\u001b[0m \u001b[0;34m\u001b[0m\u001b[0m\n",
            "\u001b[0;32m/usr/local/lib/python3.7/dist-packages/torch/nn/modules/module.py\u001b[0m in \u001b[0;36m_call_impl\u001b[0;34m(self, *input, **kwargs)\u001b[0m\n\u001b[1;32m    887\u001b[0m             \u001b[0mresult\u001b[0m \u001b[0;34m=\u001b[0m \u001b[0mself\u001b[0m\u001b[0;34m.\u001b[0m\u001b[0m_slow_forward\u001b[0m\u001b[0;34m(\u001b[0m\u001b[0;34m*\u001b[0m\u001b[0minput\u001b[0m\u001b[0;34m,\u001b[0m \u001b[0;34m**\u001b[0m\u001b[0mkwargs\u001b[0m\u001b[0;34m)\u001b[0m\u001b[0;34m\u001b[0m\u001b[0;34m\u001b[0m\u001b[0m\n\u001b[1;32m    888\u001b[0m         \u001b[0;32melse\u001b[0m\u001b[0;34m:\u001b[0m\u001b[0;34m\u001b[0m\u001b[0;34m\u001b[0m\u001b[0m\n\u001b[0;32m--> 889\u001b[0;31m             \u001b[0mresult\u001b[0m \u001b[0;34m=\u001b[0m \u001b[0mself\u001b[0m\u001b[0;34m.\u001b[0m\u001b[0mforward\u001b[0m\u001b[0;34m(\u001b[0m\u001b[0;34m*\u001b[0m\u001b[0minput\u001b[0m\u001b[0;34m,\u001b[0m \u001b[0;34m**\u001b[0m\u001b[0mkwargs\u001b[0m\u001b[0;34m)\u001b[0m\u001b[0;34m\u001b[0m\u001b[0;34m\u001b[0m\u001b[0m\n\u001b[0m\u001b[1;32m    890\u001b[0m         for hook in itertools.chain(\n\u001b[1;32m    891\u001b[0m                 \u001b[0m_global_forward_hooks\u001b[0m\u001b[0;34m.\u001b[0m\u001b[0mvalues\u001b[0m\u001b[0;34m(\u001b[0m\u001b[0;34m)\u001b[0m\u001b[0;34m,\u001b[0m\u001b[0;34m\u001b[0m\u001b[0;34m\u001b[0m\u001b[0m\n",
            "\u001b[0;32m/usr/local/lib/python3.7/dist-packages/torch/nn/modules/activation.py\u001b[0m in \u001b[0;36mforward\u001b[0;34m(self, input)\u001b[0m\n\u001b[1;32m   1198\u001b[0m \u001b[0;34m\u001b[0m\u001b[0m\n\u001b[1;32m   1199\u001b[0m     \u001b[0;32mdef\u001b[0m \u001b[0mforward\u001b[0m\u001b[0;34m(\u001b[0m\u001b[0mself\u001b[0m\u001b[0;34m,\u001b[0m \u001b[0minput\u001b[0m\u001b[0;34m:\u001b[0m \u001b[0mTensor\u001b[0m\u001b[0;34m)\u001b[0m \u001b[0;34m->\u001b[0m \u001b[0mTensor\u001b[0m\u001b[0;34m:\u001b[0m\u001b[0;34m\u001b[0m\u001b[0;34m\u001b[0m\u001b[0m\n\u001b[0;32m-> 1200\u001b[0;31m         \u001b[0;32mreturn\u001b[0m \u001b[0mF\u001b[0m\u001b[0;34m.\u001b[0m\u001b[0msoftmax\u001b[0m\u001b[0;34m(\u001b[0m\u001b[0minput\u001b[0m\u001b[0;34m,\u001b[0m \u001b[0mself\u001b[0m\u001b[0;34m.\u001b[0m\u001b[0mdim\u001b[0m\u001b[0;34m,\u001b[0m \u001b[0m_stacklevel\u001b[0m\u001b[0;34m=\u001b[0m\u001b[0;36m5\u001b[0m\u001b[0;34m)\u001b[0m\u001b[0;34m\u001b[0m\u001b[0;34m\u001b[0m\u001b[0m\n\u001b[0m\u001b[1;32m   1201\u001b[0m \u001b[0;34m\u001b[0m\u001b[0m\n\u001b[1;32m   1202\u001b[0m     \u001b[0;32mdef\u001b[0m \u001b[0mextra_repr\u001b[0m\u001b[0;34m(\u001b[0m\u001b[0mself\u001b[0m\u001b[0;34m)\u001b[0m \u001b[0;34m->\u001b[0m \u001b[0mstr\u001b[0m\u001b[0;34m:\u001b[0m\u001b[0;34m\u001b[0m\u001b[0;34m\u001b[0m\u001b[0m\n",
            "\u001b[0;32m/usr/local/lib/python3.7/dist-packages/torch/nn/functional.py\u001b[0m in \u001b[0;36msoftmax\u001b[0;34m(input, dim, _stacklevel, dtype)\u001b[0m\n\u001b[1;32m   1579\u001b[0m         \u001b[0;32mreturn\u001b[0m \u001b[0mhandle_torch_function\u001b[0m\u001b[0;34m(\u001b[0m\u001b[0msoftmax\u001b[0m\u001b[0;34m,\u001b[0m \u001b[0;34m(\u001b[0m\u001b[0minput\u001b[0m\u001b[0;34m,\u001b[0m\u001b[0;34m)\u001b[0m\u001b[0;34m,\u001b[0m \u001b[0minput\u001b[0m\u001b[0;34m,\u001b[0m \u001b[0mdim\u001b[0m\u001b[0;34m=\u001b[0m\u001b[0mdim\u001b[0m\u001b[0;34m,\u001b[0m \u001b[0m_stacklevel\u001b[0m\u001b[0;34m=\u001b[0m\u001b[0m_stacklevel\u001b[0m\u001b[0;34m,\u001b[0m \u001b[0mdtype\u001b[0m\u001b[0;34m=\u001b[0m\u001b[0mdtype\u001b[0m\u001b[0;34m)\u001b[0m\u001b[0;34m\u001b[0m\u001b[0;34m\u001b[0m\u001b[0m\n\u001b[1;32m   1580\u001b[0m     \u001b[0;32mif\u001b[0m \u001b[0mdim\u001b[0m \u001b[0;32mis\u001b[0m \u001b[0;32mNone\u001b[0m\u001b[0;34m:\u001b[0m\u001b[0;34m\u001b[0m\u001b[0;34m\u001b[0m\u001b[0m\n\u001b[0;32m-> 1581\u001b[0;31m         \u001b[0mdim\u001b[0m \u001b[0;34m=\u001b[0m \u001b[0m_get_softmax_dim\u001b[0m\u001b[0;34m(\u001b[0m\u001b[0;34m\"softmax\"\u001b[0m\u001b[0;34m,\u001b[0m \u001b[0minput\u001b[0m\u001b[0;34m.\u001b[0m\u001b[0mdim\u001b[0m\u001b[0;34m(\u001b[0m\u001b[0;34m)\u001b[0m\u001b[0;34m,\u001b[0m \u001b[0m_stacklevel\u001b[0m\u001b[0;34m)\u001b[0m\u001b[0;34m\u001b[0m\u001b[0;34m\u001b[0m\u001b[0m\n\u001b[0m\u001b[1;32m   1582\u001b[0m     \u001b[0;32mif\u001b[0m \u001b[0mdtype\u001b[0m \u001b[0;32mis\u001b[0m \u001b[0;32mNone\u001b[0m\u001b[0;34m:\u001b[0m\u001b[0;34m\u001b[0m\u001b[0;34m\u001b[0m\u001b[0m\n\u001b[1;32m   1583\u001b[0m         \u001b[0mret\u001b[0m \u001b[0;34m=\u001b[0m \u001b[0minput\u001b[0m\u001b[0;34m.\u001b[0m\u001b[0msoftmax\u001b[0m\u001b[0;34m(\u001b[0m\u001b[0mdim\u001b[0m\u001b[0;34m)\u001b[0m\u001b[0;34m\u001b[0m\u001b[0;34m\u001b[0m\u001b[0m\n",
            "\u001b[0;32m/usr/local/lib/python3.7/dist-packages/torch/nn/functional.py\u001b[0m in \u001b[0;36m_get_softmax_dim\u001b[0;34m(name, ndim, stacklevel)\u001b[0m\n\u001b[1;32m   1516\u001b[0m         \u001b[0;34m\"Implicit dimension choice for {} has been deprecated. \"\u001b[0m\u001b[0;34m\u001b[0m\u001b[0;34m\u001b[0m\u001b[0m\n\u001b[1;32m   1517\u001b[0m         \u001b[0;34m\"Change the call to include dim=X as an argument.\"\u001b[0m\u001b[0;34m.\u001b[0m\u001b[0mformat\u001b[0m\u001b[0;34m(\u001b[0m\u001b[0mname\u001b[0m\u001b[0;34m)\u001b[0m\u001b[0;34m,\u001b[0m\u001b[0;34m\u001b[0m\u001b[0;34m\u001b[0m\u001b[0m\n\u001b[0;32m-> 1518\u001b[0;31m         \u001b[0mstacklevel\u001b[0m\u001b[0;34m=\u001b[0m\u001b[0mstacklevel\u001b[0m\u001b[0;34m,\u001b[0m\u001b[0;34m\u001b[0m\u001b[0;34m\u001b[0m\u001b[0m\n\u001b[0m\u001b[1;32m   1519\u001b[0m     )\n\u001b[1;32m   1520\u001b[0m     \u001b[0;32mif\u001b[0m \u001b[0mndim\u001b[0m \u001b[0;34m==\u001b[0m \u001b[0;36m0\u001b[0m \u001b[0;32mor\u001b[0m \u001b[0mndim\u001b[0m \u001b[0;34m==\u001b[0m \u001b[0;36m1\u001b[0m \u001b[0;32mor\u001b[0m \u001b[0mndim\u001b[0m \u001b[0;34m==\u001b[0m \u001b[0;36m3\u001b[0m\u001b[0;34m:\u001b[0m\u001b[0;34m\u001b[0m\u001b[0;34m\u001b[0m\u001b[0m\n",
            "\u001b[0;31mKeyboardInterrupt\u001b[0m: "
          ]
        }
      ]
    },
    {
      "cell_type": "code",
      "metadata": {
        "id": "iWZWJn4i_R5x"
      },
      "source": [
        "optimizer = torch.optim.Adam(model.parameters(),lr = 0.00001, betas = (.9,.999))#ideal\n"
      ],
      "execution_count": null,
      "outputs": []
    },
    {
      "cell_type": "code",
      "metadata": {
        "id": "Wy5pDfQL_SRf"
      },
      "source": [
        "model = model.train()\n",
        "for epoch in range (5):\n",
        "  loss = None\n",
        "  for x,y in loader_train:\n",
        "    h0 = None\n",
        "    c0 = None\n",
        "    for i in range(19):\n",
        "      x = x.cuda()\n",
        "      y = y.cuda()\n",
        "      \n",
        "      optimizer.zero_grad()\n",
        "      #print(x.shape,y.shape)\n",
        "\n",
        "      out, h0, c0 = model(x,y[:,i*50:50*(i+1),:2],h0,c0,ind = i)\n",
        "      loss = torch.mean((out-y[:,1+(50*i):1+(50*(i+1)),:2])**2)\n",
        "      writer.add_scalar(\"Loss/train\", loss, epoch)\n",
        "\n",
        "      loss.backward()\n",
        "      optimizer.step()\n",
        "    #print(y[:,0,:2])\n",
        "    print('epoch',epoch)\n",
        "    print(loss)"
      ],
      "execution_count": null,
      "outputs": []
    },
    {
      "cell_type": "code",
      "metadata": {
        "id": "5f2yqqZ1moLH"
      },
      "source": [
        "optimizer = torch.optim.Adam(model.parameters(),lr = 0.000001, betas = (.9,.999))#ideal\n"
      ],
      "execution_count": null,
      "outputs": []
    },
    {
      "cell_type": "code",
      "metadata": {
        "id": "1_tsXZyNmvzf"
      },
      "source": [
        "model = model.train()\n",
        "for epoch in range (5):\n",
        "  loss = None\n",
        "  for x,y in loader_train:\n",
        "    h0 = None\n",
        "    c0 = None\n",
        "    for i in range(19):\n",
        "      x = x.cuda()\n",
        "      y = y.cuda()\n",
        "      \n",
        "      optimizer.zero_grad()\n",
        "      #print(x.shape,y.shape)\n",
        "\n",
        "      out, h0, c0 = model(x,y[:,i*50:50*(i+1),:2],h0,c0,ind = i)\n",
        "      loss = torch.mean((out-y[:,1+(50*i):1+(50*(i+1)),:2])**2)\n",
        "      writer.add_scalar(\"Loss/train\", loss, epoch)\n",
        "\n",
        "      loss.backward()\n",
        "      optimizer.step()\n",
        "    #print(y[:,0,:2])\n",
        "    print('epoch',epoch)\n",
        "    print(loss)"
      ],
      "execution_count": null,
      "outputs": []
    },
    {
      "cell_type": "code",
      "metadata": {
        "id": "ydanEA5r8zVX"
      },
      "source": [
        "from torch.utils import data\n",
        "from torch.utils.data import DataLoader, TensorDataset, RandomSampler\n",
        "\n",
        "mini_batch = 64\n",
        "test_dataset = DonutDataset(length = 64)\n",
        "loader_test = data.DataLoader(\n",
        "    test_dataset, \n",
        "    batch_size=mini_batch,\n",
        "    sampler=RandomSampler(data_source=test_dataset),\n",
        "    num_workers=4)\n"
      ],
      "execution_count": null,
      "outputs": []
    },
    {
      "cell_type": "code",
      "metadata": {
        "id": "EorbMkSA9DmY"
      },
      "source": [
        "model = model.eval()\n",
        "for epoch in range (1):\n",
        "  loss = None\n",
        "  for x,y in loader_test:\n",
        "    h0 = None\n",
        "    c0 = None\n",
        "    loss = torch.zeros(19)\n",
        "    for i in range(19):\n",
        "      x = x.cuda()\n",
        "      y = y.cuda()\n",
        "      \n",
        "      #print(x.shape,y.shape)\n",
        "\n",
        "      out, h0, c0 = model(x,y[:,i*50:50*(i+1),:2],h0,c0,ind = i)\n",
        "      \n",
        "      loss[i] = torch.mean((out-y[:,1+(50*i):1+(50*(i+1)),:2])**2)\n",
        "      print(loss[i])\n",
        "      writer.add_scalar(\"Loss/val\", loss[i],i, epoch)\n",
        "\n",
        "    #print(y[:,0,:2])\n",
        "    print('epoch',epoch)\n",
        "    print('test loss', torch.mean(loss))"
      ],
      "execution_count": null,
      "outputs": []
    },
    {
      "cell_type": "code",
      "metadata": {
        "id": "5AZseYD-Qotc"
      },
      "source": [
        "writer.flush()\n",
        "writer.close()\n"
      ],
      "execution_count": null,
      "outputs": []
    },
    {
      "cell_type": "markdown",
      "metadata": {
        "id": "vhtkwoET6Nc1"
      },
      "source": [
        "**started** with .0001 then moved to .00001 learning rate (20 epochs) \n",
        "finished with .000001 lr, but didn't see much more improvement (total 60 epochs 20,20,20) extra 20 over previous comment"
      ]
    },
    {
      "cell_type": "code",
      "metadata": {
        "id": "g9qtXdY1gAgc"
      },
      "source": [
        "#%load_ext tensorboard"
      ],
      "execution_count": null,
      "outputs": []
    },
    {
      "cell_type": "code",
      "metadata": {
        "id": "L7IqU3hQfmMa"
      },
      "source": [
        "#!kill 3285\n",
        "#%tensorboard --logdir runs"
      ],
      "execution_count": null,
      "outputs": []
    },
    {
      "cell_type": "code",
      "metadata": {
        "id": "8S6n0-Q4xAg5"
      },
      "source": [
        "pred_dataset = DonutDataset(length = 100)"
      ],
      "execution_count": null,
      "outputs": []
    },
    {
      "cell_type": "code",
      "metadata": {
        "id": "K8vn01RqKGky"
      },
      "source": [
        "\n",
        "DonutDataset.displayCanvas('lstmpredictions.png',pred_dataset, model = model)\n"
      ],
      "execution_count": null,
      "outputs": []
    },
    {
      "cell_type": "code",
      "metadata": {
        "id": "AaUzrte6xVhr"
      },
      "source": [
        ""
      ],
      "execution_count": null,
      "outputs": []
    }
  ]
}